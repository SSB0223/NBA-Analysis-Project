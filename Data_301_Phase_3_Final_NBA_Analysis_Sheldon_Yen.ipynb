{
  "nbformat": 4,
  "nbformat_minor": 0,
  "metadata": {
    "colab": {
      "provenance": [],
      "collapsed_sections": [
        "cRJyNy5rHfKH",
        "-f_VsJpOHhYb"
      ]
    },
    "kernelspec": {
      "name": "python3",
      "display_name": "Python 3"
    },
    "language_info": {
      "name": "python"
    }
  },
  "cells": [
    {
      "cell_type": "markdown",
      "source": [
        "The main goal for this project is to be able to predict a starting 5 lineup's statistics when playing with each other. This includes: Points, Rebounds, Assists, Blocks, Steals, etc. An important unit that I wanted to utilize in this project was usage rate, as the model should be able to priortize the statistics of players with higher usage rates (typically 20+% usage rate) over those with lower usage rates (less than 20%)."
      ],
      "metadata": {
        "id": "9ExGHJp6hP28"
      }
    },
    {
      "cell_type": "markdown",
      "source": [
        "**Basis Analysis:**\n",
        "\n",
        "To start, I got a dataset of the needed NBA players from the BallDontLie API and read it as a dataframe. Then, I created a for loop to iterate through each unique team and calculate the team statistics required for usage rate for each individual player. The usage rate formula is as follows:\n",
        "\n",
        "Usage Rate = 100 * ((FGA + 0.44 * FTA + TOV) * (Tm MP / 5)) / (MP * (Tm FGA + 0.44 * Tm FTA + Tm TOV))\n",
        "\n",
        "Once this was calculated, the data was simply appended the results to the data frame.  "
      ],
      "metadata": {
        "id": "DhKTPEgXidxL"
      }
    },
    {
      "cell_type": "code",
      "execution_count": null,
      "metadata": {
        "colab": {
          "base_uri": "https://localhost:8080/",
          "height": 1000
        },
        "id": "YFWHkfhEg6C8",
        "outputId": "24dfe3ef-87c5-4a24-c245-3a293493e9ba"
      },
      "outputs": [
        {
          "output_type": "stream",
          "name": "stdout",
          "text": [
            "MEM\n",
            "MIA\n",
            "MIL\n",
            "CLE\n",
            "MIN\n",
            "CHI\n",
            "TOR\n",
            "PHX\n",
            "DET\n",
            "ORL\n",
            "SAC\n",
            "WAS\n",
            "SAS\n",
            "LAC\n",
            "UTA\n",
            "DAL\n",
            "LAL\n",
            "ATL\n",
            "BOS\n",
            "DEN\n",
            "NYK\n",
            "BKN\n",
            "GSW\n",
            "PHI\n",
            "POR\n",
            "OKC\n",
            "HOU\n",
            "NOP\n",
            "CHA\n",
            "IND\n"
          ]
        },
        {
          "output_type": "stream",
          "name": "stderr",
          "text": [
            "<ipython-input-1-51d8b3ea17d4>:15: SettingWithCopyWarning: \n",
            "A value is trying to be set on a copy of a slice from a DataFrame.\n",
            "Try using .loc[row_indexer,col_indexer] = value instead\n",
            "\n",
            "See the caveats in the documentation: https://pandas.pydata.org/pandas-docs/stable/user_guide/indexing.html#returning-a-view-versus-a-copy\n",
            "  temp['TmMP'] = temp['mpg'].sum()\n",
            "<ipython-input-1-51d8b3ea17d4>:17: SettingWithCopyWarning: \n",
            "A value is trying to be set on a copy of a slice from a DataFrame.\n",
            "Try using .loc[row_indexer,col_indexer] = value instead\n",
            "\n",
            "See the caveats in the documentation: https://pandas.pydata.org/pandas-docs/stable/user_guide/indexing.html#returning-a-view-versus-a-copy\n",
            "  temp['TmFGA'] = temp['fga'].sum()\n",
            "<ipython-input-1-51d8b3ea17d4>:19: SettingWithCopyWarning: \n",
            "A value is trying to be set on a copy of a slice from a DataFrame.\n",
            "Try using .loc[row_indexer,col_indexer] = value instead\n",
            "\n",
            "See the caveats in the documentation: https://pandas.pydata.org/pandas-docs/stable/user_guide/indexing.html#returning-a-view-versus-a-copy\n",
            "  temp['TmFTA'] = temp['fta'].sum()\n",
            "<ipython-input-1-51d8b3ea17d4>:21: SettingWithCopyWarning: \n",
            "A value is trying to be set on a copy of a slice from a DataFrame.\n",
            "Try using .loc[row_indexer,col_indexer] = value instead\n",
            "\n",
            "See the caveats in the documentation: https://pandas.pydata.org/pandas-docs/stable/user_guide/indexing.html#returning-a-view-versus-a-copy\n",
            "  temp['TmTOV'] = temp['turnover'].sum()\n",
            "<ipython-input-1-51d8b3ea17d4>:23: SettingWithCopyWarning: \n",
            "A value is trying to be set on a copy of a slice from a DataFrame.\n",
            "Try using .loc[row_indexer,col_indexer] = value instead\n",
            "\n",
            "See the caveats in the documentation: https://pandas.pydata.org/pandas-docs/stable/user_guide/indexing.html#returning-a-view-versus-a-copy\n",
            "  temp['usage'] = 100 * ((temp['fga'] + 0.44 * temp['fta'] + temp['turnover']) * (temp['TmMP'] / 5)) / (temp['mpg'] * (temp['TmFGA'] + 0.44 * temp['TmFTA'] + temp['TmTOV']))\n"
          ]
        },
        {
          "output_type": "execute_result",
          "data": {
            "text/plain": [
              "       id first_name last_name       full_name  height_feet  height_inches  \\\n",
              "0       3     Steven     Adams    Steven Adams            7              0   \n",
              "1      66     Dillon    Brooks   Dillon Brooks            6              6   \n",
              "2     249       Tyus     Jones      Tyus Jones            6              2   \n",
              "3    3198         Ja    Morant       Ja Morant            6              3   \n",
              "4    3199    Desmond      Bane    Desmond Bane            6              5   \n",
              "..    ...        ...       ...             ...          ...            ...   \n",
              "341  3130      Jalen     Smith     Jalen Smith            6              9   \n",
              "342  3131      Oshae  Brissett  Oshae Brissett            6              7   \n",
              "343  3132     Isaiah   Jackson  Isaiah Jackson            6              9   \n",
              "344  3133      Aaron   Nesmith   Aaron Nesmith            6              5   \n",
              "345  3134       Goga   Bitadze    Goga Bitadze            6             11   \n",
              "\n",
              "     actual_height_ft position  weight_pounds  team.id team.abbreviation  \\\n",
              "0            7.000000        C            265       15               MEM   \n",
              "1            6.500000      G-F            220       15               MEM   \n",
              "2            6.166667        G            196       15               MEM   \n",
              "3            6.250000        G            174       15               MEM   \n",
              "4            6.420000        G            215       15               MEM   \n",
              "..                ...      ...            ...      ...               ...   \n",
              "341          6.750000        F            215       12               IND   \n",
              "342          6.580000        F            210       12               IND   \n",
              "343          6.750000        F            205       12               IND   \n",
              "344          6.420000        F            215       12               IND   \n",
              "345          6.920000        C            250       12               IND   \n",
              "\n",
              "    team.city team.conference team.division     team.full_name  team.name  \\\n",
              "0     Memphis            West     Southwest  Memphis Grizzlies  Grizzlies   \n",
              "1     Memphis            West     Southwest  Memphis Grizzlies  Grizzlies   \n",
              "2     Memphis            West     Southwest  Memphis Grizzlies  Grizzlies   \n",
              "3     Memphis            West     Southwest  Memphis Grizzlies  Grizzlies   \n",
              "4     Memphis            West     Southwest  Memphis Grizzlies  Grizzlies   \n",
              "..        ...             ...           ...                ...        ...   \n",
              "341   Indiana            East       Central     Indiana Pacers     Pacers   \n",
              "342   Indiana            East       Central     Indiana Pacers     Pacers   \n",
              "343   Indiana            East       Central     Indiana Pacers     Pacers   \n",
              "344   Indiana            East       Central     Indiana Pacers     Pacers   \n",
              "345   Indiana            East       Central     Indiana Pacers     Pacers   \n",
              "\n",
              "           mpg    fgm    fga  fg_pct  fg3m  fg3a  fg3_pct   ftm   fta  ft_pct  \\\n",
              "0    26.100000   3.11   5.33   0.583  0.00  0.00    0.000  0.78  2.56   0.304   \n",
              "1    17.766667   3.89   8.89   0.438  1.89  3.78    0.500  1.00  1.56   0.643   \n",
              "2    24.000000   4.89  10.67   0.458  1.56  4.44    0.350  0.44  1.00   0.444   \n",
              "3    33.200000  10.30  21.50   0.480  2.10  5.20    0.403  6.60  8.50   0.782   \n",
              "4    33.500000   8.30  17.80   0.465  3.80  8.50    0.451  4.30  4.80   0.912   \n",
              "..         ...    ...    ...     ...   ...   ...      ...   ...   ...     ...   \n",
              "341  24.000000   4.20   9.50   0.435  1.20  4.10    0.302  1.50  2.20   0.679   \n",
              "342  10.900000   0.90   2.40   0.368  0.40  1.50    0.250  0.60  0.80   0.833   \n",
              "343  18.300000   3.20   5.20   0.618  0.00  0.10    0.000  1.90  2.80   0.676   \n",
              "344  20.800000   2.40   6.30   0.386  1.00  3.40    0.290  1.00  1.20   0.818   \n",
              "345  13.100000   1.80   3.40   0.519  0.10  0.90    0.143  0.90  1.80   0.500   \n",
              "\n",
              "     oreb  dreb    reb   ast   blk   stl    pf  turnover    pts        TmMP  \\\n",
              "0    4.67  6.44  11.11  2.56  1.56  0.78  2.44      2.11   7.00  246.566667   \n",
              "1    0.22  1.33   1.56  1.33  0.00  0.44  2.00      0.89  10.67  246.566667   \n",
              "2    0.33  1.67   2.00  4.22  0.11  0.67  0.67      1.22  11.78  246.566667   \n",
              "3    1.20  4.90   6.20  6.80  0.30  1.20  1.80      3.90  29.30  246.566667   \n",
              "4    0.50  4.40   4.90  4.80  0.30  0.60  2.40      2.30  24.70  246.566667   \n",
              "..    ...   ...    ...   ...   ...   ...   ...       ...    ...         ...   \n",
              "341  1.80  5.80   7.50  1.10  0.80  0.20  2.20      1.50  11.00  230.033333   \n",
              "342  0.60  1.00   1.60  0.40  0.00  0.30  0.50      0.50   2.80  230.033333   \n",
              "343  1.50  3.50   5.10  1.20  1.40  0.50  2.60      1.20   8.40  230.033333   \n",
              "344  0.30  2.80   3.10  1.60  0.80  0.30  2.60      1.00   6.90  230.033333   \n",
              "345  1.60  1.80   3.40  1.50  0.50  0.50  2.30      0.80   4.50  230.033333   \n",
              "\n",
              "     TmFGA  TmFTA  TmTOV      usage  \n",
              "0    96.39  25.22  15.32  13.179526  \n",
              "1    96.39  25.22  15.32  23.655565  \n",
              "2    96.39  25.22  15.32  20.629741  \n",
              "3    96.39  25.22  15.32  35.244667  \n",
              "4    96.39  25.22  15.32  26.624705  \n",
              "..     ...    ...    ...        ...  \n",
              "341  87.33  22.74  15.75  20.287279  \n",
              "342  87.33  22.74  15.75  12.137731  \n",
              "343  87.33  22.74  15.75  16.966831  \n",
              "344  87.33  22.74  15.75  15.310908  \n",
              "345  87.33  22.74  15.75  15.503036  \n",
              "\n",
              "[348 rows x 40 columns]"
            ],
            "text/html": [
              "\n",
              "  <div id=\"df-56506ae1-128c-4f46-bbcd-9c5e302ecc94\">\n",
              "    <div class=\"colab-df-container\">\n",
              "      <div>\n",
              "<style scoped>\n",
              "    .dataframe tbody tr th:only-of-type {\n",
              "        vertical-align: middle;\n",
              "    }\n",
              "\n",
              "    .dataframe tbody tr th {\n",
              "        vertical-align: top;\n",
              "    }\n",
              "\n",
              "    .dataframe thead th {\n",
              "        text-align: right;\n",
              "    }\n",
              "</style>\n",
              "<table border=\"1\" class=\"dataframe\">\n",
              "  <thead>\n",
              "    <tr style=\"text-align: right;\">\n",
              "      <th></th>\n",
              "      <th>id</th>\n",
              "      <th>first_name</th>\n",
              "      <th>last_name</th>\n",
              "      <th>full_name</th>\n",
              "      <th>height_feet</th>\n",
              "      <th>height_inches</th>\n",
              "      <th>actual_height_ft</th>\n",
              "      <th>position</th>\n",
              "      <th>weight_pounds</th>\n",
              "      <th>team.id</th>\n",
              "      <th>team.abbreviation</th>\n",
              "      <th>team.city</th>\n",
              "      <th>team.conference</th>\n",
              "      <th>team.division</th>\n",
              "      <th>team.full_name</th>\n",
              "      <th>team.name</th>\n",
              "      <th>mpg</th>\n",
              "      <th>fgm</th>\n",
              "      <th>fga</th>\n",
              "      <th>fg_pct</th>\n",
              "      <th>fg3m</th>\n",
              "      <th>fg3a</th>\n",
              "      <th>fg3_pct</th>\n",
              "      <th>ftm</th>\n",
              "      <th>fta</th>\n",
              "      <th>ft_pct</th>\n",
              "      <th>oreb</th>\n",
              "      <th>dreb</th>\n",
              "      <th>reb</th>\n",
              "      <th>ast</th>\n",
              "      <th>blk</th>\n",
              "      <th>stl</th>\n",
              "      <th>pf</th>\n",
              "      <th>turnover</th>\n",
              "      <th>pts</th>\n",
              "      <th>TmMP</th>\n",
              "      <th>TmFGA</th>\n",
              "      <th>TmFTA</th>\n",
              "      <th>TmTOV</th>\n",
              "      <th>usage</th>\n",
              "    </tr>\n",
              "  </thead>\n",
              "  <tbody>\n",
              "    <tr>\n",
              "      <th>0</th>\n",
              "      <td>3</td>\n",
              "      <td>Steven</td>\n",
              "      <td>Adams</td>\n",
              "      <td>Steven Adams</td>\n",
              "      <td>7</td>\n",
              "      <td>0</td>\n",
              "      <td>7.000000</td>\n",
              "      <td>C</td>\n",
              "      <td>265</td>\n",
              "      <td>15</td>\n",
              "      <td>MEM</td>\n",
              "      <td>Memphis</td>\n",
              "      <td>West</td>\n",
              "      <td>Southwest</td>\n",
              "      <td>Memphis Grizzlies</td>\n",
              "      <td>Grizzlies</td>\n",
              "      <td>26.100000</td>\n",
              "      <td>3.11</td>\n",
              "      <td>5.33</td>\n",
              "      <td>0.583</td>\n",
              "      <td>0.00</td>\n",
              "      <td>0.00</td>\n",
              "      <td>0.000</td>\n",
              "      <td>0.78</td>\n",
              "      <td>2.56</td>\n",
              "      <td>0.304</td>\n",
              "      <td>4.67</td>\n",
              "      <td>6.44</td>\n",
              "      <td>11.11</td>\n",
              "      <td>2.56</td>\n",
              "      <td>1.56</td>\n",
              "      <td>0.78</td>\n",
              "      <td>2.44</td>\n",
              "      <td>2.11</td>\n",
              "      <td>7.00</td>\n",
              "      <td>246.566667</td>\n",
              "      <td>96.39</td>\n",
              "      <td>25.22</td>\n",
              "      <td>15.32</td>\n",
              "      <td>13.179526</td>\n",
              "    </tr>\n",
              "    <tr>\n",
              "      <th>1</th>\n",
              "      <td>66</td>\n",
              "      <td>Dillon</td>\n",
              "      <td>Brooks</td>\n",
              "      <td>Dillon Brooks</td>\n",
              "      <td>6</td>\n",
              "      <td>6</td>\n",
              "      <td>6.500000</td>\n",
              "      <td>G-F</td>\n",
              "      <td>220</td>\n",
              "      <td>15</td>\n",
              "      <td>MEM</td>\n",
              "      <td>Memphis</td>\n",
              "      <td>West</td>\n",
              "      <td>Southwest</td>\n",
              "      <td>Memphis Grizzlies</td>\n",
              "      <td>Grizzlies</td>\n",
              "      <td>17.766667</td>\n",
              "      <td>3.89</td>\n",
              "      <td>8.89</td>\n",
              "      <td>0.438</td>\n",
              "      <td>1.89</td>\n",
              "      <td>3.78</td>\n",
              "      <td>0.500</td>\n",
              "      <td>1.00</td>\n",
              "      <td>1.56</td>\n",
              "      <td>0.643</td>\n",
              "      <td>0.22</td>\n",
              "      <td>1.33</td>\n",
              "      <td>1.56</td>\n",
              "      <td>1.33</td>\n",
              "      <td>0.00</td>\n",
              "      <td>0.44</td>\n",
              "      <td>2.00</td>\n",
              "      <td>0.89</td>\n",
              "      <td>10.67</td>\n",
              "      <td>246.566667</td>\n",
              "      <td>96.39</td>\n",
              "      <td>25.22</td>\n",
              "      <td>15.32</td>\n",
              "      <td>23.655565</td>\n",
              "    </tr>\n",
              "    <tr>\n",
              "      <th>2</th>\n",
              "      <td>249</td>\n",
              "      <td>Tyus</td>\n",
              "      <td>Jones</td>\n",
              "      <td>Tyus Jones</td>\n",
              "      <td>6</td>\n",
              "      <td>2</td>\n",
              "      <td>6.166667</td>\n",
              "      <td>G</td>\n",
              "      <td>196</td>\n",
              "      <td>15</td>\n",
              "      <td>MEM</td>\n",
              "      <td>Memphis</td>\n",
              "      <td>West</td>\n",
              "      <td>Southwest</td>\n",
              "      <td>Memphis Grizzlies</td>\n",
              "      <td>Grizzlies</td>\n",
              "      <td>24.000000</td>\n",
              "      <td>4.89</td>\n",
              "      <td>10.67</td>\n",
              "      <td>0.458</td>\n",
              "      <td>1.56</td>\n",
              "      <td>4.44</td>\n",
              "      <td>0.350</td>\n",
              "      <td>0.44</td>\n",
              "      <td>1.00</td>\n",
              "      <td>0.444</td>\n",
              "      <td>0.33</td>\n",
              "      <td>1.67</td>\n",
              "      <td>2.00</td>\n",
              "      <td>4.22</td>\n",
              "      <td>0.11</td>\n",
              "      <td>0.67</td>\n",
              "      <td>0.67</td>\n",
              "      <td>1.22</td>\n",
              "      <td>11.78</td>\n",
              "      <td>246.566667</td>\n",
              "      <td>96.39</td>\n",
              "      <td>25.22</td>\n",
              "      <td>15.32</td>\n",
              "      <td>20.629741</td>\n",
              "    </tr>\n",
              "    <tr>\n",
              "      <th>3</th>\n",
              "      <td>3198</td>\n",
              "      <td>Ja</td>\n",
              "      <td>Morant</td>\n",
              "      <td>Ja Morant</td>\n",
              "      <td>6</td>\n",
              "      <td>3</td>\n",
              "      <td>6.250000</td>\n",
              "      <td>G</td>\n",
              "      <td>174</td>\n",
              "      <td>15</td>\n",
              "      <td>MEM</td>\n",
              "      <td>Memphis</td>\n",
              "      <td>West</td>\n",
              "      <td>Southwest</td>\n",
              "      <td>Memphis Grizzlies</td>\n",
              "      <td>Grizzlies</td>\n",
              "      <td>33.200000</td>\n",
              "      <td>10.30</td>\n",
              "      <td>21.50</td>\n",
              "      <td>0.480</td>\n",
              "      <td>2.10</td>\n",
              "      <td>5.20</td>\n",
              "      <td>0.403</td>\n",
              "      <td>6.60</td>\n",
              "      <td>8.50</td>\n",
              "      <td>0.782</td>\n",
              "      <td>1.20</td>\n",
              "      <td>4.90</td>\n",
              "      <td>6.20</td>\n",
              "      <td>6.80</td>\n",
              "      <td>0.30</td>\n",
              "      <td>1.20</td>\n",
              "      <td>1.80</td>\n",
              "      <td>3.90</td>\n",
              "      <td>29.30</td>\n",
              "      <td>246.566667</td>\n",
              "      <td>96.39</td>\n",
              "      <td>25.22</td>\n",
              "      <td>15.32</td>\n",
              "      <td>35.244667</td>\n",
              "    </tr>\n",
              "    <tr>\n",
              "      <th>4</th>\n",
              "      <td>3199</td>\n",
              "      <td>Desmond</td>\n",
              "      <td>Bane</td>\n",
              "      <td>Desmond Bane</td>\n",
              "      <td>6</td>\n",
              "      <td>5</td>\n",
              "      <td>6.420000</td>\n",
              "      <td>G</td>\n",
              "      <td>215</td>\n",
              "      <td>15</td>\n",
              "      <td>MEM</td>\n",
              "      <td>Memphis</td>\n",
              "      <td>West</td>\n",
              "      <td>Southwest</td>\n",
              "      <td>Memphis Grizzlies</td>\n",
              "      <td>Grizzlies</td>\n",
              "      <td>33.500000</td>\n",
              "      <td>8.30</td>\n",
              "      <td>17.80</td>\n",
              "      <td>0.465</td>\n",
              "      <td>3.80</td>\n",
              "      <td>8.50</td>\n",
              "      <td>0.451</td>\n",
              "      <td>4.30</td>\n",
              "      <td>4.80</td>\n",
              "      <td>0.912</td>\n",
              "      <td>0.50</td>\n",
              "      <td>4.40</td>\n",
              "      <td>4.90</td>\n",
              "      <td>4.80</td>\n",
              "      <td>0.30</td>\n",
              "      <td>0.60</td>\n",
              "      <td>2.40</td>\n",
              "      <td>2.30</td>\n",
              "      <td>24.70</td>\n",
              "      <td>246.566667</td>\n",
              "      <td>96.39</td>\n",
              "      <td>25.22</td>\n",
              "      <td>15.32</td>\n",
              "      <td>26.624705</td>\n",
              "    </tr>\n",
              "    <tr>\n",
              "      <th>...</th>\n",
              "      <td>...</td>\n",
              "      <td>...</td>\n",
              "      <td>...</td>\n",
              "      <td>...</td>\n",
              "      <td>...</td>\n",
              "      <td>...</td>\n",
              "      <td>...</td>\n",
              "      <td>...</td>\n",
              "      <td>...</td>\n",
              "      <td>...</td>\n",
              "      <td>...</td>\n",
              "      <td>...</td>\n",
              "      <td>...</td>\n",
              "      <td>...</td>\n",
              "      <td>...</td>\n",
              "      <td>...</td>\n",
              "      <td>...</td>\n",
              "      <td>...</td>\n",
              "      <td>...</td>\n",
              "      <td>...</td>\n",
              "      <td>...</td>\n",
              "      <td>...</td>\n",
              "      <td>...</td>\n",
              "      <td>...</td>\n",
              "      <td>...</td>\n",
              "      <td>...</td>\n",
              "      <td>...</td>\n",
              "      <td>...</td>\n",
              "      <td>...</td>\n",
              "      <td>...</td>\n",
              "      <td>...</td>\n",
              "      <td>...</td>\n",
              "      <td>...</td>\n",
              "      <td>...</td>\n",
              "      <td>...</td>\n",
              "      <td>...</td>\n",
              "      <td>...</td>\n",
              "      <td>...</td>\n",
              "      <td>...</td>\n",
              "      <td>...</td>\n",
              "    </tr>\n",
              "    <tr>\n",
              "      <th>341</th>\n",
              "      <td>3130</td>\n",
              "      <td>Jalen</td>\n",
              "      <td>Smith</td>\n",
              "      <td>Jalen Smith</td>\n",
              "      <td>6</td>\n",
              "      <td>9</td>\n",
              "      <td>6.750000</td>\n",
              "      <td>F</td>\n",
              "      <td>215</td>\n",
              "      <td>12</td>\n",
              "      <td>IND</td>\n",
              "      <td>Indiana</td>\n",
              "      <td>East</td>\n",
              "      <td>Central</td>\n",
              "      <td>Indiana Pacers</td>\n",
              "      <td>Pacers</td>\n",
              "      <td>24.000000</td>\n",
              "      <td>4.20</td>\n",
              "      <td>9.50</td>\n",
              "      <td>0.435</td>\n",
              "      <td>1.20</td>\n",
              "      <td>4.10</td>\n",
              "      <td>0.302</td>\n",
              "      <td>1.50</td>\n",
              "      <td>2.20</td>\n",
              "      <td>0.679</td>\n",
              "      <td>1.80</td>\n",
              "      <td>5.80</td>\n",
              "      <td>7.50</td>\n",
              "      <td>1.10</td>\n",
              "      <td>0.80</td>\n",
              "      <td>0.20</td>\n",
              "      <td>2.20</td>\n",
              "      <td>1.50</td>\n",
              "      <td>11.00</td>\n",
              "      <td>230.033333</td>\n",
              "      <td>87.33</td>\n",
              "      <td>22.74</td>\n",
              "      <td>15.75</td>\n",
              "      <td>20.287279</td>\n",
              "    </tr>\n",
              "    <tr>\n",
              "      <th>342</th>\n",
              "      <td>3131</td>\n",
              "      <td>Oshae</td>\n",
              "      <td>Brissett</td>\n",
              "      <td>Oshae Brissett</td>\n",
              "      <td>6</td>\n",
              "      <td>7</td>\n",
              "      <td>6.580000</td>\n",
              "      <td>F</td>\n",
              "      <td>210</td>\n",
              "      <td>12</td>\n",
              "      <td>IND</td>\n",
              "      <td>Indiana</td>\n",
              "      <td>East</td>\n",
              "      <td>Central</td>\n",
              "      <td>Indiana Pacers</td>\n",
              "      <td>Pacers</td>\n",
              "      <td>10.900000</td>\n",
              "      <td>0.90</td>\n",
              "      <td>2.40</td>\n",
              "      <td>0.368</td>\n",
              "      <td>0.40</td>\n",
              "      <td>1.50</td>\n",
              "      <td>0.250</td>\n",
              "      <td>0.60</td>\n",
              "      <td>0.80</td>\n",
              "      <td>0.833</td>\n",
              "      <td>0.60</td>\n",
              "      <td>1.00</td>\n",
              "      <td>1.60</td>\n",
              "      <td>0.40</td>\n",
              "      <td>0.00</td>\n",
              "      <td>0.30</td>\n",
              "      <td>0.50</td>\n",
              "      <td>0.50</td>\n",
              "      <td>2.80</td>\n",
              "      <td>230.033333</td>\n",
              "      <td>87.33</td>\n",
              "      <td>22.74</td>\n",
              "      <td>15.75</td>\n",
              "      <td>12.137731</td>\n",
              "    </tr>\n",
              "    <tr>\n",
              "      <th>343</th>\n",
              "      <td>3132</td>\n",
              "      <td>Isaiah</td>\n",
              "      <td>Jackson</td>\n",
              "      <td>Isaiah Jackson</td>\n",
              "      <td>6</td>\n",
              "      <td>9</td>\n",
              "      <td>6.750000</td>\n",
              "      <td>F</td>\n",
              "      <td>205</td>\n",
              "      <td>12</td>\n",
              "      <td>IND</td>\n",
              "      <td>Indiana</td>\n",
              "      <td>East</td>\n",
              "      <td>Central</td>\n",
              "      <td>Indiana Pacers</td>\n",
              "      <td>Pacers</td>\n",
              "      <td>18.300000</td>\n",
              "      <td>3.20</td>\n",
              "      <td>5.20</td>\n",
              "      <td>0.618</td>\n",
              "      <td>0.00</td>\n",
              "      <td>0.10</td>\n",
              "      <td>0.000</td>\n",
              "      <td>1.90</td>\n",
              "      <td>2.80</td>\n",
              "      <td>0.676</td>\n",
              "      <td>1.50</td>\n",
              "      <td>3.50</td>\n",
              "      <td>5.10</td>\n",
              "      <td>1.20</td>\n",
              "      <td>1.40</td>\n",
              "      <td>0.50</td>\n",
              "      <td>2.60</td>\n",
              "      <td>1.20</td>\n",
              "      <td>8.40</td>\n",
              "      <td>230.033333</td>\n",
              "      <td>87.33</td>\n",
              "      <td>22.74</td>\n",
              "      <td>15.75</td>\n",
              "      <td>16.966831</td>\n",
              "    </tr>\n",
              "    <tr>\n",
              "      <th>344</th>\n",
              "      <td>3133</td>\n",
              "      <td>Aaron</td>\n",
              "      <td>Nesmith</td>\n",
              "      <td>Aaron Nesmith</td>\n",
              "      <td>6</td>\n",
              "      <td>5</td>\n",
              "      <td>6.420000</td>\n",
              "      <td>F</td>\n",
              "      <td>215</td>\n",
              "      <td>12</td>\n",
              "      <td>IND</td>\n",
              "      <td>Indiana</td>\n",
              "      <td>East</td>\n",
              "      <td>Central</td>\n",
              "      <td>Indiana Pacers</td>\n",
              "      <td>Pacers</td>\n",
              "      <td>20.800000</td>\n",
              "      <td>2.40</td>\n",
              "      <td>6.30</td>\n",
              "      <td>0.386</td>\n",
              "      <td>1.00</td>\n",
              "      <td>3.40</td>\n",
              "      <td>0.290</td>\n",
              "      <td>1.00</td>\n",
              "      <td>1.20</td>\n",
              "      <td>0.818</td>\n",
              "      <td>0.30</td>\n",
              "      <td>2.80</td>\n",
              "      <td>3.10</td>\n",
              "      <td>1.60</td>\n",
              "      <td>0.80</td>\n",
              "      <td>0.30</td>\n",
              "      <td>2.60</td>\n",
              "      <td>1.00</td>\n",
              "      <td>6.90</td>\n",
              "      <td>230.033333</td>\n",
              "      <td>87.33</td>\n",
              "      <td>22.74</td>\n",
              "      <td>15.75</td>\n",
              "      <td>15.310908</td>\n",
              "    </tr>\n",
              "    <tr>\n",
              "      <th>345</th>\n",
              "      <td>3134</td>\n",
              "      <td>Goga</td>\n",
              "      <td>Bitadze</td>\n",
              "      <td>Goga Bitadze</td>\n",
              "      <td>6</td>\n",
              "      <td>11</td>\n",
              "      <td>6.920000</td>\n",
              "      <td>C</td>\n",
              "      <td>250</td>\n",
              "      <td>12</td>\n",
              "      <td>IND</td>\n",
              "      <td>Indiana</td>\n",
              "      <td>East</td>\n",
              "      <td>Central</td>\n",
              "      <td>Indiana Pacers</td>\n",
              "      <td>Pacers</td>\n",
              "      <td>13.100000</td>\n",
              "      <td>1.80</td>\n",
              "      <td>3.40</td>\n",
              "      <td>0.519</td>\n",
              "      <td>0.10</td>\n",
              "      <td>0.90</td>\n",
              "      <td>0.143</td>\n",
              "      <td>0.90</td>\n",
              "      <td>1.80</td>\n",
              "      <td>0.500</td>\n",
              "      <td>1.60</td>\n",
              "      <td>1.80</td>\n",
              "      <td>3.40</td>\n",
              "      <td>1.50</td>\n",
              "      <td>0.50</td>\n",
              "      <td>0.50</td>\n",
              "      <td>2.30</td>\n",
              "      <td>0.80</td>\n",
              "      <td>4.50</td>\n",
              "      <td>230.033333</td>\n",
              "      <td>87.33</td>\n",
              "      <td>22.74</td>\n",
              "      <td>15.75</td>\n",
              "      <td>15.503036</td>\n",
              "    </tr>\n",
              "  </tbody>\n",
              "</table>\n",
              "<p>348 rows × 40 columns</p>\n",
              "</div>\n",
              "      <button class=\"colab-df-convert\" onclick=\"convertToInteractive('df-56506ae1-128c-4f46-bbcd-9c5e302ecc94')\"\n",
              "              title=\"Convert this dataframe to an interactive table.\"\n",
              "              style=\"display:none;\">\n",
              "        \n",
              "  <svg xmlns=\"http://www.w3.org/2000/svg\" height=\"24px\"viewBox=\"0 0 24 24\"\n",
              "       width=\"24px\">\n",
              "    <path d=\"M0 0h24v24H0V0z\" fill=\"none\"/>\n",
              "    <path d=\"M18.56 5.44l.94 2.06.94-2.06 2.06-.94-2.06-.94-.94-2.06-.94 2.06-2.06.94zm-11 1L8.5 8.5l.94-2.06 2.06-.94-2.06-.94L8.5 2.5l-.94 2.06-2.06.94zm10 10l.94 2.06.94-2.06 2.06-.94-2.06-.94-.94-2.06-.94 2.06-2.06.94z\"/><path d=\"M17.41 7.96l-1.37-1.37c-.4-.4-.92-.59-1.43-.59-.52 0-1.04.2-1.43.59L10.3 9.45l-7.72 7.72c-.78.78-.78 2.05 0 2.83L4 21.41c.39.39.9.59 1.41.59.51 0 1.02-.2 1.41-.59l7.78-7.78 2.81-2.81c.8-.78.8-2.07 0-2.86zM5.41 20L4 18.59l7.72-7.72 1.47 1.35L5.41 20z\"/>\n",
              "  </svg>\n",
              "      </button>\n",
              "      \n",
              "  <style>\n",
              "    .colab-df-container {\n",
              "      display:flex;\n",
              "      flex-wrap:wrap;\n",
              "      gap: 12px;\n",
              "    }\n",
              "\n",
              "    .colab-df-convert {\n",
              "      background-color: #E8F0FE;\n",
              "      border: none;\n",
              "      border-radius: 50%;\n",
              "      cursor: pointer;\n",
              "      display: none;\n",
              "      fill: #1967D2;\n",
              "      height: 32px;\n",
              "      padding: 0 0 0 0;\n",
              "      width: 32px;\n",
              "    }\n",
              "\n",
              "    .colab-df-convert:hover {\n",
              "      background-color: #E2EBFA;\n",
              "      box-shadow: 0px 1px 2px rgba(60, 64, 67, 0.3), 0px 1px 3px 1px rgba(60, 64, 67, 0.15);\n",
              "      fill: #174EA6;\n",
              "    }\n",
              "\n",
              "    [theme=dark] .colab-df-convert {\n",
              "      background-color: #3B4455;\n",
              "      fill: #D2E3FC;\n",
              "    }\n",
              "\n",
              "    [theme=dark] .colab-df-convert:hover {\n",
              "      background-color: #434B5C;\n",
              "      box-shadow: 0px 1px 3px 1px rgba(0, 0, 0, 0.15);\n",
              "      filter: drop-shadow(0px 1px 2px rgba(0, 0, 0, 0.3));\n",
              "      fill: #FFFFFF;\n",
              "    }\n",
              "  </style>\n",
              "\n",
              "      <script>\n",
              "        const buttonEl =\n",
              "          document.querySelector('#df-56506ae1-128c-4f46-bbcd-9c5e302ecc94 button.colab-df-convert');\n",
              "        buttonEl.style.display =\n",
              "          google.colab.kernel.accessAllowed ? 'block' : 'none';\n",
              "\n",
              "        async function convertToInteractive(key) {\n",
              "          const element = document.querySelector('#df-56506ae1-128c-4f46-bbcd-9c5e302ecc94');\n",
              "          const dataTable =\n",
              "            await google.colab.kernel.invokeFunction('convertToInteractive',\n",
              "                                                     [key], {});\n",
              "          if (!dataTable) return;\n",
              "\n",
              "          const docLinkHtml = 'Like what you see? Visit the ' +\n",
              "            '<a target=\"_blank\" href=https://colab.research.google.com/notebooks/data_table.ipynb>data table notebook</a>'\n",
              "            + ' to learn more about interactive tables.';\n",
              "          element.innerHTML = '';\n",
              "          dataTable['output_type'] = 'display_data';\n",
              "          await google.colab.output.renderOutput(dataTable, element);\n",
              "          const docLink = document.createElement('div');\n",
              "          docLink.innerHTML = docLinkHtml;\n",
              "          element.appendChild(docLink);\n",
              "        }\n",
              "      </script>\n",
              "    </div>\n",
              "  </div>\n",
              "  "
            ]
          },
          "metadata": {},
          "execution_count": 1
        }
      ],
      "source": [
        "import pandas as pd\n",
        "pd.set_option('display.max_columns', None)\n",
        "\n",
        "df = pd.read_excel('nba_tidyfinal.xlsx')\n",
        "\n",
        "teams = list(df['team.abbreviation'].unique())\n",
        "\n",
        "appended_data = []\n",
        "\n",
        "#iterates through each team\n",
        "for ind_team in teams:\n",
        "    #name each team temp \n",
        "    temp = df.loc[df['team.abbreviation'] == ind_team]\n",
        "    #calculate ind_team total minutes played\n",
        "    temp['TmMP'] = temp['mpg'].sum()\n",
        "    #calculate ind_team total fga\n",
        "    temp['TmFGA'] = temp['fga'].sum()\n",
        "    #calculate ind_team total fta\n",
        "    temp['TmFTA'] = temp['fta'].sum()\n",
        "    #calculate ind_team total turnover rate\n",
        "    temp['TmTOV'] = temp['turnover'].sum()\n",
        "    #calculate indiv player usage metric within ind_team... usage formula online\n",
        "    temp['usage'] = 100 * ((temp['fga'] + 0.44 * temp['fta'] + temp['turnover']) * (temp['TmMP'] / 5)) / (temp['mpg'] * (temp['TmFGA'] + 0.44 * temp['TmFTA'] + temp['TmTOV']))\n",
        "    print(ind_team)\n",
        "    \n",
        "    appended_data.append(temp)\n",
        "    \n",
        "    \n",
        "appended_data = pd.concat(appended_data)\n",
        "\n",
        "appended_data\n"
      ]
    },
    {
      "cell_type": "markdown",
      "source": [
        "The appended data then gets converted into a csv file."
      ],
      "metadata": {
        "id": "biWAZuhVkpzf"
      }
    },
    {
      "cell_type": "code",
      "source": [
        "appended_data.to_csv('nba_analysis.csv')"
      ],
      "metadata": {
        "id": "qzMXgdGnkVV0"
      },
      "execution_count": null,
      "outputs": []
    },
    {
      "cell_type": "markdown",
      "source": [
        "Before starting with the machine learning, I wanted to get some simple analysis on the usage rate numbers, looking at things such as min, max, mean, and top 10."
      ],
      "metadata": {
        "id": "NNNqzohblHoX"
      }
    },
    {
      "cell_type": "code",
      "source": [
        "appended_data[\"usage\"].mean()"
      ],
      "metadata": {
        "colab": {
          "base_uri": "https://localhost:8080/"
        },
        "id": "9iS1fXlGk-z_",
        "outputId": "af36294b-f151-46d8-8542-5f5b7a8df362"
      },
      "execution_count": null,
      "outputs": [
        {
          "output_type": "execute_result",
          "data": {
            "text/plain": [
              "18.743516333882702"
            ]
          },
          "metadata": {},
          "execution_count": 3
        }
      ]
    },
    {
      "cell_type": "markdown",
      "source": [
        "Average usage rate around the league was around 18.74%"
      ],
      "metadata": {
        "id": "d3z9Ib2olQ_P"
      }
    },
    {
      "cell_type": "code",
      "source": [
        "appended_data[\"usage\"].min()"
      ],
      "metadata": {
        "colab": {
          "base_uri": "https://localhost:8080/"
        },
        "id": "9VIkA6VzlX1N",
        "outputId": "3c5ca038-9581-4574-e189-b6fb5d035b93"
      },
      "execution_count": null,
      "outputs": [
        {
          "output_type": "execute_result",
          "data": {
            "text/plain": [
              "5.259976210129468"
            ]
          },
          "metadata": {},
          "execution_count": 4
        }
      ]
    },
    {
      "cell_type": "markdown",
      "source": [
        "The lower usage rate for any player in the league is around 5.25%."
      ],
      "metadata": {
        "id": "lL3AZAc0nULh"
      }
    },
    {
      "cell_type": "code",
      "source": [
        "appended_data[\"usage\"].idxmin()"
      ],
      "metadata": {
        "colab": {
          "base_uri": "https://localhost:8080/"
        },
        "id": "wweEzQ-PnzxZ",
        "outputId": "3149219b-112f-4bbc-afbd-a0a9d3c73f96"
      },
      "execution_count": null,
      "outputs": [
        {
          "output_type": "execute_result",
          "data": {
            "text/plain": [
              "70"
            ]
          },
          "metadata": {},
          "execution_count": 5
        }
      ]
    },
    {
      "cell_type": "code",
      "source": [
        "df.iloc[70]"
      ],
      "metadata": {
        "colab": {
          "base_uri": "https://localhost:8080/"
        },
        "id": "gblpHi-hoIsc",
        "outputId": "ad2f910f-e454-4abc-c5eb-eed6afc9f9ef"
      },
      "execution_count": null,
      "outputs": [
        {
          "output_type": "execute_result",
          "data": {
            "text/plain": [
              "id                                   206\n",
              "first_name                       Juancho\n",
              "last_name                    Hernangomez\n",
              "full_name            Juancho Hernangomez\n",
              "height_feet                            6\n",
              "height_inches                          9\n",
              "actual_height_ft                    6.75\n",
              "position                               F\n",
              "weight_pounds                        230\n",
              "team.id                               28\n",
              "team.abbreviation                    TOR\n",
              "team.city                        Toronto\n",
              "team.conference                     East\n",
              "team.division                   Atlantic\n",
              "team.full_name           Toronto Raptors\n",
              "team.name                        Raptors\n",
              "mpg                                 2.55\n",
              "fgm                                  0.0\n",
              "fga                                 0.22\n",
              "fg_pct                               0.0\n",
              "fg3m                                 0.0\n",
              "fg3a                                0.22\n",
              "fg3_pct                              0.0\n",
              "ftm                                  0.0\n",
              "fta                                  0.0\n",
              "ft_pct                               0.0\n",
              "oreb                                 0.0\n",
              "dreb                                0.22\n",
              "reb                                 0.22\n",
              "ast                                 0.22\n",
              "blk                                 0.11\n",
              "stl                                 0.11\n",
              "pf                                  0.22\n",
              "turnover                            0.11\n",
              "pts                                  0.0\n",
              "TmMP                              234.85\n",
              "TmFGA                              92.51\n",
              "TmFTA                              24.57\n",
              "TmTOV                              12.24\n",
              "usage                           5.259976\n",
              "Name: 70, dtype: object"
            ]
          },
          "metadata": {},
          "execution_count": 6
        }
      ]
    },
    {
      "cell_type": "markdown",
      "source": [
        "This player is Juancho Hernangomez."
      ],
      "metadata": {
        "id": "YGQiLzQMoLqG"
      }
    },
    {
      "cell_type": "code",
      "source": [
        "appended_data[\"usage\"].max()"
      ],
      "metadata": {
        "colab": {
          "base_uri": "https://localhost:8080/"
        },
        "id": "9iqqYucRnadD",
        "outputId": "ab05dcef-2ba2-40f8-d60c-f8bf10209392"
      },
      "execution_count": null,
      "outputs": [
        {
          "output_type": "execute_result",
          "data": {
            "text/plain": [
              "39.965433067522376"
            ]
          },
          "metadata": {},
          "execution_count": 7
        }
      ]
    },
    {
      "cell_type": "markdown",
      "source": [
        "The highest usage rate for any player in the league is around 39.96%."
      ],
      "metadata": {
        "id": "VtuRV2XRnc93"
      }
    },
    {
      "cell_type": "code",
      "source": [
        "appended_data[\"usage\"].idxmax()"
      ],
      "metadata": {
        "colab": {
          "base_uri": "https://localhost:8080/"
        },
        "id": "LWHkN2ZHoP4Z",
        "outputId": "77fc4e2f-72e5-4645-ff58-0d3009994cfb"
      },
      "execution_count": null,
      "outputs": [
        {
          "output_type": "execute_result",
          "data": {
            "text/plain": [
              "176"
            ]
          },
          "metadata": {},
          "execution_count": 8
        }
      ]
    },
    {
      "cell_type": "code",
      "source": [
        "df.iloc[176]"
      ],
      "metadata": {
        "colab": {
          "base_uri": "https://localhost:8080/"
        },
        "id": "SspONn_volGl",
        "outputId": "b6374f3d-3c42-408e-c410-97a4ac811d4f"
      },
      "execution_count": null,
      "outputs": [
        {
          "output_type": "execute_result",
          "data": {
            "text/plain": [
              "id                                132\n",
              "first_name                       Luka\n",
              "last_name                      Doncic\n",
              "full_name                 Luka Doncic\n",
              "height_feet                         6\n",
              "height_inches                       7\n",
              "actual_height_ft             6.583333\n",
              "position                          F-G\n",
              "weight_pounds                     218\n",
              "team.id                             7\n",
              "team.abbreviation                 DAL\n",
              "team.city                      Dallas\n",
              "team.conference                  West\n",
              "team.division               Southwest\n",
              "team.full_name       Dallas Mavericks\n",
              "team.name                   Mavericks\n",
              "mpg                              36.5\n",
              "fgm                             12.38\n",
              "fga                              23.5\n",
              "fg_pct                          0.527\n",
              "fg3m                             2.13\n",
              "fg3a                             8.13\n",
              "fg3_pct                         0.262\n",
              "ftm                              9.13\n",
              "fta                             11.63\n",
              "ft_pct                          0.785\n",
              "oreb                             1.13\n",
              "dreb                             7.63\n",
              "reb                              8.75\n",
              "ast                              8.63\n",
              "blk                               0.5\n",
              "stl                              1.88\n",
              "pf                               3.25\n",
              "turnover                         3.38\n",
              "pts                              36.0\n",
              "TmMP                       246.083333\n",
              "TmFGA                           82.18\n",
              "TmFTA                           29.65\n",
              "TmTOV                           12.73\n",
              "usage                       39.965433\n",
              "Name: 176, dtype: object"
            ]
          },
          "metadata": {},
          "execution_count": 9
        }
      ]
    },
    {
      "cell_type": "markdown",
      "source": [
        "This player is Luka Doncic."
      ],
      "metadata": {
        "id": "9aeyahrtos94"
      }
    },
    {
      "cell_type": "code",
      "source": [
        "appended_data[\"usage\"].nlargest(10)"
      ],
      "metadata": {
        "colab": {
          "base_uri": "https://localhost:8080/"
        },
        "id": "5LO6Sh1pngk9",
        "outputId": "b1326b67-0b90-4fc0-e1bb-d3c681d85754"
      },
      "execution_count": null,
      "outputs": [
        {
          "output_type": "execute_result",
          "data": {
            "text/plain": [
              "176    39.965433\n",
              "23     37.646220\n",
              "202    35.798669\n",
              "3      35.244667\n",
              "264    34.659545\n",
              "280    34.362346\n",
              "242    33.078748\n",
              "117    32.743981\n",
              "287    32.530404\n",
              "253    32.186698\n",
              "Name: usage, dtype: float64"
            ]
          },
          "metadata": {},
          "execution_count": 10
        }
      ]
    },
    {
      "cell_type": "markdown",
      "source": [
        "The top 10 usage rates in the league are all above 30%."
      ],
      "metadata": {
        "id": "iXGsAzrAovqj"
      }
    },
    {
      "cell_type": "markdown",
      "source": [
        "Next, we need to implement a function that will prompt a user to enter a starting lineup of 5 nba players taking into account the \"Full_name\" variable in the dataset. If the player is misspelled wrong in any way, the program will prompt the user to re-enter the name. Each player has its own unique function, and at the end we want the machine to return all 5 of the players that were entered with their corresponding statistics."
      ],
      "metadata": {
        "id": "x49rnE4kpASc"
      }
    },
    {
      "cell_type": "code",
      "source": [
        "import pandas as pd\n",
        "pd.set_option('display.max_columns', None)\n",
        "\n",
        "df = pd.read_csv('nba_analysis.csv')\n",
        "\n",
        "def locate_1():\n",
        "    print('Please enter your team of Five!: \\n')\n",
        "    \n",
        "    t = True\n",
        "    while t:\n",
        "        a = input('Name of Point Guard: ')\n",
        "        if a in list(df['full_name']):\n",
        "            t = False\n",
        "            return a\n",
        "        else:\n",
        "            print('\\n')\n",
        "            print('Name not recognized, please try again.')\n",
        "\n",
        "\n",
        "def locate_2():\n",
        "    \n",
        "    t = True\n",
        "    while t:\n",
        "        b = input('Name of Shooting Guard: ')\n",
        "        if b in list(df['full_name']):\n",
        "            t = False\n",
        "            return b\n",
        "        else:\n",
        "            print('\\n')\n",
        "            print('Name not recognized, please try again.')\n",
        "\n",
        "\n",
        "\n",
        "def locate_3():\n",
        "    \n",
        "    t = True\n",
        "    while t:\n",
        "        a = input('Name of Small Forward: ')\n",
        "        if a in list(df['full_name']):\n",
        "            t = False\n",
        "            return a\n",
        "        else:\n",
        "            print('\\n')\n",
        "            print('Name not recognized, please try again.')\n",
        "            \n",
        "def locate_4():\n",
        "    \n",
        "    t = True\n",
        "    while t:\n",
        "        a = input('Name of Power Forward: ')\n",
        "        if a in list(df['full_name']):\n",
        "            t = False\n",
        "            return a\n",
        "        else:\n",
        "            print('\\n')\n",
        "            print('Name not recognized, please try again.')\n",
        "\n",
        "def locate_5():\n",
        "   \n",
        "    t = True\n",
        "    while t:\n",
        "        a = input('Name of Center: ')\n",
        "        if a in list(df['full_name']):\n",
        "            t = False\n",
        "            return a\n",
        "        else:\n",
        "            print('\\n')\n",
        "            print('Name not recognized, please try again.')\n",
        "\n",
        "def team_builder():\n",
        "    a = locate_1()\n",
        "    b = locate_2()\n",
        "    c = locate_3()\n",
        "    d = locate_4()\n",
        "    e = locate_5()\n",
        "    return [a,b,c,d,e]\n",
        "\n",
        "def locater(a):\n",
        "    appended_data = []\n",
        "    for i in a:\n",
        "        new_loc = df.loc[df['full_name'] == i]\n",
        "        #print(i)\n",
        "        appended_data.append(new_loc)\n",
        "    appended_data = pd.concat(appended_data)\n",
        "    return appended_data"
      ],
      "metadata": {
        "id": "OEir_n_Vo13b"
      },
      "execution_count": null,
      "outputs": []
    },
    {
      "cell_type": "code",
      "source": [
        "#builds team\n",
        "nam = team_builder()\n",
        "\n",
        "#creates df\n",
        "t = locater(nam)"
      ],
      "metadata": {
        "colab": {
          "base_uri": "https://localhost:8080/"
        },
        "id": "SDqdmpM6qEqM",
        "outputId": "d1b5b5d8-c7e2-461b-fbbb-aca243d00608"
      },
      "execution_count": null,
      "outputs": [
        {
          "name": "stdout",
          "output_type": "stream",
          "text": [
            "Please enter your team of Five!: \n",
            "\n",
            "Name of Point Guard: Ja Morant\n",
            "Name of Shooting Guard: Desmond Bane\n",
            "Name of Small Forward: Kevin Durant\n",
            "Name of Power Forward: LeBron James\n",
            "Name of Center: Ivica Zubax\n",
            "\n",
            "\n",
            "Name not recognized, please try again.\n",
            "Name of Center: Ivica Zubac\n"
          ]
        }
      ]
    },
    {
      "cell_type": "code",
      "source": [
        "t"
      ],
      "metadata": {
        "colab": {
          "base_uri": "https://localhost:8080/",
          "height": 374
        },
        "id": "9AK4Hoavqhlg",
        "outputId": "008f3a60-cf57-4a87-ed8d-e6c3a0251e64"
      },
      "execution_count": null,
      "outputs": [
        {
          "output_type": "execute_result",
          "data": {
            "text/plain": [
              "     Unnamed: 0    id first_name last_name     full_name  height_feet  \\\n",
              "3             3  3198         Ja    Morant     Ja Morant            6   \n",
              "4             4  3199    Desmond      Bane  Desmond Bane            6   \n",
              "244         242   140      Kevin    Durant  Kevin Durant            6   \n",
              "190         189   237     LeBron     James  LeBron James            6   \n",
              "160         159   493      Ivica     Zubac   Ivica Zubac            7   \n",
              "\n",
              "     height_inches  actual_height_ft position  weight_pounds  team.id  \\\n",
              "3                3          6.250000        G            174       15   \n",
              "4                5          6.420000        G            215       15   \n",
              "244              9          6.750000        F            240        3   \n",
              "190              8          6.666667        F            250       14   \n",
              "160              1          7.083333        C            240       13   \n",
              "\n",
              "    team.abbreviation    team.city team.conference team.division  \\\n",
              "3                 MEM      Memphis            West     Southwest   \n",
              "4                 MEM      Memphis            West     Southwest   \n",
              "244               BKN     Brooklyn            East      Atlantic   \n",
              "190               LAL  Los Angeles            West       Pacific   \n",
              "160               LAC           LA            West       Pacific   \n",
              "\n",
              "         team.full_name  team.name        mpg    fgm    fga  fg_pct  fg3m  \\\n",
              "3     Memphis Grizzlies  Grizzlies  33.200000  10.30  21.50   0.480   2.1   \n",
              "4     Memphis Grizzlies  Grizzlies  33.500000   8.30  17.80   0.465   3.8   \n",
              "244       Brooklyn Nets       Nets  37.200000  10.50  20.30   0.517   1.7   \n",
              "190  Los Angeles Lakers     Lakers  36.366667   9.38  21.63   0.434   1.5   \n",
              "160         LA Clippers   Clippers  29.433333   4.22   6.78   0.623   0.0   \n",
              "\n",
              "     fg3a  fg3_pct   ftm   fta  ft_pct  oreb  dreb    reb   ast   blk   stl  \\\n",
              "3    5.20    0.403  6.60  8.50   0.782  1.20  4.90   6.20  6.80  0.30  1.20   \n",
              "4    8.50    0.451  4.30  4.80   0.912  0.50  4.40   4.90  4.80  0.30  0.60   \n",
              "244  5.10    0.333  8.80  9.30   0.946  0.40  5.80   6.20  4.80  2.00  0.80   \n",
              "190  7.25    0.207  3.75  5.13   0.732  1.75  7.38   9.13  7.50  0.88  1.13   \n",
              "160  0.11    0.000  1.56  2.67   0.583  2.44  9.11  11.56  1.44  2.78  0.33   \n",
              "\n",
              "       pf  turnover   pts        TmMP  TmFGA  TmFTA  TmTOV      usage  \n",
              "3    1.80      3.90  29.3  246.566667  96.39  25.22  15.32  35.244667  \n",
              "4    2.40      2.30  24.7  246.566667  96.39  25.22  15.32  26.624705  \n",
              "244  2.30      3.50  31.5  237.600000  84.10  24.80  12.70  33.078748  \n",
              "190  2.25      3.75  24.0  238.866667  88.67  23.89  13.85  32.120050  \n",
              "160  3.00      2.22  10.0  244.466667  84.68  19.80  15.63  15.503221  "
            ],
            "text/html": [
              "\n",
              "  <div id=\"df-f4626728-dba4-4455-b90c-883cbdcfd69e\">\n",
              "    <div class=\"colab-df-container\">\n",
              "      <div>\n",
              "<style scoped>\n",
              "    .dataframe tbody tr th:only-of-type {\n",
              "        vertical-align: middle;\n",
              "    }\n",
              "\n",
              "    .dataframe tbody tr th {\n",
              "        vertical-align: top;\n",
              "    }\n",
              "\n",
              "    .dataframe thead th {\n",
              "        text-align: right;\n",
              "    }\n",
              "</style>\n",
              "<table border=\"1\" class=\"dataframe\">\n",
              "  <thead>\n",
              "    <tr style=\"text-align: right;\">\n",
              "      <th></th>\n",
              "      <th>Unnamed: 0</th>\n",
              "      <th>id</th>\n",
              "      <th>first_name</th>\n",
              "      <th>last_name</th>\n",
              "      <th>full_name</th>\n",
              "      <th>height_feet</th>\n",
              "      <th>height_inches</th>\n",
              "      <th>actual_height_ft</th>\n",
              "      <th>position</th>\n",
              "      <th>weight_pounds</th>\n",
              "      <th>team.id</th>\n",
              "      <th>team.abbreviation</th>\n",
              "      <th>team.city</th>\n",
              "      <th>team.conference</th>\n",
              "      <th>team.division</th>\n",
              "      <th>team.full_name</th>\n",
              "      <th>team.name</th>\n",
              "      <th>mpg</th>\n",
              "      <th>fgm</th>\n",
              "      <th>fga</th>\n",
              "      <th>fg_pct</th>\n",
              "      <th>fg3m</th>\n",
              "      <th>fg3a</th>\n",
              "      <th>fg3_pct</th>\n",
              "      <th>ftm</th>\n",
              "      <th>fta</th>\n",
              "      <th>ft_pct</th>\n",
              "      <th>oreb</th>\n",
              "      <th>dreb</th>\n",
              "      <th>reb</th>\n",
              "      <th>ast</th>\n",
              "      <th>blk</th>\n",
              "      <th>stl</th>\n",
              "      <th>pf</th>\n",
              "      <th>turnover</th>\n",
              "      <th>pts</th>\n",
              "      <th>TmMP</th>\n",
              "      <th>TmFGA</th>\n",
              "      <th>TmFTA</th>\n",
              "      <th>TmTOV</th>\n",
              "      <th>usage</th>\n",
              "    </tr>\n",
              "  </thead>\n",
              "  <tbody>\n",
              "    <tr>\n",
              "      <th>3</th>\n",
              "      <td>3</td>\n",
              "      <td>3198</td>\n",
              "      <td>Ja</td>\n",
              "      <td>Morant</td>\n",
              "      <td>Ja Morant</td>\n",
              "      <td>6</td>\n",
              "      <td>3</td>\n",
              "      <td>6.250000</td>\n",
              "      <td>G</td>\n",
              "      <td>174</td>\n",
              "      <td>15</td>\n",
              "      <td>MEM</td>\n",
              "      <td>Memphis</td>\n",
              "      <td>West</td>\n",
              "      <td>Southwest</td>\n",
              "      <td>Memphis Grizzlies</td>\n",
              "      <td>Grizzlies</td>\n",
              "      <td>33.200000</td>\n",
              "      <td>10.30</td>\n",
              "      <td>21.50</td>\n",
              "      <td>0.480</td>\n",
              "      <td>2.1</td>\n",
              "      <td>5.20</td>\n",
              "      <td>0.403</td>\n",
              "      <td>6.60</td>\n",
              "      <td>8.50</td>\n",
              "      <td>0.782</td>\n",
              "      <td>1.20</td>\n",
              "      <td>4.90</td>\n",
              "      <td>6.20</td>\n",
              "      <td>6.80</td>\n",
              "      <td>0.30</td>\n",
              "      <td>1.20</td>\n",
              "      <td>1.80</td>\n",
              "      <td>3.90</td>\n",
              "      <td>29.3</td>\n",
              "      <td>246.566667</td>\n",
              "      <td>96.39</td>\n",
              "      <td>25.22</td>\n",
              "      <td>15.32</td>\n",
              "      <td>35.244667</td>\n",
              "    </tr>\n",
              "    <tr>\n",
              "      <th>4</th>\n",
              "      <td>4</td>\n",
              "      <td>3199</td>\n",
              "      <td>Desmond</td>\n",
              "      <td>Bane</td>\n",
              "      <td>Desmond Bane</td>\n",
              "      <td>6</td>\n",
              "      <td>5</td>\n",
              "      <td>6.420000</td>\n",
              "      <td>G</td>\n",
              "      <td>215</td>\n",
              "      <td>15</td>\n",
              "      <td>MEM</td>\n",
              "      <td>Memphis</td>\n",
              "      <td>West</td>\n",
              "      <td>Southwest</td>\n",
              "      <td>Memphis Grizzlies</td>\n",
              "      <td>Grizzlies</td>\n",
              "      <td>33.500000</td>\n",
              "      <td>8.30</td>\n",
              "      <td>17.80</td>\n",
              "      <td>0.465</td>\n",
              "      <td>3.8</td>\n",
              "      <td>8.50</td>\n",
              "      <td>0.451</td>\n",
              "      <td>4.30</td>\n",
              "      <td>4.80</td>\n",
              "      <td>0.912</td>\n",
              "      <td>0.50</td>\n",
              "      <td>4.40</td>\n",
              "      <td>4.90</td>\n",
              "      <td>4.80</td>\n",
              "      <td>0.30</td>\n",
              "      <td>0.60</td>\n",
              "      <td>2.40</td>\n",
              "      <td>2.30</td>\n",
              "      <td>24.7</td>\n",
              "      <td>246.566667</td>\n",
              "      <td>96.39</td>\n",
              "      <td>25.22</td>\n",
              "      <td>15.32</td>\n",
              "      <td>26.624705</td>\n",
              "    </tr>\n",
              "    <tr>\n",
              "      <th>244</th>\n",
              "      <td>242</td>\n",
              "      <td>140</td>\n",
              "      <td>Kevin</td>\n",
              "      <td>Durant</td>\n",
              "      <td>Kevin Durant</td>\n",
              "      <td>6</td>\n",
              "      <td>9</td>\n",
              "      <td>6.750000</td>\n",
              "      <td>F</td>\n",
              "      <td>240</td>\n",
              "      <td>3</td>\n",
              "      <td>BKN</td>\n",
              "      <td>Brooklyn</td>\n",
              "      <td>East</td>\n",
              "      <td>Atlantic</td>\n",
              "      <td>Brooklyn Nets</td>\n",
              "      <td>Nets</td>\n",
              "      <td>37.200000</td>\n",
              "      <td>10.50</td>\n",
              "      <td>20.30</td>\n",
              "      <td>0.517</td>\n",
              "      <td>1.7</td>\n",
              "      <td>5.10</td>\n",
              "      <td>0.333</td>\n",
              "      <td>8.80</td>\n",
              "      <td>9.30</td>\n",
              "      <td>0.946</td>\n",
              "      <td>0.40</td>\n",
              "      <td>5.80</td>\n",
              "      <td>6.20</td>\n",
              "      <td>4.80</td>\n",
              "      <td>2.00</td>\n",
              "      <td>0.80</td>\n",
              "      <td>2.30</td>\n",
              "      <td>3.50</td>\n",
              "      <td>31.5</td>\n",
              "      <td>237.600000</td>\n",
              "      <td>84.10</td>\n",
              "      <td>24.80</td>\n",
              "      <td>12.70</td>\n",
              "      <td>33.078748</td>\n",
              "    </tr>\n",
              "    <tr>\n",
              "      <th>190</th>\n",
              "      <td>189</td>\n",
              "      <td>237</td>\n",
              "      <td>LeBron</td>\n",
              "      <td>James</td>\n",
              "      <td>LeBron James</td>\n",
              "      <td>6</td>\n",
              "      <td>8</td>\n",
              "      <td>6.666667</td>\n",
              "      <td>F</td>\n",
              "      <td>250</td>\n",
              "      <td>14</td>\n",
              "      <td>LAL</td>\n",
              "      <td>Los Angeles</td>\n",
              "      <td>West</td>\n",
              "      <td>Pacific</td>\n",
              "      <td>Los Angeles Lakers</td>\n",
              "      <td>Lakers</td>\n",
              "      <td>36.366667</td>\n",
              "      <td>9.38</td>\n",
              "      <td>21.63</td>\n",
              "      <td>0.434</td>\n",
              "      <td>1.5</td>\n",
              "      <td>7.25</td>\n",
              "      <td>0.207</td>\n",
              "      <td>3.75</td>\n",
              "      <td>5.13</td>\n",
              "      <td>0.732</td>\n",
              "      <td>1.75</td>\n",
              "      <td>7.38</td>\n",
              "      <td>9.13</td>\n",
              "      <td>7.50</td>\n",
              "      <td>0.88</td>\n",
              "      <td>1.13</td>\n",
              "      <td>2.25</td>\n",
              "      <td>3.75</td>\n",
              "      <td>24.0</td>\n",
              "      <td>238.866667</td>\n",
              "      <td>88.67</td>\n",
              "      <td>23.89</td>\n",
              "      <td>13.85</td>\n",
              "      <td>32.120050</td>\n",
              "    </tr>\n",
              "    <tr>\n",
              "      <th>160</th>\n",
              "      <td>159</td>\n",
              "      <td>493</td>\n",
              "      <td>Ivica</td>\n",
              "      <td>Zubac</td>\n",
              "      <td>Ivica Zubac</td>\n",
              "      <td>7</td>\n",
              "      <td>1</td>\n",
              "      <td>7.083333</td>\n",
              "      <td>C</td>\n",
              "      <td>240</td>\n",
              "      <td>13</td>\n",
              "      <td>LAC</td>\n",
              "      <td>LA</td>\n",
              "      <td>West</td>\n",
              "      <td>Pacific</td>\n",
              "      <td>LA Clippers</td>\n",
              "      <td>Clippers</td>\n",
              "      <td>29.433333</td>\n",
              "      <td>4.22</td>\n",
              "      <td>6.78</td>\n",
              "      <td>0.623</td>\n",
              "      <td>0.0</td>\n",
              "      <td>0.11</td>\n",
              "      <td>0.000</td>\n",
              "      <td>1.56</td>\n",
              "      <td>2.67</td>\n",
              "      <td>0.583</td>\n",
              "      <td>2.44</td>\n",
              "      <td>9.11</td>\n",
              "      <td>11.56</td>\n",
              "      <td>1.44</td>\n",
              "      <td>2.78</td>\n",
              "      <td>0.33</td>\n",
              "      <td>3.00</td>\n",
              "      <td>2.22</td>\n",
              "      <td>10.0</td>\n",
              "      <td>244.466667</td>\n",
              "      <td>84.68</td>\n",
              "      <td>19.80</td>\n",
              "      <td>15.63</td>\n",
              "      <td>15.503221</td>\n",
              "    </tr>\n",
              "  </tbody>\n",
              "</table>\n",
              "</div>\n",
              "      <button class=\"colab-df-convert\" onclick=\"convertToInteractive('df-f4626728-dba4-4455-b90c-883cbdcfd69e')\"\n",
              "              title=\"Convert this dataframe to an interactive table.\"\n",
              "              style=\"display:none;\">\n",
              "        \n",
              "  <svg xmlns=\"http://www.w3.org/2000/svg\" height=\"24px\"viewBox=\"0 0 24 24\"\n",
              "       width=\"24px\">\n",
              "    <path d=\"M0 0h24v24H0V0z\" fill=\"none\"/>\n",
              "    <path d=\"M18.56 5.44l.94 2.06.94-2.06 2.06-.94-2.06-.94-.94-2.06-.94 2.06-2.06.94zm-11 1L8.5 8.5l.94-2.06 2.06-.94-2.06-.94L8.5 2.5l-.94 2.06-2.06.94zm10 10l.94 2.06.94-2.06 2.06-.94-2.06-.94-.94-2.06-.94 2.06-2.06.94z\"/><path d=\"M17.41 7.96l-1.37-1.37c-.4-.4-.92-.59-1.43-.59-.52 0-1.04.2-1.43.59L10.3 9.45l-7.72 7.72c-.78.78-.78 2.05 0 2.83L4 21.41c.39.39.9.59 1.41.59.51 0 1.02-.2 1.41-.59l7.78-7.78 2.81-2.81c.8-.78.8-2.07 0-2.86zM5.41 20L4 18.59l7.72-7.72 1.47 1.35L5.41 20z\"/>\n",
              "  </svg>\n",
              "      </button>\n",
              "      \n",
              "  <style>\n",
              "    .colab-df-container {\n",
              "      display:flex;\n",
              "      flex-wrap:wrap;\n",
              "      gap: 12px;\n",
              "    }\n",
              "\n",
              "    .colab-df-convert {\n",
              "      background-color: #E8F0FE;\n",
              "      border: none;\n",
              "      border-radius: 50%;\n",
              "      cursor: pointer;\n",
              "      display: none;\n",
              "      fill: #1967D2;\n",
              "      height: 32px;\n",
              "      padding: 0 0 0 0;\n",
              "      width: 32px;\n",
              "    }\n",
              "\n",
              "    .colab-df-convert:hover {\n",
              "      background-color: #E2EBFA;\n",
              "      box-shadow: 0px 1px 2px rgba(60, 64, 67, 0.3), 0px 1px 3px 1px rgba(60, 64, 67, 0.15);\n",
              "      fill: #174EA6;\n",
              "    }\n",
              "\n",
              "    [theme=dark] .colab-df-convert {\n",
              "      background-color: #3B4455;\n",
              "      fill: #D2E3FC;\n",
              "    }\n",
              "\n",
              "    [theme=dark] .colab-df-convert:hover {\n",
              "      background-color: #434B5C;\n",
              "      box-shadow: 0px 1px 3px 1px rgba(0, 0, 0, 0.15);\n",
              "      filter: drop-shadow(0px 1px 2px rgba(0, 0, 0, 0.3));\n",
              "      fill: #FFFFFF;\n",
              "    }\n",
              "  </style>\n",
              "\n",
              "      <script>\n",
              "        const buttonEl =\n",
              "          document.querySelector('#df-f4626728-dba4-4455-b90c-883cbdcfd69e button.colab-df-convert');\n",
              "        buttonEl.style.display =\n",
              "          google.colab.kernel.accessAllowed ? 'block' : 'none';\n",
              "\n",
              "        async function convertToInteractive(key) {\n",
              "          const element = document.querySelector('#df-f4626728-dba4-4455-b90c-883cbdcfd69e');\n",
              "          const dataTable =\n",
              "            await google.colab.kernel.invokeFunction('convertToInteractive',\n",
              "                                                     [key], {});\n",
              "          if (!dataTable) return;\n",
              "\n",
              "          const docLinkHtml = 'Like what you see? Visit the ' +\n",
              "            '<a target=\"_blank\" href=https://colab.research.google.com/notebooks/data_table.ipynb>data table notebook</a>'\n",
              "            + ' to learn more about interactive tables.';\n",
              "          element.innerHTML = '';\n",
              "          dataTable['output_type'] = 'display_data';\n",
              "          await google.colab.output.renderOutput(dataTable, element);\n",
              "          const docLink = document.createElement('div');\n",
              "          docLink.innerHTML = docLinkHtml;\n",
              "          element.appendChild(docLink);\n",
              "        }\n",
              "      </script>\n",
              "    </div>\n",
              "  </div>\n",
              "  "
            ]
          },
          "metadata": {},
          "execution_count": 13
        }
      ]
    },
    {
      "cell_type": "markdown",
      "source": [
        "The demo above shows an example of how the program would take in 5 different players and return the stats of eahc individual player. By the end of this analysis, we want the program to take into account the regression model that we deem to be the most accurate and compute the predicted statistics of each player based on that. "
      ],
      "metadata": {
        "id": "ZzRI5-8Jqkil"
      }
    },
    {
      "cell_type": "markdown",
      "source": [
        "**Regression Analysis:**\n",
        "\n",
        "Once the basis analysis is completed, we move on to the machine learning aspect of the project. First I read in our new and transformed data set as a dataframe. Note that throughout the regressional analysis we will often be using Luka Doncic's usage rate as the value to predict points per game."
      ],
      "metadata": {
        "id": "3OBKVh_TsMyx"
      }
    },
    {
      "cell_type": "code",
      "source": [
        "import pandas as pd\n",
        "pd.set_option('display.max_columns', None)\n",
        "\n",
        "df = pd.read_csv('nba_analysis.csv')"
      ],
      "metadata": {
        "id": "L4NN2AkLq1vd"
      },
      "execution_count": null,
      "outputs": []
    },
    {
      "cell_type": "code",
      "source": [
        "df"
      ],
      "metadata": {
        "colab": {
          "base_uri": "https://localhost:8080/",
          "height": 678
        },
        "id": "BwXkKykntGfz",
        "outputId": "149012fd-914b-4dbe-f0da-57668eee3091"
      },
      "execution_count": null,
      "outputs": [
        {
          "output_type": "execute_result",
          "data": {
            "text/plain": [
              "     Unnamed: 0    id first_name last_name       full_name  height_feet  \\\n",
              "0             0     3     Steven     Adams    Steven Adams            7   \n",
              "1             1    66     Dillon    Brooks   Dillon Brooks            6   \n",
              "2             2   249       Tyus     Jones      Tyus Jones            6   \n",
              "3             3  3198         Ja    Morant       Ja Morant            6   \n",
              "4             4  3199    Desmond      Bane    Desmond Bane            6   \n",
              "..          ...   ...        ...       ...             ...          ...   \n",
              "343         341  3130      Jalen     Smith     Jalen Smith            6   \n",
              "344         342  3131      Oshae  Brissett  Oshae Brissett            6   \n",
              "345         343  3132     Isaiah   Jackson  Isaiah Jackson            6   \n",
              "346         344  3133      Aaron   Nesmith   Aaron Nesmith            6   \n",
              "347         345  3134       Goga   Bitadze    Goga Bitadze            6   \n",
              "\n",
              "     height_inches  actual_height_ft position  weight_pounds  team.id  \\\n",
              "0                0          7.000000        C            265       15   \n",
              "1                6          6.500000      G-F            220       15   \n",
              "2                2          6.166667        G            196       15   \n",
              "3                3          6.250000        G            174       15   \n",
              "4                5          6.420000        G            215       15   \n",
              "..             ...               ...      ...            ...      ...   \n",
              "343              9          6.750000        F            215       12   \n",
              "344              7          6.580000        F            210       12   \n",
              "345              9          6.750000        F            205       12   \n",
              "346              5          6.420000        F            215       12   \n",
              "347             11          6.920000        C            250       12   \n",
              "\n",
              "    team.abbreviation team.city team.conference team.division  \\\n",
              "0                 MEM   Memphis            West     Southwest   \n",
              "1                 MEM   Memphis            West     Southwest   \n",
              "2                 MEM   Memphis            West     Southwest   \n",
              "3                 MEM   Memphis            West     Southwest   \n",
              "4                 MEM   Memphis            West     Southwest   \n",
              "..                ...       ...             ...           ...   \n",
              "343               IND   Indiana            East       Central   \n",
              "344               IND   Indiana            East       Central   \n",
              "345               IND   Indiana            East       Central   \n",
              "346               IND   Indiana            East       Central   \n",
              "347               IND   Indiana            East       Central   \n",
              "\n",
              "        team.full_name  team.name        mpg    fgm    fga  fg_pct  fg3m  \\\n",
              "0    Memphis Grizzlies  Grizzlies  26.100000   3.11   5.33   0.583  0.00   \n",
              "1    Memphis Grizzlies  Grizzlies  17.766667   3.89   8.89   0.438  1.89   \n",
              "2    Memphis Grizzlies  Grizzlies  24.000000   4.89  10.67   0.458  1.56   \n",
              "3    Memphis Grizzlies  Grizzlies  33.200000  10.30  21.50   0.480  2.10   \n",
              "4    Memphis Grizzlies  Grizzlies  33.500000   8.30  17.80   0.465  3.80   \n",
              "..                 ...        ...        ...    ...    ...     ...   ...   \n",
              "343     Indiana Pacers     Pacers  24.000000   4.20   9.50   0.435  1.20   \n",
              "344     Indiana Pacers     Pacers  10.900000   0.90   2.40   0.368  0.40   \n",
              "345     Indiana Pacers     Pacers  18.300000   3.20   5.20   0.618  0.00   \n",
              "346     Indiana Pacers     Pacers  20.800000   2.40   6.30   0.386  1.00   \n",
              "347     Indiana Pacers     Pacers  13.100000   1.80   3.40   0.519  0.10   \n",
              "\n",
              "     fg3a  fg3_pct   ftm   fta  ft_pct  oreb  dreb    reb   ast   blk   stl  \\\n",
              "0    0.00    0.000  0.78  2.56   0.304  4.67  6.44  11.11  2.56  1.56  0.78   \n",
              "1    3.78    0.500  1.00  1.56   0.643  0.22  1.33   1.56  1.33  0.00  0.44   \n",
              "2    4.44    0.350  0.44  1.00   0.444  0.33  1.67   2.00  4.22  0.11  0.67   \n",
              "3    5.20    0.403  6.60  8.50   0.782  1.20  4.90   6.20  6.80  0.30  1.20   \n",
              "4    8.50    0.451  4.30  4.80   0.912  0.50  4.40   4.90  4.80  0.30  0.60   \n",
              "..    ...      ...   ...   ...     ...   ...   ...    ...   ...   ...   ...   \n",
              "343  4.10    0.302  1.50  2.20   0.679  1.80  5.80   7.50  1.10  0.80  0.20   \n",
              "344  1.50    0.250  0.60  0.80   0.833  0.60  1.00   1.60  0.40  0.00  0.30   \n",
              "345  0.10    0.000  1.90  2.80   0.676  1.50  3.50   5.10  1.20  1.40  0.50   \n",
              "346  3.40    0.290  1.00  1.20   0.818  0.30  2.80   3.10  1.60  0.80  0.30   \n",
              "347  0.90    0.143  0.90  1.80   0.500  1.60  1.80   3.40  1.50  0.50  0.50   \n",
              "\n",
              "       pf  turnover    pts        TmMP  TmFGA  TmFTA  TmTOV      usage  \n",
              "0    2.44      2.11   7.00  246.566667  96.39  25.22  15.32  13.179526  \n",
              "1    2.00      0.89  10.67  246.566667  96.39  25.22  15.32  23.655565  \n",
              "2    0.67      1.22  11.78  246.566667  96.39  25.22  15.32  20.629741  \n",
              "3    1.80      3.90  29.30  246.566667  96.39  25.22  15.32  35.244667  \n",
              "4    2.40      2.30  24.70  246.566667  96.39  25.22  15.32  26.624705  \n",
              "..    ...       ...    ...         ...    ...    ...    ...        ...  \n",
              "343  2.20      1.50  11.00  230.033333  87.33  22.74  15.75  20.287279  \n",
              "344  0.50      0.50   2.80  230.033333  87.33  22.74  15.75  12.137731  \n",
              "345  2.60      1.20   8.40  230.033333  87.33  22.74  15.75  16.966831  \n",
              "346  2.60      1.00   6.90  230.033333  87.33  22.74  15.75  15.310908  \n",
              "347  2.30      0.80   4.50  230.033333  87.33  22.74  15.75  15.503036  \n",
              "\n",
              "[348 rows x 41 columns]"
            ],
            "text/html": [
              "\n",
              "  <div id=\"df-61cb093c-1e08-48f9-bd57-fc44edc97dda\">\n",
              "    <div class=\"colab-df-container\">\n",
              "      <div>\n",
              "<style scoped>\n",
              "    .dataframe tbody tr th:only-of-type {\n",
              "        vertical-align: middle;\n",
              "    }\n",
              "\n",
              "    .dataframe tbody tr th {\n",
              "        vertical-align: top;\n",
              "    }\n",
              "\n",
              "    .dataframe thead th {\n",
              "        text-align: right;\n",
              "    }\n",
              "</style>\n",
              "<table border=\"1\" class=\"dataframe\">\n",
              "  <thead>\n",
              "    <tr style=\"text-align: right;\">\n",
              "      <th></th>\n",
              "      <th>Unnamed: 0</th>\n",
              "      <th>id</th>\n",
              "      <th>first_name</th>\n",
              "      <th>last_name</th>\n",
              "      <th>full_name</th>\n",
              "      <th>height_feet</th>\n",
              "      <th>height_inches</th>\n",
              "      <th>actual_height_ft</th>\n",
              "      <th>position</th>\n",
              "      <th>weight_pounds</th>\n",
              "      <th>team.id</th>\n",
              "      <th>team.abbreviation</th>\n",
              "      <th>team.city</th>\n",
              "      <th>team.conference</th>\n",
              "      <th>team.division</th>\n",
              "      <th>team.full_name</th>\n",
              "      <th>team.name</th>\n",
              "      <th>mpg</th>\n",
              "      <th>fgm</th>\n",
              "      <th>fga</th>\n",
              "      <th>fg_pct</th>\n",
              "      <th>fg3m</th>\n",
              "      <th>fg3a</th>\n",
              "      <th>fg3_pct</th>\n",
              "      <th>ftm</th>\n",
              "      <th>fta</th>\n",
              "      <th>ft_pct</th>\n",
              "      <th>oreb</th>\n",
              "      <th>dreb</th>\n",
              "      <th>reb</th>\n",
              "      <th>ast</th>\n",
              "      <th>blk</th>\n",
              "      <th>stl</th>\n",
              "      <th>pf</th>\n",
              "      <th>turnover</th>\n",
              "      <th>pts</th>\n",
              "      <th>TmMP</th>\n",
              "      <th>TmFGA</th>\n",
              "      <th>TmFTA</th>\n",
              "      <th>TmTOV</th>\n",
              "      <th>usage</th>\n",
              "    </tr>\n",
              "  </thead>\n",
              "  <tbody>\n",
              "    <tr>\n",
              "      <th>0</th>\n",
              "      <td>0</td>\n",
              "      <td>3</td>\n",
              "      <td>Steven</td>\n",
              "      <td>Adams</td>\n",
              "      <td>Steven Adams</td>\n",
              "      <td>7</td>\n",
              "      <td>0</td>\n",
              "      <td>7.000000</td>\n",
              "      <td>C</td>\n",
              "      <td>265</td>\n",
              "      <td>15</td>\n",
              "      <td>MEM</td>\n",
              "      <td>Memphis</td>\n",
              "      <td>West</td>\n",
              "      <td>Southwest</td>\n",
              "      <td>Memphis Grizzlies</td>\n",
              "      <td>Grizzlies</td>\n",
              "      <td>26.100000</td>\n",
              "      <td>3.11</td>\n",
              "      <td>5.33</td>\n",
              "      <td>0.583</td>\n",
              "      <td>0.00</td>\n",
              "      <td>0.00</td>\n",
              "      <td>0.000</td>\n",
              "      <td>0.78</td>\n",
              "      <td>2.56</td>\n",
              "      <td>0.304</td>\n",
              "      <td>4.67</td>\n",
              "      <td>6.44</td>\n",
              "      <td>11.11</td>\n",
              "      <td>2.56</td>\n",
              "      <td>1.56</td>\n",
              "      <td>0.78</td>\n",
              "      <td>2.44</td>\n",
              "      <td>2.11</td>\n",
              "      <td>7.00</td>\n",
              "      <td>246.566667</td>\n",
              "      <td>96.39</td>\n",
              "      <td>25.22</td>\n",
              "      <td>15.32</td>\n",
              "      <td>13.179526</td>\n",
              "    </tr>\n",
              "    <tr>\n",
              "      <th>1</th>\n",
              "      <td>1</td>\n",
              "      <td>66</td>\n",
              "      <td>Dillon</td>\n",
              "      <td>Brooks</td>\n",
              "      <td>Dillon Brooks</td>\n",
              "      <td>6</td>\n",
              "      <td>6</td>\n",
              "      <td>6.500000</td>\n",
              "      <td>G-F</td>\n",
              "      <td>220</td>\n",
              "      <td>15</td>\n",
              "      <td>MEM</td>\n",
              "      <td>Memphis</td>\n",
              "      <td>West</td>\n",
              "      <td>Southwest</td>\n",
              "      <td>Memphis Grizzlies</td>\n",
              "      <td>Grizzlies</td>\n",
              "      <td>17.766667</td>\n",
              "      <td>3.89</td>\n",
              "      <td>8.89</td>\n",
              "      <td>0.438</td>\n",
              "      <td>1.89</td>\n",
              "      <td>3.78</td>\n",
              "      <td>0.500</td>\n",
              "      <td>1.00</td>\n",
              "      <td>1.56</td>\n",
              "      <td>0.643</td>\n",
              "      <td>0.22</td>\n",
              "      <td>1.33</td>\n",
              "      <td>1.56</td>\n",
              "      <td>1.33</td>\n",
              "      <td>0.00</td>\n",
              "      <td>0.44</td>\n",
              "      <td>2.00</td>\n",
              "      <td>0.89</td>\n",
              "      <td>10.67</td>\n",
              "      <td>246.566667</td>\n",
              "      <td>96.39</td>\n",
              "      <td>25.22</td>\n",
              "      <td>15.32</td>\n",
              "      <td>23.655565</td>\n",
              "    </tr>\n",
              "    <tr>\n",
              "      <th>2</th>\n",
              "      <td>2</td>\n",
              "      <td>249</td>\n",
              "      <td>Tyus</td>\n",
              "      <td>Jones</td>\n",
              "      <td>Tyus Jones</td>\n",
              "      <td>6</td>\n",
              "      <td>2</td>\n",
              "      <td>6.166667</td>\n",
              "      <td>G</td>\n",
              "      <td>196</td>\n",
              "      <td>15</td>\n",
              "      <td>MEM</td>\n",
              "      <td>Memphis</td>\n",
              "      <td>West</td>\n",
              "      <td>Southwest</td>\n",
              "      <td>Memphis Grizzlies</td>\n",
              "      <td>Grizzlies</td>\n",
              "      <td>24.000000</td>\n",
              "      <td>4.89</td>\n",
              "      <td>10.67</td>\n",
              "      <td>0.458</td>\n",
              "      <td>1.56</td>\n",
              "      <td>4.44</td>\n",
              "      <td>0.350</td>\n",
              "      <td>0.44</td>\n",
              "      <td>1.00</td>\n",
              "      <td>0.444</td>\n",
              "      <td>0.33</td>\n",
              "      <td>1.67</td>\n",
              "      <td>2.00</td>\n",
              "      <td>4.22</td>\n",
              "      <td>0.11</td>\n",
              "      <td>0.67</td>\n",
              "      <td>0.67</td>\n",
              "      <td>1.22</td>\n",
              "      <td>11.78</td>\n",
              "      <td>246.566667</td>\n",
              "      <td>96.39</td>\n",
              "      <td>25.22</td>\n",
              "      <td>15.32</td>\n",
              "      <td>20.629741</td>\n",
              "    </tr>\n",
              "    <tr>\n",
              "      <th>3</th>\n",
              "      <td>3</td>\n",
              "      <td>3198</td>\n",
              "      <td>Ja</td>\n",
              "      <td>Morant</td>\n",
              "      <td>Ja Morant</td>\n",
              "      <td>6</td>\n",
              "      <td>3</td>\n",
              "      <td>6.250000</td>\n",
              "      <td>G</td>\n",
              "      <td>174</td>\n",
              "      <td>15</td>\n",
              "      <td>MEM</td>\n",
              "      <td>Memphis</td>\n",
              "      <td>West</td>\n",
              "      <td>Southwest</td>\n",
              "      <td>Memphis Grizzlies</td>\n",
              "      <td>Grizzlies</td>\n",
              "      <td>33.200000</td>\n",
              "      <td>10.30</td>\n",
              "      <td>21.50</td>\n",
              "      <td>0.480</td>\n",
              "      <td>2.10</td>\n",
              "      <td>5.20</td>\n",
              "      <td>0.403</td>\n",
              "      <td>6.60</td>\n",
              "      <td>8.50</td>\n",
              "      <td>0.782</td>\n",
              "      <td>1.20</td>\n",
              "      <td>4.90</td>\n",
              "      <td>6.20</td>\n",
              "      <td>6.80</td>\n",
              "      <td>0.30</td>\n",
              "      <td>1.20</td>\n",
              "      <td>1.80</td>\n",
              "      <td>3.90</td>\n",
              "      <td>29.30</td>\n",
              "      <td>246.566667</td>\n",
              "      <td>96.39</td>\n",
              "      <td>25.22</td>\n",
              "      <td>15.32</td>\n",
              "      <td>35.244667</td>\n",
              "    </tr>\n",
              "    <tr>\n",
              "      <th>4</th>\n",
              "      <td>4</td>\n",
              "      <td>3199</td>\n",
              "      <td>Desmond</td>\n",
              "      <td>Bane</td>\n",
              "      <td>Desmond Bane</td>\n",
              "      <td>6</td>\n",
              "      <td>5</td>\n",
              "      <td>6.420000</td>\n",
              "      <td>G</td>\n",
              "      <td>215</td>\n",
              "      <td>15</td>\n",
              "      <td>MEM</td>\n",
              "      <td>Memphis</td>\n",
              "      <td>West</td>\n",
              "      <td>Southwest</td>\n",
              "      <td>Memphis Grizzlies</td>\n",
              "      <td>Grizzlies</td>\n",
              "      <td>33.500000</td>\n",
              "      <td>8.30</td>\n",
              "      <td>17.80</td>\n",
              "      <td>0.465</td>\n",
              "      <td>3.80</td>\n",
              "      <td>8.50</td>\n",
              "      <td>0.451</td>\n",
              "      <td>4.30</td>\n",
              "      <td>4.80</td>\n",
              "      <td>0.912</td>\n",
              "      <td>0.50</td>\n",
              "      <td>4.40</td>\n",
              "      <td>4.90</td>\n",
              "      <td>4.80</td>\n",
              "      <td>0.30</td>\n",
              "      <td>0.60</td>\n",
              "      <td>2.40</td>\n",
              "      <td>2.30</td>\n",
              "      <td>24.70</td>\n",
              "      <td>246.566667</td>\n",
              "      <td>96.39</td>\n",
              "      <td>25.22</td>\n",
              "      <td>15.32</td>\n",
              "      <td>26.624705</td>\n",
              "    </tr>\n",
              "    <tr>\n",
              "      <th>...</th>\n",
              "      <td>...</td>\n",
              "      <td>...</td>\n",
              "      <td>...</td>\n",
              "      <td>...</td>\n",
              "      <td>...</td>\n",
              "      <td>...</td>\n",
              "      <td>...</td>\n",
              "      <td>...</td>\n",
              "      <td>...</td>\n",
              "      <td>...</td>\n",
              "      <td>...</td>\n",
              "      <td>...</td>\n",
              "      <td>...</td>\n",
              "      <td>...</td>\n",
              "      <td>...</td>\n",
              "      <td>...</td>\n",
              "      <td>...</td>\n",
              "      <td>...</td>\n",
              "      <td>...</td>\n",
              "      <td>...</td>\n",
              "      <td>...</td>\n",
              "      <td>...</td>\n",
              "      <td>...</td>\n",
              "      <td>...</td>\n",
              "      <td>...</td>\n",
              "      <td>...</td>\n",
              "      <td>...</td>\n",
              "      <td>...</td>\n",
              "      <td>...</td>\n",
              "      <td>...</td>\n",
              "      <td>...</td>\n",
              "      <td>...</td>\n",
              "      <td>...</td>\n",
              "      <td>...</td>\n",
              "      <td>...</td>\n",
              "      <td>...</td>\n",
              "      <td>...</td>\n",
              "      <td>...</td>\n",
              "      <td>...</td>\n",
              "      <td>...</td>\n",
              "      <td>...</td>\n",
              "    </tr>\n",
              "    <tr>\n",
              "      <th>343</th>\n",
              "      <td>341</td>\n",
              "      <td>3130</td>\n",
              "      <td>Jalen</td>\n",
              "      <td>Smith</td>\n",
              "      <td>Jalen Smith</td>\n",
              "      <td>6</td>\n",
              "      <td>9</td>\n",
              "      <td>6.750000</td>\n",
              "      <td>F</td>\n",
              "      <td>215</td>\n",
              "      <td>12</td>\n",
              "      <td>IND</td>\n",
              "      <td>Indiana</td>\n",
              "      <td>East</td>\n",
              "      <td>Central</td>\n",
              "      <td>Indiana Pacers</td>\n",
              "      <td>Pacers</td>\n",
              "      <td>24.000000</td>\n",
              "      <td>4.20</td>\n",
              "      <td>9.50</td>\n",
              "      <td>0.435</td>\n",
              "      <td>1.20</td>\n",
              "      <td>4.10</td>\n",
              "      <td>0.302</td>\n",
              "      <td>1.50</td>\n",
              "      <td>2.20</td>\n",
              "      <td>0.679</td>\n",
              "      <td>1.80</td>\n",
              "      <td>5.80</td>\n",
              "      <td>7.50</td>\n",
              "      <td>1.10</td>\n",
              "      <td>0.80</td>\n",
              "      <td>0.20</td>\n",
              "      <td>2.20</td>\n",
              "      <td>1.50</td>\n",
              "      <td>11.00</td>\n",
              "      <td>230.033333</td>\n",
              "      <td>87.33</td>\n",
              "      <td>22.74</td>\n",
              "      <td>15.75</td>\n",
              "      <td>20.287279</td>\n",
              "    </tr>\n",
              "    <tr>\n",
              "      <th>344</th>\n",
              "      <td>342</td>\n",
              "      <td>3131</td>\n",
              "      <td>Oshae</td>\n",
              "      <td>Brissett</td>\n",
              "      <td>Oshae Brissett</td>\n",
              "      <td>6</td>\n",
              "      <td>7</td>\n",
              "      <td>6.580000</td>\n",
              "      <td>F</td>\n",
              "      <td>210</td>\n",
              "      <td>12</td>\n",
              "      <td>IND</td>\n",
              "      <td>Indiana</td>\n",
              "      <td>East</td>\n",
              "      <td>Central</td>\n",
              "      <td>Indiana Pacers</td>\n",
              "      <td>Pacers</td>\n",
              "      <td>10.900000</td>\n",
              "      <td>0.90</td>\n",
              "      <td>2.40</td>\n",
              "      <td>0.368</td>\n",
              "      <td>0.40</td>\n",
              "      <td>1.50</td>\n",
              "      <td>0.250</td>\n",
              "      <td>0.60</td>\n",
              "      <td>0.80</td>\n",
              "      <td>0.833</td>\n",
              "      <td>0.60</td>\n",
              "      <td>1.00</td>\n",
              "      <td>1.60</td>\n",
              "      <td>0.40</td>\n",
              "      <td>0.00</td>\n",
              "      <td>0.30</td>\n",
              "      <td>0.50</td>\n",
              "      <td>0.50</td>\n",
              "      <td>2.80</td>\n",
              "      <td>230.033333</td>\n",
              "      <td>87.33</td>\n",
              "      <td>22.74</td>\n",
              "      <td>15.75</td>\n",
              "      <td>12.137731</td>\n",
              "    </tr>\n",
              "    <tr>\n",
              "      <th>345</th>\n",
              "      <td>343</td>\n",
              "      <td>3132</td>\n",
              "      <td>Isaiah</td>\n",
              "      <td>Jackson</td>\n",
              "      <td>Isaiah Jackson</td>\n",
              "      <td>6</td>\n",
              "      <td>9</td>\n",
              "      <td>6.750000</td>\n",
              "      <td>F</td>\n",
              "      <td>205</td>\n",
              "      <td>12</td>\n",
              "      <td>IND</td>\n",
              "      <td>Indiana</td>\n",
              "      <td>East</td>\n",
              "      <td>Central</td>\n",
              "      <td>Indiana Pacers</td>\n",
              "      <td>Pacers</td>\n",
              "      <td>18.300000</td>\n",
              "      <td>3.20</td>\n",
              "      <td>5.20</td>\n",
              "      <td>0.618</td>\n",
              "      <td>0.00</td>\n",
              "      <td>0.10</td>\n",
              "      <td>0.000</td>\n",
              "      <td>1.90</td>\n",
              "      <td>2.80</td>\n",
              "      <td>0.676</td>\n",
              "      <td>1.50</td>\n",
              "      <td>3.50</td>\n",
              "      <td>5.10</td>\n",
              "      <td>1.20</td>\n",
              "      <td>1.40</td>\n",
              "      <td>0.50</td>\n",
              "      <td>2.60</td>\n",
              "      <td>1.20</td>\n",
              "      <td>8.40</td>\n",
              "      <td>230.033333</td>\n",
              "      <td>87.33</td>\n",
              "      <td>22.74</td>\n",
              "      <td>15.75</td>\n",
              "      <td>16.966831</td>\n",
              "    </tr>\n",
              "    <tr>\n",
              "      <th>346</th>\n",
              "      <td>344</td>\n",
              "      <td>3133</td>\n",
              "      <td>Aaron</td>\n",
              "      <td>Nesmith</td>\n",
              "      <td>Aaron Nesmith</td>\n",
              "      <td>6</td>\n",
              "      <td>5</td>\n",
              "      <td>6.420000</td>\n",
              "      <td>F</td>\n",
              "      <td>215</td>\n",
              "      <td>12</td>\n",
              "      <td>IND</td>\n",
              "      <td>Indiana</td>\n",
              "      <td>East</td>\n",
              "      <td>Central</td>\n",
              "      <td>Indiana Pacers</td>\n",
              "      <td>Pacers</td>\n",
              "      <td>20.800000</td>\n",
              "      <td>2.40</td>\n",
              "      <td>6.30</td>\n",
              "      <td>0.386</td>\n",
              "      <td>1.00</td>\n",
              "      <td>3.40</td>\n",
              "      <td>0.290</td>\n",
              "      <td>1.00</td>\n",
              "      <td>1.20</td>\n",
              "      <td>0.818</td>\n",
              "      <td>0.30</td>\n",
              "      <td>2.80</td>\n",
              "      <td>3.10</td>\n",
              "      <td>1.60</td>\n",
              "      <td>0.80</td>\n",
              "      <td>0.30</td>\n",
              "      <td>2.60</td>\n",
              "      <td>1.00</td>\n",
              "      <td>6.90</td>\n",
              "      <td>230.033333</td>\n",
              "      <td>87.33</td>\n",
              "      <td>22.74</td>\n",
              "      <td>15.75</td>\n",
              "      <td>15.310908</td>\n",
              "    </tr>\n",
              "    <tr>\n",
              "      <th>347</th>\n",
              "      <td>345</td>\n",
              "      <td>3134</td>\n",
              "      <td>Goga</td>\n",
              "      <td>Bitadze</td>\n",
              "      <td>Goga Bitadze</td>\n",
              "      <td>6</td>\n",
              "      <td>11</td>\n",
              "      <td>6.920000</td>\n",
              "      <td>C</td>\n",
              "      <td>250</td>\n",
              "      <td>12</td>\n",
              "      <td>IND</td>\n",
              "      <td>Indiana</td>\n",
              "      <td>East</td>\n",
              "      <td>Central</td>\n",
              "      <td>Indiana Pacers</td>\n",
              "      <td>Pacers</td>\n",
              "      <td>13.100000</td>\n",
              "      <td>1.80</td>\n",
              "      <td>3.40</td>\n",
              "      <td>0.519</td>\n",
              "      <td>0.10</td>\n",
              "      <td>0.90</td>\n",
              "      <td>0.143</td>\n",
              "      <td>0.90</td>\n",
              "      <td>1.80</td>\n",
              "      <td>0.500</td>\n",
              "      <td>1.60</td>\n",
              "      <td>1.80</td>\n",
              "      <td>3.40</td>\n",
              "      <td>1.50</td>\n",
              "      <td>0.50</td>\n",
              "      <td>0.50</td>\n",
              "      <td>2.30</td>\n",
              "      <td>0.80</td>\n",
              "      <td>4.50</td>\n",
              "      <td>230.033333</td>\n",
              "      <td>87.33</td>\n",
              "      <td>22.74</td>\n",
              "      <td>15.75</td>\n",
              "      <td>15.503036</td>\n",
              "    </tr>\n",
              "  </tbody>\n",
              "</table>\n",
              "<p>348 rows × 41 columns</p>\n",
              "</div>\n",
              "      <button class=\"colab-df-convert\" onclick=\"convertToInteractive('df-61cb093c-1e08-48f9-bd57-fc44edc97dda')\"\n",
              "              title=\"Convert this dataframe to an interactive table.\"\n",
              "              style=\"display:none;\">\n",
              "        \n",
              "  <svg xmlns=\"http://www.w3.org/2000/svg\" height=\"24px\"viewBox=\"0 0 24 24\"\n",
              "       width=\"24px\">\n",
              "    <path d=\"M0 0h24v24H0V0z\" fill=\"none\"/>\n",
              "    <path d=\"M18.56 5.44l.94 2.06.94-2.06 2.06-.94-2.06-.94-.94-2.06-.94 2.06-2.06.94zm-11 1L8.5 8.5l.94-2.06 2.06-.94-2.06-.94L8.5 2.5l-.94 2.06-2.06.94zm10 10l.94 2.06.94-2.06 2.06-.94-2.06-.94-.94-2.06-.94 2.06-2.06.94z\"/><path d=\"M17.41 7.96l-1.37-1.37c-.4-.4-.92-.59-1.43-.59-.52 0-1.04.2-1.43.59L10.3 9.45l-7.72 7.72c-.78.78-.78 2.05 0 2.83L4 21.41c.39.39.9.59 1.41.59.51 0 1.02-.2 1.41-.59l7.78-7.78 2.81-2.81c.8-.78.8-2.07 0-2.86zM5.41 20L4 18.59l7.72-7.72 1.47 1.35L5.41 20z\"/>\n",
              "  </svg>\n",
              "      </button>\n",
              "      \n",
              "  <style>\n",
              "    .colab-df-container {\n",
              "      display:flex;\n",
              "      flex-wrap:wrap;\n",
              "      gap: 12px;\n",
              "    }\n",
              "\n",
              "    .colab-df-convert {\n",
              "      background-color: #E8F0FE;\n",
              "      border: none;\n",
              "      border-radius: 50%;\n",
              "      cursor: pointer;\n",
              "      display: none;\n",
              "      fill: #1967D2;\n",
              "      height: 32px;\n",
              "      padding: 0 0 0 0;\n",
              "      width: 32px;\n",
              "    }\n",
              "\n",
              "    .colab-df-convert:hover {\n",
              "      background-color: #E2EBFA;\n",
              "      box-shadow: 0px 1px 2px rgba(60, 64, 67, 0.3), 0px 1px 3px 1px rgba(60, 64, 67, 0.15);\n",
              "      fill: #174EA6;\n",
              "    }\n",
              "\n",
              "    [theme=dark] .colab-df-convert {\n",
              "      background-color: #3B4455;\n",
              "      fill: #D2E3FC;\n",
              "    }\n",
              "\n",
              "    [theme=dark] .colab-df-convert:hover {\n",
              "      background-color: #434B5C;\n",
              "      box-shadow: 0px 1px 3px 1px rgba(0, 0, 0, 0.15);\n",
              "      filter: drop-shadow(0px 1px 2px rgba(0, 0, 0, 0.3));\n",
              "      fill: #FFFFFF;\n",
              "    }\n",
              "  </style>\n",
              "\n",
              "      <script>\n",
              "        const buttonEl =\n",
              "          document.querySelector('#df-61cb093c-1e08-48f9-bd57-fc44edc97dda button.colab-df-convert');\n",
              "        buttonEl.style.display =\n",
              "          google.colab.kernel.accessAllowed ? 'block' : 'none';\n",
              "\n",
              "        async function convertToInteractive(key) {\n",
              "          const element = document.querySelector('#df-61cb093c-1e08-48f9-bd57-fc44edc97dda');\n",
              "          const dataTable =\n",
              "            await google.colab.kernel.invokeFunction('convertToInteractive',\n",
              "                                                     [key], {});\n",
              "          if (!dataTable) return;\n",
              "\n",
              "          const docLinkHtml = 'Like what you see? Visit the ' +\n",
              "            '<a target=\"_blank\" href=https://colab.research.google.com/notebooks/data_table.ipynb>data table notebook</a>'\n",
              "            + ' to learn more about interactive tables.';\n",
              "          element.innerHTML = '';\n",
              "          dataTable['output_type'] = 'display_data';\n",
              "          await google.colab.output.renderOutput(dataTable, element);\n",
              "          const docLink = document.createElement('div');\n",
              "          docLink.innerHTML = docLinkHtml;\n",
              "          element.appendChild(docLink);\n",
              "        }\n",
              "      </script>\n",
              "    </div>\n",
              "  </div>\n",
              "  "
            ]
          },
          "metadata": {},
          "execution_count": 15
        }
      ]
    },
    {
      "cell_type": "markdown",
      "source": [
        "Next, we import all of the needed libraries to do regressional analysis."
      ],
      "metadata": {
        "id": "OsjEAJNTs2Nd"
      }
    },
    {
      "cell_type": "code",
      "source": [
        "from sklearn.linear_model import LinearRegression\n",
        "import numpy as np\n",
        "from sklearn.preprocessing import StandardScaler\n",
        "from sklearn.neighbors import KNeighborsRegressor\n",
        "from sklearn.pipeline import make_pipeline\n",
        "from sklearn.compose import make_column_transformer\n",
        "from sklearn.metrics import mean_squared_error\n",
        "from sklearn.metrics import mean_absolute_error\n",
        "from sklearn.model_selection import cross_val_score\n",
        "from sklearn.model_selection import GridSearchCV\n",
        "from sklearn.ensemble import VotingRegressor\n",
        "from sklearn.ensemble import StackingRegressor\n",
        "from sklearn.preprocessing import OneHotEncoder\n",
        "from sklearn.metrics import r2_score"
      ],
      "metadata": {
        "id": "sWRl2goJszgE"
      },
      "execution_count": null,
      "outputs": []
    },
    {
      "cell_type": "markdown",
      "source": [
        "In our simple regression, we will analyze the relationship between usage rate and points. First, we will create a simple scatterplot to visualize this relationship."
      ],
      "metadata": {
        "id": "jn_a-kvctAAY"
      }
    },
    {
      "cell_type": "code",
      "source": [
        "df.plot.scatter(x='usage', y='pts')"
      ],
      "metadata": {
        "colab": {
          "base_uri": "https://localhost:8080/",
          "height": 296
        },
        "id": "HEFASdnQs_ry",
        "outputId": "c82bd1c1-768b-40fb-f797-e8940f322821"
      },
      "execution_count": null,
      "outputs": [
        {
          "output_type": "execute_result",
          "data": {
            "text/plain": [
              "<matplotlib.axes._subplots.AxesSubplot at 0x7ff87ca7b040>"
            ]
          },
          "metadata": {},
          "execution_count": 17
        },
        {
          "output_type": "display_data",
          "data": {
            "text/plain": [
              "<Figure size 432x288 with 1 Axes>"
            ],
            "image/png": "[encoded data removed]"
          },
          "metadata": {
            "needs_background": "light"
          }
        }
      ]
    },
    {
      "cell_type": "markdown",
      "source": [
        "We notice that there is a positive association between the two variables. As the usage rate of a player increases, the amount of points that player averages in a season also increases."
      ],
      "metadata": {
        "id": "yrMI-KHVtbrC"
      }
    },
    {
      "cell_type": "markdown",
      "source": [
        "With this in mind, we split our data 50-50 for our training and test datasets."
      ],
      "metadata": {
        "id": "h5XaOIfutmPJ"
      }
    },
    {
      "cell_type": "code",
      "source": [
        "nba_train = df.loc[:173].copy()\n",
        "nba_test = df.loc[174:].copy()"
      ],
      "metadata": {
        "id": "N9D7MNVztimQ"
      },
      "execution_count": null,
      "outputs": []
    },
    {
      "cell_type": "code",
      "source": [
        "nba_train"
      ],
      "metadata": {
        "colab": {
          "base_uri": "https://localhost:8080/",
          "height": 696
        },
        "id": "55EPvXeBtxYr",
        "outputId": "9a24bd5b-befe-4925-86b7-c538ac107000"
      },
      "execution_count": null,
      "outputs": [
        {
          "output_type": "execute_result",
          "data": {
            "text/plain": [
              "     Unnamed: 0    id first_name      last_name            full_name  \\\n",
              "0             0     3     Steven          Adams         Steven Adams   \n",
              "1             1    66     Dillon         Brooks        Dillon Brooks   \n",
              "2             2   249       Tyus          Jones           Tyus Jones   \n",
              "3             3  3198         Ja         Morant            Ja Morant   \n",
              "4             4  3199    Desmond           Bane         Desmond Bane   \n",
              "..          ...   ...        ...            ...                  ...   \n",
              "169         168   297      Lauri      Markkanen      Lauri Markkanen   \n",
              "170         169   358      Kelly         Olynyk         Kelly Olynyk   \n",
              "171         170   413     Collin         Sexton        Collin Sexton   \n",
              "172         171   457     Jarred     Vanderbilt    Jarred Vanderbilt   \n",
              "173         172  3169      Talen  Horton-Tucker  Talen Horton-Tucker   \n",
              "\n",
              "     height_feet  height_inches  actual_height_ft position  weight_pounds  \\\n",
              "0              7              0          7.000000        C            265   \n",
              "1              6              6          6.500000      G-F            220   \n",
              "2              6              2          6.166667        G            196   \n",
              "3              6              3          6.250000        G            174   \n",
              "4              6              5          6.420000        G            215   \n",
              "..           ...            ...               ...      ...            ...   \n",
              "169            7              0          7.000000        F            240   \n",
              "170            7              0          7.000000        F            240   \n",
              "171            6              2          6.166667        G            190   \n",
              "172            6              9          6.750000        F            214   \n",
              "173            6              4          6.330000        G            234   \n",
              "\n",
              "     team.id team.abbreviation team.city team.conference team.division  \\\n",
              "0         15               MEM   Memphis            West     Southwest   \n",
              "1         15               MEM   Memphis            West     Southwest   \n",
              "2         15               MEM   Memphis            West     Southwest   \n",
              "3         15               MEM   Memphis            West     Southwest   \n",
              "4         15               MEM   Memphis            West     Southwest   \n",
              "..       ...               ...       ...             ...           ...   \n",
              "169       29               UTA      Utah            West     Northwest   \n",
              "170       29               UTA      Utah            West     Northwest   \n",
              "171       29               UTA      Utah            West     Northwest   \n",
              "172       29               UTA      Utah            West     Northwest   \n",
              "173       29               UTA      Utah            West     Northwest   \n",
              "\n",
              "        team.full_name  team.name        mpg    fgm    fga  fg_pct  fg3m  \\\n",
              "0    Memphis Grizzlies  Grizzlies  26.100000   3.11   5.33   0.583  0.00   \n",
              "1    Memphis Grizzlies  Grizzlies  17.766667   3.89   8.89   0.438  1.89   \n",
              "2    Memphis Grizzlies  Grizzlies  24.000000   4.89  10.67   0.458  1.56   \n",
              "3    Memphis Grizzlies  Grizzlies  33.200000  10.30  21.50   0.480  2.10   \n",
              "4    Memphis Grizzlies  Grizzlies  33.500000   8.30  17.80   0.465  3.80   \n",
              "..                 ...        ...        ...    ...    ...     ...   ...   \n",
              "169          Utah Jazz       Jazz  33.800000   8.40  16.30   0.515  2.00   \n",
              "170          Utah Jazz       Jazz  27.100000   4.60   8.20   0.561  1.90   \n",
              "171          Utah Jazz       Jazz  21.800000   4.60   9.70   0.474  1.30   \n",
              "172          Utah Jazz       Jazz  25.300000   3.70   6.60   0.561  0.60   \n",
              "173          Utah Jazz       Jazz  16.400000   2.90   7.20  40.000  0.80   \n",
              "\n",
              "     fg3a  fg3_pct   ftm   fta  ft_pct  oreb  dreb    reb   ast   blk   stl  \\\n",
              "0    0.00    0.000  0.78  2.56   0.304  4.67  6.44  11.11  2.56  1.56  0.78   \n",
              "1    3.78    0.500  1.00  1.56   0.643  0.22  1.33   1.56  1.33  0.00  0.44   \n",
              "2    4.44    0.350  0.44  1.00   0.444  0.33  1.67   2.00  4.22  0.11  0.67   \n",
              "3    5.20    0.403  6.60  8.50   0.782  1.20  4.90   6.20  6.80  0.30  1.20   \n",
              "4    8.50    0.451  4.30  4.80   0.912  0.50  4.40   4.90  4.80  0.30  0.60   \n",
              "..    ...      ...   ...   ...     ...   ...   ...    ...   ...   ...   ...   \n",
              "169  6.70    0.299  3.40  4.00   0.850  2.20  7.10   9.30  2.70  0.90  0.70   \n",
              "170  3.20    0.594  1.60  2.40   0.667  1.40  2.70   4.10  3.40  0.60  1.50   \n",
              "171  3.30    0.394  3.10  3.70   0.838  1.20  1.70   2.90  1.90  0.10  0.80   \n",
              "172  1.10    0.545  1.00  1.50   0.667  2.20  6.00   8.20  3.10  0.50  1.50   \n",
              "173  2.90    0.255  1.40  1.80   0.821  0.60  2.10   2.70  2.60  0.30  0.80   \n",
              "\n",
              "       pf  turnover    pts        TmMP  TmFGA  TmFTA  TmTOV      usage  \n",
              "0    2.44      2.11   7.00  246.566667  96.39  25.22  15.32  13.179526  \n",
              "1    2.00      0.89  10.67  246.566667  96.39  25.22  15.32  23.655565  \n",
              "2    0.67      1.22  11.78  246.566667  96.39  25.22  15.32  20.629741  \n",
              "3    1.80      3.90  29.30  246.566667  96.39  25.22  15.32  35.244667  \n",
              "4    2.40      2.30  24.70  246.566667  96.39  25.22  15.32  26.624705  \n",
              "..    ...       ...    ...         ...    ...    ...    ...        ...  \n",
              "169  1.80      1.80  22.20  232.900000  88.70  20.50  14.50  24.388875  \n",
              "170  4.60      2.50  12.70  232.900000  88.70  20.50  14.50  18.006094  \n",
              "171  2.40      1.70  13.60  232.900000  88.70  20.50  14.50  24.805642  \n",
              "172  4.00      1.90   9.00  232.900000  88.70  20.50  14.50  15.028103  \n",
              "173  1.40      1.00   7.90  232.900000  88.70  20.50  14.50  22.758397  \n",
              "\n",
              "[174 rows x 41 columns]"
            ],
            "text/html": [
              "\n",
              "  <div id=\"df-594f365a-64c9-48ed-b215-29493377f812\">\n",
              "    <div class=\"colab-df-container\">\n",
              "      <div>\n",
              "<style scoped>\n",
              "    .dataframe tbody tr th:only-of-type {\n",
              "        vertical-align: middle;\n",
              "    }\n",
              "\n",
              "    .dataframe tbody tr th {\n",
              "        vertical-align: top;\n",
              "    }\n",
              "\n",
              "    .dataframe thead th {\n",
              "        text-align: right;\n",
              "    }\n",
              "</style>\n",
              "<table border=\"1\" class=\"dataframe\">\n",
              "  <thead>\n",
              "    <tr style=\"text-align: right;\">\n",
              "      <th></th>\n",
              "      <th>Unnamed: 0</th>\n",
              "      <th>id</th>\n",
              "      <th>first_name</th>\n",
              "      <th>last_name</th>\n",
              "      <th>full_name</th>\n",
              "      <th>height_feet</th>\n",
              "      <th>height_inches</th>\n",
              "      <th>actual_height_ft</th>\n",
              "      <th>position</th>\n",
              "      <th>weight_pounds</th>\n",
              "      <th>team.id</th>\n",
              "      <th>team.abbreviation</th>\n",
              "      <th>team.city</th>\n",
              "      <th>team.conference</th>\n",
              "      <th>team.division</th>\n",
              "      <th>team.full_name</th>\n",
              "      <th>team.name</th>\n",
              "      <th>mpg</th>\n",
              "      <th>fgm</th>\n",
              "      <th>fga</th>\n",
              "      <th>fg_pct</th>\n",
              "      <th>fg3m</th>\n",
              "      <th>fg3a</th>\n",
              "      <th>fg3_pct</th>\n",
              "      <th>ftm</th>\n",
              "      <th>fta</th>\n",
              "      <th>ft_pct</th>\n",
              "      <th>oreb</th>\n",
              "      <th>dreb</th>\n",
              "      <th>reb</th>\n",
              "      <th>ast</th>\n",
              "      <th>blk</th>\n",
              "      <th>stl</th>\n",
              "      <th>pf</th>\n",
              "      <th>turnover</th>\n",
              "      <th>pts</th>\n",
              "      <th>TmMP</th>\n",
              "      <th>TmFGA</th>\n",
              "      <th>TmFTA</th>\n",
              "      <th>TmTOV</th>\n",
              "      <th>usage</th>\n",
              "    </tr>\n",
              "  </thead>\n",
              "  <tbody>\n",
              "    <tr>\n",
              "      <th>0</th>\n",
              "      <td>0</td>\n",
              "      <td>3</td>\n",
              "      <td>Steven</td>\n",
              "      <td>Adams</td>\n",
              "      <td>Steven Adams</td>\n",
              "      <td>7</td>\n",
              "      <td>0</td>\n",
              "      <td>7.000000</td>\n",
              "      <td>C</td>\n",
              "      <td>265</td>\n",
              "      <td>15</td>\n",
              "      <td>MEM</td>\n",
              "      <td>Memphis</td>\n",
              "      <td>West</td>\n",
              "      <td>Southwest</td>\n",
              "      <td>Memphis Grizzlies</td>\n",
              "      <td>Grizzlies</td>\n",
              "      <td>26.100000</td>\n",
              "      <td>3.11</td>\n",
              "      <td>5.33</td>\n",
              "      <td>0.583</td>\n",
              "      <td>0.00</td>\n",
              "      <td>0.00</td>\n",
              "      <td>0.000</td>\n",
              "      <td>0.78</td>\n",
              "      <td>2.56</td>\n",
              "      <td>0.304</td>\n",
              "      <td>4.67</td>\n",
              "      <td>6.44</td>\n",
              "      <td>11.11</td>\n",
              "      <td>2.56</td>\n",
              "      <td>1.56</td>\n",
              "      <td>0.78</td>\n",
              "      <td>2.44</td>\n",
              "      <td>2.11</td>\n",
              "      <td>7.00</td>\n",
              "      <td>246.566667</td>\n",
              "      <td>96.39</td>\n",
              "      <td>25.22</td>\n",
              "      <td>15.32</td>\n",
              "      <td>13.179526</td>\n",
              "    </tr>\n",
              "    <tr>\n",
              "      <th>1</th>\n",
              "      <td>1</td>\n",
              "      <td>66</td>\n",
              "      <td>Dillon</td>\n",
              "      <td>Brooks</td>\n",
              "      <td>Dillon Brooks</td>\n",
              "      <td>6</td>\n",
              "      <td>6</td>\n",
              "      <td>6.500000</td>\n",
              "      <td>G-F</td>\n",
              "      <td>220</td>\n",
              "      <td>15</td>\n",
              "      <td>MEM</td>\n",
              "      <td>Memphis</td>\n",
              "      <td>West</td>\n",
              "      <td>Southwest</td>\n",
              "      <td>Memphis Grizzlies</td>\n",
              "      <td>Grizzlies</td>\n",
              "      <td>17.766667</td>\n",
              "      <td>3.89</td>\n",
              "      <td>8.89</td>\n",
              "      <td>0.438</td>\n",
              "      <td>1.89</td>\n",
              "      <td>3.78</td>\n",
              "      <td>0.500</td>\n",
              "      <td>1.00</td>\n",
              "      <td>1.56</td>\n",
              "      <td>0.643</td>\n",
              "      <td>0.22</td>\n",
              "      <td>1.33</td>\n",
              "      <td>1.56</td>\n",
              "      <td>1.33</td>\n",
              "      <td>0.00</td>\n",
              "      <td>0.44</td>\n",
              "      <td>2.00</td>\n",
              "      <td>0.89</td>\n",
              "      <td>10.67</td>\n",
              "      <td>246.566667</td>\n",
              "      <td>96.39</td>\n",
              "      <td>25.22</td>\n",
              "      <td>15.32</td>\n",
              "      <td>23.655565</td>\n",
              "    </tr>\n",
              "    <tr>\n",
              "      <th>2</th>\n",
              "      <td>2</td>\n",
              "      <td>249</td>\n",
              "      <td>Tyus</td>\n",
              "      <td>Jones</td>\n",
              "      <td>Tyus Jones</td>\n",
              "      <td>6</td>\n",
              "      <td>2</td>\n",
              "      <td>6.166667</td>\n",
              "      <td>G</td>\n",
              "      <td>196</td>\n",
              "      <td>15</td>\n",
              "      <td>MEM</td>\n",
              "      <td>Memphis</td>\n",
              "      <td>West</td>\n",
              "      <td>Southwest</td>\n",
              "      <td>Memphis Grizzlies</td>\n",
              "      <td>Grizzlies</td>\n",
              "      <td>24.000000</td>\n",
              "      <td>4.89</td>\n",
              "      <td>10.67</td>\n",
              "      <td>0.458</td>\n",
              "      <td>1.56</td>\n",
              "      <td>4.44</td>\n",
              "      <td>0.350</td>\n",
              "      <td>0.44</td>\n",
              "      <td>1.00</td>\n",
              "      <td>0.444</td>\n",
              "      <td>0.33</td>\n",
              "      <td>1.67</td>\n",
              "      <td>2.00</td>\n",
              "      <td>4.22</td>\n",
              "      <td>0.11</td>\n",
              "      <td>0.67</td>\n",
              "      <td>0.67</td>\n",
              "      <td>1.22</td>\n",
              "      <td>11.78</td>\n",
              "      <td>246.566667</td>\n",
              "      <td>96.39</td>\n",
              "      <td>25.22</td>\n",
              "      <td>15.32</td>\n",
              "      <td>20.629741</td>\n",
              "    </tr>\n",
              "    <tr>\n",
              "      <th>3</th>\n",
              "      <td>3</td>\n",
              "      <td>3198</td>\n",
              "      <td>Ja</td>\n",
              "      <td>Morant</td>\n",
              "      <td>Ja Morant</td>\n",
              "      <td>6</td>\n",
              "      <td>3</td>\n",
              "      <td>6.250000</td>\n",
              "      <td>G</td>\n",
              "      <td>174</td>\n",
              "      <td>15</td>\n",
              "      <td>MEM</td>\n",
              "      <td>Memphis</td>\n",
              "      <td>West</td>\n",
              "      <td>Southwest</td>\n",
              "      <td>Memphis Grizzlies</td>\n",
              "      <td>Grizzlies</td>\n",
              "      <td>33.200000</td>\n",
              "      <td>10.30</td>\n",
              "      <td>21.50</td>\n",
              "      <td>0.480</td>\n",
              "      <td>2.10</td>\n",
              "      <td>5.20</td>\n",
              "      <td>0.403</td>\n",
              "      <td>6.60</td>\n",
              "      <td>8.50</td>\n",
              "      <td>0.782</td>\n",
              "      <td>1.20</td>\n",
              "      <td>4.90</td>\n",
              "      <td>6.20</td>\n",
              "      <td>6.80</td>\n",
              "      <td>0.30</td>\n",
              "      <td>1.20</td>\n",
              "      <td>1.80</td>\n",
              "      <td>3.90</td>\n",
              "      <td>29.30</td>\n",
              "      <td>246.566667</td>\n",
              "      <td>96.39</td>\n",
              "      <td>25.22</td>\n",
              "      <td>15.32</td>\n",
              "      <td>35.244667</td>\n",
              "    </tr>\n",
              "    <tr>\n",
              "      <th>4</th>\n",
              "      <td>4</td>\n",
              "      <td>3199</td>\n",
              "      <td>Desmond</td>\n",
              "      <td>Bane</td>\n",
              "      <td>Desmond Bane</td>\n",
              "      <td>6</td>\n",
              "      <td>5</td>\n",
              "      <td>6.420000</td>\n",
              "      <td>G</td>\n",
              "      <td>215</td>\n",
              "      <td>15</td>\n",
              "      <td>MEM</td>\n",
              "      <td>Memphis</td>\n",
              "      <td>West</td>\n",
              "      <td>Southwest</td>\n",
              "      <td>Memphis Grizzlies</td>\n",
              "      <td>Grizzlies</td>\n",
              "      <td>33.500000</td>\n",
              "      <td>8.30</td>\n",
              "      <td>17.80</td>\n",
              "      <td>0.465</td>\n",
              "      <td>3.80</td>\n",
              "      <td>8.50</td>\n",
              "      <td>0.451</td>\n",
              "      <td>4.30</td>\n",
              "      <td>4.80</td>\n",
              "      <td>0.912</td>\n",
              "      <td>0.50</td>\n",
              "      <td>4.40</td>\n",
              "      <td>4.90</td>\n",
              "      <td>4.80</td>\n",
              "      <td>0.30</td>\n",
              "      <td>0.60</td>\n",
              "      <td>2.40</td>\n",
              "      <td>2.30</td>\n",
              "      <td>24.70</td>\n",
              "      <td>246.566667</td>\n",
              "      <td>96.39</td>\n",
              "      <td>25.22</td>\n",
              "      <td>15.32</td>\n",
              "      <td>26.624705</td>\n",
              "    </tr>\n",
              "    <tr>\n",
              "      <th>...</th>\n",
              "      <td>...</td>\n",
              "      <td>...</td>\n",
              "      <td>...</td>\n",
              "      <td>...</td>\n",
              "      <td>...</td>\n",
              "      <td>...</td>\n",
              "      <td>...</td>\n",
              "      <td>...</td>\n",
              "      <td>...</td>\n",
              "      <td>...</td>\n",
              "      <td>...</td>\n",
              "      <td>...</td>\n",
              "      <td>...</td>\n",
              "      <td>...</td>\n",
              "      <td>...</td>\n",
              "      <td>...</td>\n",
              "      <td>...</td>\n",
              "      <td>...</td>\n",
              "      <td>...</td>\n",
              "      <td>...</td>\n",
              "      <td>...</td>\n",
              "      <td>...</td>\n",
              "      <td>...</td>\n",
              "      <td>...</td>\n",
              "      <td>...</td>\n",
              "      <td>...</td>\n",
              "      <td>...</td>\n",
              "      <td>...</td>\n",
              "      <td>...</td>\n",
              "      <td>...</td>\n",
              "      <td>...</td>\n",
              "      <td>...</td>\n",
              "      <td>...</td>\n",
              "      <td>...</td>\n",
              "      <td>...</td>\n",
              "      <td>...</td>\n",
              "      <td>...</td>\n",
              "      <td>...</td>\n",
              "      <td>...</td>\n",
              "      <td>...</td>\n",
              "      <td>...</td>\n",
              "    </tr>\n",
              "    <tr>\n",
              "      <th>169</th>\n",
              "      <td>168</td>\n",
              "      <td>297</td>\n",
              "      <td>Lauri</td>\n",
              "      <td>Markkanen</td>\n",
              "      <td>Lauri Markkanen</td>\n",
              "      <td>7</td>\n",
              "      <td>0</td>\n",
              "      <td>7.000000</td>\n",
              "      <td>F</td>\n",
              "      <td>240</td>\n",
              "      <td>29</td>\n",
              "      <td>UTA</td>\n",
              "      <td>Utah</td>\n",
              "      <td>West</td>\n",
              "      <td>Northwest</td>\n",
              "      <td>Utah Jazz</td>\n",
              "      <td>Jazz</td>\n",
              "      <td>33.800000</td>\n",
              "      <td>8.40</td>\n",
              "      <td>16.30</td>\n",
              "      <td>0.515</td>\n",
              "      <td>2.00</td>\n",
              "      <td>6.70</td>\n",
              "      <td>0.299</td>\n",
              "      <td>3.40</td>\n",
              "      <td>4.00</td>\n",
              "      <td>0.850</td>\n",
              "      <td>2.20</td>\n",
              "      <td>7.10</td>\n",
              "      <td>9.30</td>\n",
              "      <td>2.70</td>\n",
              "      <td>0.90</td>\n",
              "      <td>0.70</td>\n",
              "      <td>1.80</td>\n",
              "      <td>1.80</td>\n",
              "      <td>22.20</td>\n",
              "      <td>232.900000</td>\n",
              "      <td>88.70</td>\n",
              "      <td>20.50</td>\n",
              "      <td>14.50</td>\n",
              "      <td>24.388875</td>\n",
              "    </tr>\n",
              "    <tr>\n",
              "      <th>170</th>\n",
              "      <td>169</td>\n",
              "      <td>358</td>\n",
              "      <td>Kelly</td>\n",
              "      <td>Olynyk</td>\n",
              "      <td>Kelly Olynyk</td>\n",
              "      <td>7</td>\n",
              "      <td>0</td>\n",
              "      <td>7.000000</td>\n",
              "      <td>F</td>\n",
              "      <td>240</td>\n",
              "      <td>29</td>\n",
              "      <td>UTA</td>\n",
              "      <td>Utah</td>\n",
              "      <td>West</td>\n",
              "      <td>Northwest</td>\n",
              "      <td>Utah Jazz</td>\n",
              "      <td>Jazz</td>\n",
              "      <td>27.100000</td>\n",
              "      <td>4.60</td>\n",
              "      <td>8.20</td>\n",
              "      <td>0.561</td>\n",
              "      <td>1.90</td>\n",
              "      <td>3.20</td>\n",
              "      <td>0.594</td>\n",
              "      <td>1.60</td>\n",
              "      <td>2.40</td>\n",
              "      <td>0.667</td>\n",
              "      <td>1.40</td>\n",
              "      <td>2.70</td>\n",
              "      <td>4.10</td>\n",
              "      <td>3.40</td>\n",
              "      <td>0.60</td>\n",
              "      <td>1.50</td>\n",
              "      <td>4.60</td>\n",
              "      <td>2.50</td>\n",
              "      <td>12.70</td>\n",
              "      <td>232.900000</td>\n",
              "      <td>88.70</td>\n",
              "      <td>20.50</td>\n",
              "      <td>14.50</td>\n",
              "      <td>18.006094</td>\n",
              "    </tr>\n",
              "    <tr>\n",
              "      <th>171</th>\n",
              "      <td>170</td>\n",
              "      <td>413</td>\n",
              "      <td>Collin</td>\n",
              "      <td>Sexton</td>\n",
              "      <td>Collin Sexton</td>\n",
              "      <td>6</td>\n",
              "      <td>2</td>\n",
              "      <td>6.166667</td>\n",
              "      <td>G</td>\n",
              "      <td>190</td>\n",
              "      <td>29</td>\n",
              "      <td>UTA</td>\n",
              "      <td>Utah</td>\n",
              "      <td>West</td>\n",
              "      <td>Northwest</td>\n",
              "      <td>Utah Jazz</td>\n",
              "      <td>Jazz</td>\n",
              "      <td>21.800000</td>\n",
              "      <td>4.60</td>\n",
              "      <td>9.70</td>\n",
              "      <td>0.474</td>\n",
              "      <td>1.30</td>\n",
              "      <td>3.30</td>\n",
              "      <td>0.394</td>\n",
              "      <td>3.10</td>\n",
              "      <td>3.70</td>\n",
              "      <td>0.838</td>\n",
              "      <td>1.20</td>\n",
              "      <td>1.70</td>\n",
              "      <td>2.90</td>\n",
              "      <td>1.90</td>\n",
              "      <td>0.10</td>\n",
              "      <td>0.80</td>\n",
              "      <td>2.40</td>\n",
              "      <td>1.70</td>\n",
              "      <td>13.60</td>\n",
              "      <td>232.900000</td>\n",
              "      <td>88.70</td>\n",
              "      <td>20.50</td>\n",
              "      <td>14.50</td>\n",
              "      <td>24.805642</td>\n",
              "    </tr>\n",
              "    <tr>\n",
              "      <th>172</th>\n",
              "      <td>171</td>\n",
              "      <td>457</td>\n",
              "      <td>Jarred</td>\n",
              "      <td>Vanderbilt</td>\n",
              "      <td>Jarred Vanderbilt</td>\n",
              "      <td>6</td>\n",
              "      <td>9</td>\n",
              "      <td>6.750000</td>\n",
              "      <td>F</td>\n",
              "      <td>214</td>\n",
              "      <td>29</td>\n",
              "      <td>UTA</td>\n",
              "      <td>Utah</td>\n",
              "      <td>West</td>\n",
              "      <td>Northwest</td>\n",
              "      <td>Utah Jazz</td>\n",
              "      <td>Jazz</td>\n",
              "      <td>25.300000</td>\n",
              "      <td>3.70</td>\n",
              "      <td>6.60</td>\n",
              "      <td>0.561</td>\n",
              "      <td>0.60</td>\n",
              "      <td>1.10</td>\n",
              "      <td>0.545</td>\n",
              "      <td>1.00</td>\n",
              "      <td>1.50</td>\n",
              "      <td>0.667</td>\n",
              "      <td>2.20</td>\n",
              "      <td>6.00</td>\n",
              "      <td>8.20</td>\n",
              "      <td>3.10</td>\n",
              "      <td>0.50</td>\n",
              "      <td>1.50</td>\n",
              "      <td>4.00</td>\n",
              "      <td>1.90</td>\n",
              "      <td>9.00</td>\n",
              "      <td>232.900000</td>\n",
              "      <td>88.70</td>\n",
              "      <td>20.50</td>\n",
              "      <td>14.50</td>\n",
              "      <td>15.028103</td>\n",
              "    </tr>\n",
              "    <tr>\n",
              "      <th>173</th>\n",
              "      <td>172</td>\n",
              "      <td>3169</td>\n",
              "      <td>Talen</td>\n",
              "      <td>Horton-Tucker</td>\n",
              "      <td>Talen Horton-Tucker</td>\n",
              "      <td>6</td>\n",
              "      <td>4</td>\n",
              "      <td>6.330000</td>\n",
              "      <td>G</td>\n",
              "      <td>234</td>\n",
              "      <td>29</td>\n",
              "      <td>UTA</td>\n",
              "      <td>Utah</td>\n",
              "      <td>West</td>\n",
              "      <td>Northwest</td>\n",
              "      <td>Utah Jazz</td>\n",
              "      <td>Jazz</td>\n",
              "      <td>16.400000</td>\n",
              "      <td>2.90</td>\n",
              "      <td>7.20</td>\n",
              "      <td>40.000</td>\n",
              "      <td>0.80</td>\n",
              "      <td>2.90</td>\n",
              "      <td>0.255</td>\n",
              "      <td>1.40</td>\n",
              "      <td>1.80</td>\n",
              "      <td>0.821</td>\n",
              "      <td>0.60</td>\n",
              "      <td>2.10</td>\n",
              "      <td>2.70</td>\n",
              "      <td>2.60</td>\n",
              "      <td>0.30</td>\n",
              "      <td>0.80</td>\n",
              "      <td>1.40</td>\n",
              "      <td>1.00</td>\n",
              "      <td>7.90</td>\n",
              "      <td>232.900000</td>\n",
              "      <td>88.70</td>\n",
              "      <td>20.50</td>\n",
              "      <td>14.50</td>\n",
              "      <td>22.758397</td>\n",
              "    </tr>\n",
              "  </tbody>\n",
              "</table>\n",
              "<p>174 rows × 41 columns</p>\n",
              "</div>\n",
              "      <button class=\"colab-df-convert\" onclick=\"convertToInteractive('df-594f365a-64c9-48ed-b215-29493377f812')\"\n",
              "              title=\"Convert this dataframe to an interactive table.\"\n",
              "              style=\"display:none;\">\n",
              "        \n",
              "  <svg xmlns=\"http://www.w3.org/2000/svg\" height=\"24px\"viewBox=\"0 0 24 24\"\n",
              "       width=\"24px\">\n",
              "    <path d=\"M0 0h24v24H0V0z\" fill=\"none\"/>\n",
              "    <path d=\"M18.56 5.44l.94 2.06.94-2.06 2.06-.94-2.06-.94-.94-2.06-.94 2.06-2.06.94zm-11 1L8.5 8.5l.94-2.06 2.06-.94-2.06-.94L8.5 2.5l-.94 2.06-2.06.94zm10 10l.94 2.06.94-2.06 2.06-.94-2.06-.94-.94-2.06-.94 2.06-2.06.94z\"/><path d=\"M17.41 7.96l-1.37-1.37c-.4-.4-.92-.59-1.43-.59-.52 0-1.04.2-1.43.59L10.3 9.45l-7.72 7.72c-.78.78-.78 2.05 0 2.83L4 21.41c.39.39.9.59 1.41.59.51 0 1.02-.2 1.41-.59l7.78-7.78 2.81-2.81c.8-.78.8-2.07 0-2.86zM5.41 20L4 18.59l7.72-7.72 1.47 1.35L5.41 20z\"/>\n",
              "  </svg>\n",
              "      </button>\n",
              "      \n",
              "  <style>\n",
              "    .colab-df-container {\n",
              "      display:flex;\n",
              "      flex-wrap:wrap;\n",
              "      gap: 12px;\n",
              "    }\n",
              "\n",
              "    .colab-df-convert {\n",
              "      background-color: #E8F0FE;\n",
              "      border: none;\n",
              "      border-radius: 50%;\n",
              "      cursor: pointer;\n",
              "      display: none;\n",
              "      fill: #1967D2;\n",
              "      height: 32px;\n",
              "      padding: 0 0 0 0;\n",
              "      width: 32px;\n",
              "    }\n",
              "\n",
              "    .colab-df-convert:hover {\n",
              "      background-color: #E2EBFA;\n",
              "      box-shadow: 0px 1px 2px rgba(60, 64, 67, 0.3), 0px 1px 3px 1px rgba(60, 64, 67, 0.15);\n",
              "      fill: #174EA6;\n",
              "    }\n",
              "\n",
              "    [theme=dark] .colab-df-convert {\n",
              "      background-color: #3B4455;\n",
              "      fill: #D2E3FC;\n",
              "    }\n",
              "\n",
              "    [theme=dark] .colab-df-convert:hover {\n",
              "      background-color: #434B5C;\n",
              "      box-shadow: 0px 1px 3px 1px rgba(0, 0, 0, 0.15);\n",
              "      filter: drop-shadow(0px 1px 2px rgba(0, 0, 0, 0.3));\n",
              "      fill: #FFFFFF;\n",
              "    }\n",
              "  </style>\n",
              "\n",
              "      <script>\n",
              "        const buttonEl =\n",
              "          document.querySelector('#df-594f365a-64c9-48ed-b215-29493377f812 button.colab-df-convert');\n",
              "        buttonEl.style.display =\n",
              "          google.colab.kernel.accessAllowed ? 'block' : 'none';\n",
              "\n",
              "        async function convertToInteractive(key) {\n",
              "          const element = document.querySelector('#df-594f365a-64c9-48ed-b215-29493377f812');\n",
              "          const dataTable =\n",
              "            await google.colab.kernel.invokeFunction('convertToInteractive',\n",
              "                                                     [key], {});\n",
              "          if (!dataTable) return;\n",
              "\n",
              "          const docLinkHtml = 'Like what you see? Visit the ' +\n",
              "            '<a target=\"_blank\" href=https://colab.research.google.com/notebooks/data_table.ipynb>data table notebook</a>'\n",
              "            + ' to learn more about interactive tables.';\n",
              "          element.innerHTML = '';\n",
              "          dataTable['output_type'] = 'display_data';\n",
              "          await google.colab.output.renderOutput(dataTable, element);\n",
              "          const docLink = document.createElement('div');\n",
              "          docLink.innerHTML = docLinkHtml;\n",
              "          element.appendChild(docLink);\n",
              "        }\n",
              "      </script>\n",
              "    </div>\n",
              "  </div>\n",
              "  "
            ]
          },
          "metadata": {},
          "execution_count": 19
        }
      ]
    },
    {
      "cell_type": "code",
      "source": [
        "nba_test"
      ],
      "metadata": {
        "colab": {
          "base_uri": "https://localhost:8080/",
          "height": 696
        },
        "id": "gk0-4pQytyZ0",
        "outputId": "fc1951e4-8d7f-4e1a-adea-100276b7377a"
      },
      "execution_count": null,
      "outputs": [
        {
          "output_type": "execute_result",
          "data": {
            "text/plain": [
              "     Unnamed: 0    id first_name     last_name            full_name  \\\n",
              "174         173  3170    Walker        Kessler      Walker  Kessler   \n",
              "175         174    75     Reggie       Bullock       Reggie Bullock   \n",
              "176         175   130    Spencer     Dinwiddie    Spencer Dinwiddie   \n",
              "177         176   132       Luka        Doncic          Luka Doncic   \n",
              "178         177   158     Dorian  Finney-Smith  Dorian Finney-Smith   \n",
              "..          ...   ...        ...           ...                  ...   \n",
              "343         341  3130      Jalen         Smith          Jalen Smith   \n",
              "344         342  3131      Oshae      Brissett       Oshae Brissett   \n",
              "345         343  3132     Isaiah       Jackson       Isaiah Jackson   \n",
              "346         344  3133      Aaron       Nesmith        Aaron Nesmith   \n",
              "347         345  3134       Goga       Bitadze         Goga Bitadze   \n",
              "\n",
              "     height_feet  height_inches  actual_height_ft position  weight_pounds  \\\n",
              "174            7              1          7.080000        C            245   \n",
              "175            6              7          6.583333      G-F            205   \n",
              "176            6              6          6.500000        G            210   \n",
              "177            6              7          6.583333      F-G            218   \n",
              "178            6              8          6.666667        F            220   \n",
              "..           ...            ...               ...      ...            ...   \n",
              "343            6              9          6.750000        F            215   \n",
              "344            6              7          6.580000        F            210   \n",
              "345            6              9          6.750000        F            205   \n",
              "346            6              5          6.420000        F            215   \n",
              "347            6             11          6.920000        C            250   \n",
              "\n",
              "     team.id team.abbreviation team.city team.conference team.division  \\\n",
              "174       29               UTA      Utah            West     Northwest   \n",
              "175        7               DAL    Dallas            West     Southwest   \n",
              "176        7               DAL    Dallas            West     Southwest   \n",
              "177        7               DAL    Dallas            West     Southwest   \n",
              "178        7               DAL    Dallas            West     Southwest   \n",
              "..       ...               ...       ...             ...           ...   \n",
              "343       12               IND   Indiana            East       Central   \n",
              "344       12               IND   Indiana            East       Central   \n",
              "345       12               IND   Indiana            East       Central   \n",
              "346       12               IND   Indiana            East       Central   \n",
              "347       12               IND   Indiana            East       Central   \n",
              "\n",
              "       team.full_name  team.name        mpg    fgm    fga  fg_pct  fg3m  fg3a  \\\n",
              "174         Utah Jazz       Jazz  14.900000   2.50   3.50   0.696  0.00  0.00   \n",
              "175  Dallas Mavericks  Mavericks  31.500000   2.00   5.88   0.340  1.63  4.75   \n",
              "176  Dallas Mavericks  Mavericks  32.750000   6.63  13.75   0.482  2.75  6.50   \n",
              "177  Dallas Mavericks  Mavericks  36.500000  12.38  23.50   0.527  2.13  8.13   \n",
              "178  Dallas Mavericks  Mavericks  32.616667   3.13   7.13   0.439  1.38  4.50   \n",
              "..                ...        ...        ...    ...    ...     ...   ...   ...   \n",
              "343    Indiana Pacers     Pacers  24.000000   4.20   9.50   0.435  1.20  4.10   \n",
              "344    Indiana Pacers     Pacers  10.900000   0.90   2.40   0.368  0.40  1.50   \n",
              "345    Indiana Pacers     Pacers  18.300000   3.20   5.20   0.618  0.00  0.10   \n",
              "346    Indiana Pacers     Pacers  20.800000   2.40   6.30   0.386  1.00  3.40   \n",
              "347    Indiana Pacers     Pacers  13.100000   1.80   3.40   0.519  0.10  0.90   \n",
              "\n",
              "     fg3_pct   ftm    fta  ft_pct  oreb  dreb   reb   ast   blk   stl    pf  \\\n",
              "174    0.000  0.70   1.40   0.500  2.30  3.10  5.40  0.70  1.60  0.20  1.80   \n",
              "175    0.342  0.38   0.63   0.600  0.63  2.38  3.00  1.00  0.25  1.13  3.00   \n",
              "176    0.423  1.25   1.75   0.714  0.13  2.50  2.63  4.25  0.00  1.38  2.75   \n",
              "177    0.262  9.13  11.63   0.785  1.13  7.63  8.75  8.63  0.50  1.88  3.25   \n",
              "178    0.306  0.25   0.63   0.400  1.63  2.63  4.25  0.63  0.63  0.88  2.50   \n",
              "..       ...   ...    ...     ...   ...   ...   ...   ...   ...   ...   ...   \n",
              "343    0.302  1.50   2.20   0.679  1.80  5.80  7.50  1.10  0.80  0.20  2.20   \n",
              "344    0.250  0.60   0.80   0.833  0.60  1.00  1.60  0.40  0.00  0.30  0.50   \n",
              "345    0.000  1.90   2.80   0.676  1.50  3.50  5.10  1.20  1.40  0.50  2.60   \n",
              "346    0.290  1.00   1.20   0.818  0.30  2.80  3.10  1.60  0.80  0.30  2.60   \n",
              "347    0.143  0.90   1.80   0.500  1.60  1.80  3.40  1.50  0.50  0.50  2.30   \n",
              "\n",
              "     turnover    pts        TmMP  TmFGA  TmFTA  TmTOV      usage  \n",
              "174      0.70   5.60  232.900000  88.70  20.50  14.50  13.416197  \n",
              "175      0.88   6.00  246.083333  82.18  29.65  12.73  10.184853  \n",
              "176      1.63  17.25  246.083333  82.18  29.65  12.73  22.481570  \n",
              "177      3.38  36.00  246.083333  82.18  29.65  12.73  39.965433  \n",
              "178      0.88   7.88  246.083333  82.18  29.65  12.73  11.583336  \n",
              "..        ...    ...         ...    ...    ...    ...        ...  \n",
              "343      1.50  11.00  230.033333  87.33  22.74  15.75  20.287279  \n",
              "344      0.50   2.80  230.033333  87.33  22.74  15.75  12.137731  \n",
              "345      1.20   8.40  230.033333  87.33  22.74  15.75  16.966831  \n",
              "346      1.00   6.90  230.033333  87.33  22.74  15.75  15.310908  \n",
              "347      0.80   4.50  230.033333  87.33  22.74  15.75  15.503036  \n",
              "\n",
              "[174 rows x 41 columns]"
            ],
            "text/html": [
              "\n",
              "  <div id=\"df-589013a4-0a2d-4272-bcac-58b9225701b6\">\n",
              "    <div class=\"colab-df-container\">\n",
              "      <div>\n",
              "<style scoped>\n",
              "    .dataframe tbody tr th:only-of-type {\n",
              "        vertical-align: middle;\n",
              "    }\n",
              "\n",
              "    .dataframe tbody tr th {\n",
              "        vertical-align: top;\n",
              "    }\n",
              "\n",
              "    .dataframe thead th {\n",
              "        text-align: right;\n",
              "    }\n",
              "</style>\n",
              "<table border=\"1\" class=\"dataframe\">\n",
              "  <thead>\n",
              "    <tr style=\"text-align: right;\">\n",
              "      <th></th>\n",
              "      <th>Unnamed: 0</th>\n",
              "      <th>id</th>\n",
              "      <th>first_name</th>\n",
              "      <th>last_name</th>\n",
              "      <th>full_name</th>\n",
              "      <th>height_feet</th>\n",
              "      <th>height_inches</th>\n",
              "      <th>actual_height_ft</th>\n",
              "      <th>position</th>\n",
              "      <th>weight_pounds</th>\n",
              "      <th>team.id</th>\n",
              "      <th>team.abbreviation</th>\n",
              "      <th>team.city</th>\n",
              "      <th>team.conference</th>\n",
              "      <th>team.division</th>\n",
              "      <th>team.full_name</th>\n",
              "      <th>team.name</th>\n",
              "      <th>mpg</th>\n",
              "      <th>fgm</th>\n",
              "      <th>fga</th>\n",
              "      <th>fg_pct</th>\n",
              "      <th>fg3m</th>\n",
              "      <th>fg3a</th>\n",
              "      <th>fg3_pct</th>\n",
              "      <th>ftm</th>\n",
              "      <th>fta</th>\n",
              "      <th>ft_pct</th>\n",
              "      <th>oreb</th>\n",
              "      <th>dreb</th>\n",
              "      <th>reb</th>\n",
              "      <th>ast</th>\n",
              "      <th>blk</th>\n",
              "      <th>stl</th>\n",
              "      <th>pf</th>\n",
              "      <th>turnover</th>\n",
              "      <th>pts</th>\n",
              "      <th>TmMP</th>\n",
              "      <th>TmFGA</th>\n",
              "      <th>TmFTA</th>\n",
              "      <th>TmTOV</th>\n",
              "      <th>usage</th>\n",
              "    </tr>\n",
              "  </thead>\n",
              "  <tbody>\n",
              "    <tr>\n",
              "      <th>174</th>\n",
              "      <td>173</td>\n",
              "      <td>3170</td>\n",
              "      <td>Walker</td>\n",
              "      <td>Kessler</td>\n",
              "      <td>Walker  Kessler</td>\n",
              "      <td>7</td>\n",
              "      <td>1</td>\n",
              "      <td>7.080000</td>\n",
              "      <td>C</td>\n",
              "      <td>245</td>\n",
              "      <td>29</td>\n",
              "      <td>UTA</td>\n",
              "      <td>Utah</td>\n",
              "      <td>West</td>\n",
              "      <td>Northwest</td>\n",
              "      <td>Utah Jazz</td>\n",
              "      <td>Jazz</td>\n",
              "      <td>14.900000</td>\n",
              "      <td>2.50</td>\n",
              "      <td>3.50</td>\n",
              "      <td>0.696</td>\n",
              "      <td>0.00</td>\n",
              "      <td>0.00</td>\n",
              "      <td>0.000</td>\n",
              "      <td>0.70</td>\n",
              "      <td>1.40</td>\n",
              "      <td>0.500</td>\n",
              "      <td>2.30</td>\n",
              "      <td>3.10</td>\n",
              "      <td>5.40</td>\n",
              "      <td>0.70</td>\n",
              "      <td>1.60</td>\n",
              "      <td>0.20</td>\n",
              "      <td>1.80</td>\n",
              "      <td>0.70</td>\n",
              "      <td>5.60</td>\n",
              "      <td>232.900000</td>\n",
              "      <td>88.70</td>\n",
              "      <td>20.50</td>\n",
              "      <td>14.50</td>\n",
              "      <td>13.416197</td>\n",
              "    </tr>\n",
              "    <tr>\n",
              "      <th>175</th>\n",
              "      <td>174</td>\n",
              "      <td>75</td>\n",
              "      <td>Reggie</td>\n",
              "      <td>Bullock</td>\n",
              "      <td>Reggie Bullock</td>\n",
              "      <td>6</td>\n",
              "      <td>7</td>\n",
              "      <td>6.583333</td>\n",
              "      <td>G-F</td>\n",
              "      <td>205</td>\n",
              "      <td>7</td>\n",
              "      <td>DAL</td>\n",
              "      <td>Dallas</td>\n",
              "      <td>West</td>\n",
              "      <td>Southwest</td>\n",
              "      <td>Dallas Mavericks</td>\n",
              "      <td>Mavericks</td>\n",
              "      <td>31.500000</td>\n",
              "      <td>2.00</td>\n",
              "      <td>5.88</td>\n",
              "      <td>0.340</td>\n",
              "      <td>1.63</td>\n",
              "      <td>4.75</td>\n",
              "      <td>0.342</td>\n",
              "      <td>0.38</td>\n",
              "      <td>0.63</td>\n",
              "      <td>0.600</td>\n",
              "      <td>0.63</td>\n",
              "      <td>2.38</td>\n",
              "      <td>3.00</td>\n",
              "      <td>1.00</td>\n",
              "      <td>0.25</td>\n",
              "      <td>1.13</td>\n",
              "      <td>3.00</td>\n",
              "      <td>0.88</td>\n",
              "      <td>6.00</td>\n",
              "      <td>246.083333</td>\n",
              "      <td>82.18</td>\n",
              "      <td>29.65</td>\n",
              "      <td>12.73</td>\n",
              "      <td>10.184853</td>\n",
              "    </tr>\n",
              "    <tr>\n",
              "      <th>176</th>\n",
              "      <td>175</td>\n",
              "      <td>130</td>\n",
              "      <td>Spencer</td>\n",
              "      <td>Dinwiddie</td>\n",
              "      <td>Spencer Dinwiddie</td>\n",
              "      <td>6</td>\n",
              "      <td>6</td>\n",
              "      <td>6.500000</td>\n",
              "      <td>G</td>\n",
              "      <td>210</td>\n",
              "      <td>7</td>\n",
              "      <td>DAL</td>\n",
              "      <td>Dallas</td>\n",
              "      <td>West</td>\n",
              "      <td>Southwest</td>\n",
              "      <td>Dallas Mavericks</td>\n",
              "      <td>Mavericks</td>\n",
              "      <td>32.750000</td>\n",
              "      <td>6.63</td>\n",
              "      <td>13.75</td>\n",
              "      <td>0.482</td>\n",
              "      <td>2.75</td>\n",
              "      <td>6.50</td>\n",
              "      <td>0.423</td>\n",
              "      <td>1.25</td>\n",
              "      <td>1.75</td>\n",
              "      <td>0.714</td>\n",
              "      <td>0.13</td>\n",
              "      <td>2.50</td>\n",
              "      <td>2.63</td>\n",
              "      <td>4.25</td>\n",
              "      <td>0.00</td>\n",
              "      <td>1.38</td>\n",
              "      <td>2.75</td>\n",
              "      <td>1.63</td>\n",
              "      <td>17.25</td>\n",
              "      <td>246.083333</td>\n",
              "      <td>82.18</td>\n",
              "      <td>29.65</td>\n",
              "      <td>12.73</td>\n",
              "      <td>22.481570</td>\n",
              "    </tr>\n",
              "    <tr>\n",
              "      <th>177</th>\n",
              "      <td>176</td>\n",
              "      <td>132</td>\n",
              "      <td>Luka</td>\n",
              "      <td>Doncic</td>\n",
              "      <td>Luka Doncic</td>\n",
              "      <td>6</td>\n",
              "      <td>7</td>\n",
              "      <td>6.583333</td>\n",
              "      <td>F-G</td>\n",
              "      <td>218</td>\n",
              "      <td>7</td>\n",
              "      <td>DAL</td>\n",
              "      <td>Dallas</td>\n",
              "      <td>West</td>\n",
              "      <td>Southwest</td>\n",
              "      <td>Dallas Mavericks</td>\n",
              "      <td>Mavericks</td>\n",
              "      <td>36.500000</td>\n",
              "      <td>12.38</td>\n",
              "      <td>23.50</td>\n",
              "      <td>0.527</td>\n",
              "      <td>2.13</td>\n",
              "      <td>8.13</td>\n",
              "      <td>0.262</td>\n",
              "      <td>9.13</td>\n",
              "      <td>11.63</td>\n",
              "      <td>0.785</td>\n",
              "      <td>1.13</td>\n",
              "      <td>7.63</td>\n",
              "      <td>8.75</td>\n",
              "      <td>8.63</td>\n",
              "      <td>0.50</td>\n",
              "      <td>1.88</td>\n",
              "      <td>3.25</td>\n",
              "      <td>3.38</td>\n",
              "      <td>36.00</td>\n",
              "      <td>246.083333</td>\n",
              "      <td>82.18</td>\n",
              "      <td>29.65</td>\n",
              "      <td>12.73</td>\n",
              "      <td>39.965433</td>\n",
              "    </tr>\n",
              "    <tr>\n",
              "      <th>178</th>\n",
              "      <td>177</td>\n",
              "      <td>158</td>\n",
              "      <td>Dorian</td>\n",
              "      <td>Finney-Smith</td>\n",
              "      <td>Dorian Finney-Smith</td>\n",
              "      <td>6</td>\n",
              "      <td>8</td>\n",
              "      <td>6.666667</td>\n",
              "      <td>F</td>\n",
              "      <td>220</td>\n",
              "      <td>7</td>\n",
              "      <td>DAL</td>\n",
              "      <td>Dallas</td>\n",
              "      <td>West</td>\n",
              "      <td>Southwest</td>\n",
              "      <td>Dallas Mavericks</td>\n",
              "      <td>Mavericks</td>\n",
              "      <td>32.616667</td>\n",
              "      <td>3.13</td>\n",
              "      <td>7.13</td>\n",
              "      <td>0.439</td>\n",
              "      <td>1.38</td>\n",
              "      <td>4.50</td>\n",
              "      <td>0.306</td>\n",
              "      <td>0.25</td>\n",
              "      <td>0.63</td>\n",
              "      <td>0.400</td>\n",
              "      <td>1.63</td>\n",
              "      <td>2.63</td>\n",
              "      <td>4.25</td>\n",
              "      <td>0.63</td>\n",
              "      <td>0.63</td>\n",
              "      <td>0.88</td>\n",
              "      <td>2.50</td>\n",
              "      <td>0.88</td>\n",
              "      <td>7.88</td>\n",
              "      <td>246.083333</td>\n",
              "      <td>82.18</td>\n",
              "      <td>29.65</td>\n",
              "      <td>12.73</td>\n",
              "      <td>11.583336</td>\n",
              "    </tr>\n",
              "    <tr>\n",
              "      <th>...</th>\n",
              "      <td>...</td>\n",
              "      <td>...</td>\n",
              "      <td>...</td>\n",
              "      <td>...</td>\n",
              "      <td>...</td>\n",
              "      <td>...</td>\n",
              "      <td>...</td>\n",
              "      <td>...</td>\n",
              "      <td>...</td>\n",
              "      <td>...</td>\n",
              "      <td>...</td>\n",
              "      <td>...</td>\n",
              "      <td>...</td>\n",
              "      <td>...</td>\n",
              "      <td>...</td>\n",
              "      <td>...</td>\n",
              "      <td>...</td>\n",
              "      <td>...</td>\n",
              "      <td>...</td>\n",
              "      <td>...</td>\n",
              "      <td>...</td>\n",
              "      <td>...</td>\n",
              "      <td>...</td>\n",
              "      <td>...</td>\n",
              "      <td>...</td>\n",
              "      <td>...</td>\n",
              "      <td>...</td>\n",
              "      <td>...</td>\n",
              "      <td>...</td>\n",
              "      <td>...</td>\n",
              "      <td>...</td>\n",
              "      <td>...</td>\n",
              "      <td>...</td>\n",
              "      <td>...</td>\n",
              "      <td>...</td>\n",
              "      <td>...</td>\n",
              "      <td>...</td>\n",
              "      <td>...</td>\n",
              "      <td>...</td>\n",
              "      <td>...</td>\n",
              "      <td>...</td>\n",
              "    </tr>\n",
              "    <tr>\n",
              "      <th>343</th>\n",
              "      <td>341</td>\n",
              "      <td>3130</td>\n",
              "      <td>Jalen</td>\n",
              "      <td>Smith</td>\n",
              "      <td>Jalen Smith</td>\n",
              "      <td>6</td>\n",
              "      <td>9</td>\n",
              "      <td>6.750000</td>\n",
              "      <td>F</td>\n",
              "      <td>215</td>\n",
              "      <td>12</td>\n",
              "      <td>IND</td>\n",
              "      <td>Indiana</td>\n",
              "      <td>East</td>\n",
              "      <td>Central</td>\n",
              "      <td>Indiana Pacers</td>\n",
              "      <td>Pacers</td>\n",
              "      <td>24.000000</td>\n",
              "      <td>4.20</td>\n",
              "      <td>9.50</td>\n",
              "      <td>0.435</td>\n",
              "      <td>1.20</td>\n",
              "      <td>4.10</td>\n",
              "      <td>0.302</td>\n",
              "      <td>1.50</td>\n",
              "      <td>2.20</td>\n",
              "      <td>0.679</td>\n",
              "      <td>1.80</td>\n",
              "      <td>5.80</td>\n",
              "      <td>7.50</td>\n",
              "      <td>1.10</td>\n",
              "      <td>0.80</td>\n",
              "      <td>0.20</td>\n",
              "      <td>2.20</td>\n",
              "      <td>1.50</td>\n",
              "      <td>11.00</td>\n",
              "      <td>230.033333</td>\n",
              "      <td>87.33</td>\n",
              "      <td>22.74</td>\n",
              "      <td>15.75</td>\n",
              "      <td>20.287279</td>\n",
              "    </tr>\n",
              "    <tr>\n",
              "      <th>344</th>\n",
              "      <td>342</td>\n",
              "      <td>3131</td>\n",
              "      <td>Oshae</td>\n",
              "      <td>Brissett</td>\n",
              "      <td>Oshae Brissett</td>\n",
              "      <td>6</td>\n",
              "      <td>7</td>\n",
              "      <td>6.580000</td>\n",
              "      <td>F</td>\n",
              "      <td>210</td>\n",
              "      <td>12</td>\n",
              "      <td>IND</td>\n",
              "      <td>Indiana</td>\n",
              "      <td>East</td>\n",
              "      <td>Central</td>\n",
              "      <td>Indiana Pacers</td>\n",
              "      <td>Pacers</td>\n",
              "      <td>10.900000</td>\n",
              "      <td>0.90</td>\n",
              "      <td>2.40</td>\n",
              "      <td>0.368</td>\n",
              "      <td>0.40</td>\n",
              "      <td>1.50</td>\n",
              "      <td>0.250</td>\n",
              "      <td>0.60</td>\n",
              "      <td>0.80</td>\n",
              "      <td>0.833</td>\n",
              "      <td>0.60</td>\n",
              "      <td>1.00</td>\n",
              "      <td>1.60</td>\n",
              "      <td>0.40</td>\n",
              "      <td>0.00</td>\n",
              "      <td>0.30</td>\n",
              "      <td>0.50</td>\n",
              "      <td>0.50</td>\n",
              "      <td>2.80</td>\n",
              "      <td>230.033333</td>\n",
              "      <td>87.33</td>\n",
              "      <td>22.74</td>\n",
              "      <td>15.75</td>\n",
              "      <td>12.137731</td>\n",
              "    </tr>\n",
              "    <tr>\n",
              "      <th>345</th>\n",
              "      <td>343</td>\n",
              "      <td>3132</td>\n",
              "      <td>Isaiah</td>\n",
              "      <td>Jackson</td>\n",
              "      <td>Isaiah Jackson</td>\n",
              "      <td>6</td>\n",
              "      <td>9</td>\n",
              "      <td>6.750000</td>\n",
              "      <td>F</td>\n",
              "      <td>205</td>\n",
              "      <td>12</td>\n",
              "      <td>IND</td>\n",
              "      <td>Indiana</td>\n",
              "      <td>East</td>\n",
              "      <td>Central</td>\n",
              "      <td>Indiana Pacers</td>\n",
              "      <td>Pacers</td>\n",
              "      <td>18.300000</td>\n",
              "      <td>3.20</td>\n",
              "      <td>5.20</td>\n",
              "      <td>0.618</td>\n",
              "      <td>0.00</td>\n",
              "      <td>0.10</td>\n",
              "      <td>0.000</td>\n",
              "      <td>1.90</td>\n",
              "      <td>2.80</td>\n",
              "      <td>0.676</td>\n",
              "      <td>1.50</td>\n",
              "      <td>3.50</td>\n",
              "      <td>5.10</td>\n",
              "      <td>1.20</td>\n",
              "      <td>1.40</td>\n",
              "      <td>0.50</td>\n",
              "      <td>2.60</td>\n",
              "      <td>1.20</td>\n",
              "      <td>8.40</td>\n",
              "      <td>230.033333</td>\n",
              "      <td>87.33</td>\n",
              "      <td>22.74</td>\n",
              "      <td>15.75</td>\n",
              "      <td>16.966831</td>\n",
              "    </tr>\n",
              "    <tr>\n",
              "      <th>346</th>\n",
              "      <td>344</td>\n",
              "      <td>3133</td>\n",
              "      <td>Aaron</td>\n",
              "      <td>Nesmith</td>\n",
              "      <td>Aaron Nesmith</td>\n",
              "      <td>6</td>\n",
              "      <td>5</td>\n",
              "      <td>6.420000</td>\n",
              "      <td>F</td>\n",
              "      <td>215</td>\n",
              "      <td>12</td>\n",
              "      <td>IND</td>\n",
              "      <td>Indiana</td>\n",
              "      <td>East</td>\n",
              "      <td>Central</td>\n",
              "      <td>Indiana Pacers</td>\n",
              "      <td>Pacers</td>\n",
              "      <td>20.800000</td>\n",
              "      <td>2.40</td>\n",
              "      <td>6.30</td>\n",
              "      <td>0.386</td>\n",
              "      <td>1.00</td>\n",
              "      <td>3.40</td>\n",
              "      <td>0.290</td>\n",
              "      <td>1.00</td>\n",
              "      <td>1.20</td>\n",
              "      <td>0.818</td>\n",
              "      <td>0.30</td>\n",
              "      <td>2.80</td>\n",
              "      <td>3.10</td>\n",
              "      <td>1.60</td>\n",
              "      <td>0.80</td>\n",
              "      <td>0.30</td>\n",
              "      <td>2.60</td>\n",
              "      <td>1.00</td>\n",
              "      <td>6.90</td>\n",
              "      <td>230.033333</td>\n",
              "      <td>87.33</td>\n",
              "      <td>22.74</td>\n",
              "      <td>15.75</td>\n",
              "      <td>15.310908</td>\n",
              "    </tr>\n",
              "    <tr>\n",
              "      <th>347</th>\n",
              "      <td>345</td>\n",
              "      <td>3134</td>\n",
              "      <td>Goga</td>\n",
              "      <td>Bitadze</td>\n",
              "      <td>Goga Bitadze</td>\n",
              "      <td>6</td>\n",
              "      <td>11</td>\n",
              "      <td>6.920000</td>\n",
              "      <td>C</td>\n",
              "      <td>250</td>\n",
              "      <td>12</td>\n",
              "      <td>IND</td>\n",
              "      <td>Indiana</td>\n",
              "      <td>East</td>\n",
              "      <td>Central</td>\n",
              "      <td>Indiana Pacers</td>\n",
              "      <td>Pacers</td>\n",
              "      <td>13.100000</td>\n",
              "      <td>1.80</td>\n",
              "      <td>3.40</td>\n",
              "      <td>0.519</td>\n",
              "      <td>0.10</td>\n",
              "      <td>0.90</td>\n",
              "      <td>0.143</td>\n",
              "      <td>0.90</td>\n",
              "      <td>1.80</td>\n",
              "      <td>0.500</td>\n",
              "      <td>1.60</td>\n",
              "      <td>1.80</td>\n",
              "      <td>3.40</td>\n",
              "      <td>1.50</td>\n",
              "      <td>0.50</td>\n",
              "      <td>0.50</td>\n",
              "      <td>2.30</td>\n",
              "      <td>0.80</td>\n",
              "      <td>4.50</td>\n",
              "      <td>230.033333</td>\n",
              "      <td>87.33</td>\n",
              "      <td>22.74</td>\n",
              "      <td>15.75</td>\n",
              "      <td>15.503036</td>\n",
              "    </tr>\n",
              "  </tbody>\n",
              "</table>\n",
              "<p>174 rows × 41 columns</p>\n",
              "</div>\n",
              "      <button class=\"colab-df-convert\" onclick=\"convertToInteractive('df-589013a4-0a2d-4272-bcac-58b9225701b6')\"\n",
              "              title=\"Convert this dataframe to an interactive table.\"\n",
              "              style=\"display:none;\">\n",
              "        \n",
              "  <svg xmlns=\"http://www.w3.org/2000/svg\" height=\"24px\"viewBox=\"0 0 24 24\"\n",
              "       width=\"24px\">\n",
              "    <path d=\"M0 0h24v24H0V0z\" fill=\"none\"/>\n",
              "    <path d=\"M18.56 5.44l.94 2.06.94-2.06 2.06-.94-2.06-.94-.94-2.06-.94 2.06-2.06.94zm-11 1L8.5 8.5l.94-2.06 2.06-.94-2.06-.94L8.5 2.5l-.94 2.06-2.06.94zm10 10l.94 2.06.94-2.06 2.06-.94-2.06-.94-.94-2.06-.94 2.06-2.06.94z\"/><path d=\"M17.41 7.96l-1.37-1.37c-.4-.4-.92-.59-1.43-.59-.52 0-1.04.2-1.43.59L10.3 9.45l-7.72 7.72c-.78.78-.78 2.05 0 2.83L4 21.41c.39.39.9.59 1.41.59.51 0 1.02-.2 1.41-.59l7.78-7.78 2.81-2.81c.8-.78.8-2.07 0-2.86zM5.41 20L4 18.59l7.72-7.72 1.47 1.35L5.41 20z\"/>\n",
              "  </svg>\n",
              "      </button>\n",
              "      \n",
              "  <style>\n",
              "    .colab-df-container {\n",
              "      display:flex;\n",
              "      flex-wrap:wrap;\n",
              "      gap: 12px;\n",
              "    }\n",
              "\n",
              "    .colab-df-convert {\n",
              "      background-color: #E8F0FE;\n",
              "      border: none;\n",
              "      border-radius: 50%;\n",
              "      cursor: pointer;\n",
              "      display: none;\n",
              "      fill: #1967D2;\n",
              "      height: 32px;\n",
              "      padding: 0 0 0 0;\n",
              "      width: 32px;\n",
              "    }\n",
              "\n",
              "    .colab-df-convert:hover {\n",
              "      background-color: #E2EBFA;\n",
              "      box-shadow: 0px 1px 2px rgba(60, 64, 67, 0.3), 0px 1px 3px 1px rgba(60, 64, 67, 0.15);\n",
              "      fill: #174EA6;\n",
              "    }\n",
              "\n",
              "    [theme=dark] .colab-df-convert {\n",
              "      background-color: #3B4455;\n",
              "      fill: #D2E3FC;\n",
              "    }\n",
              "\n",
              "    [theme=dark] .colab-df-convert:hover {\n",
              "      background-color: #434B5C;\n",
              "      box-shadow: 0px 1px 3px 1px rgba(0, 0, 0, 0.15);\n",
              "      filter: drop-shadow(0px 1px 2px rgba(0, 0, 0, 0.3));\n",
              "      fill: #FFFFFF;\n",
              "    }\n",
              "  </style>\n",
              "\n",
              "      <script>\n",
              "        const buttonEl =\n",
              "          document.querySelector('#df-589013a4-0a2d-4272-bcac-58b9225701b6 button.colab-df-convert');\n",
              "        buttonEl.style.display =\n",
              "          google.colab.kernel.accessAllowed ? 'block' : 'none';\n",
              "\n",
              "        async function convertToInteractive(key) {\n",
              "          const element = document.querySelector('#df-589013a4-0a2d-4272-bcac-58b9225701b6');\n",
              "          const dataTable =\n",
              "            await google.colab.kernel.invokeFunction('convertToInteractive',\n",
              "                                                     [key], {});\n",
              "          if (!dataTable) return;\n",
              "\n",
              "          const docLinkHtml = 'Like what you see? Visit the ' +\n",
              "            '<a target=\"_blank\" href=https://colab.research.google.com/notebooks/data_table.ipynb>data table notebook</a>'\n",
              "            + ' to learn more about interactive tables.';\n",
              "          element.innerHTML = '';\n",
              "          dataTable['output_type'] = 'display_data';\n",
              "          await google.colab.output.renderOutput(dataTable, element);\n",
              "          const docLink = document.createElement('div');\n",
              "          docLink.innerHTML = docLinkHtml;\n",
              "          element.appendChild(docLink);\n",
              "        }\n",
              "      </script>\n",
              "    </div>\n",
              "  </div>\n",
              "  "
            ]
          },
          "metadata": {},
          "execution_count": 20
        }
      ]
    },
    {
      "cell_type": "markdown",
      "source": [
        "**Simple Linear Regression Model:**\n",
        "\n",
        "We will use the Ashen Model for our simple linear regression model. The code process is as follows:"
      ],
      "metadata": {
        "id": "hLyEjVCOt2di"
      }
    },
    {
      "cell_type": "code",
      "source": [
        "ashen_model = LinearRegression()\n",
        "ashen_model.fit(\n",
        "    X= nba_train[['usage']],\n",
        "    y= nba_train['pts']\n",
        ")"
      ],
      "metadata": {
        "colab": {
          "base_uri": "https://localhost:8080/"
        },
        "id": "20kPSDN9tzIa",
        "outputId": "db8f97ee-e12e-41f2-b475-3c90c6d88155"
      },
      "execution_count": null,
      "outputs": [
        {
          "output_type": "execute_result",
          "data": {
            "text/plain": [
              "LinearRegression()"
            ]
          },
          "metadata": {},
          "execution_count": 21
        }
      ]
    },
    {
      "cell_type": "code",
      "source": [
        "ashen_model.predict(\n",
        "    X= nba_test[['usage']]\n",
        ")"
      ],
      "metadata": {
        "colab": {
          "base_uri": "https://localhost:8080/"
        },
        "id": "CajgSEBMuBdr",
        "outputId": "5b1b047a-e6a3-4040-b66a-56013bac9252"
      },
      "execution_count": null,
      "outputs": [
        {
          "output_type": "execute_result",
          "data": {
            "text/plain": [
              "array([ 5.38785706,  2.69045499, 12.95528174, 27.55013859,  3.85785514,\n",
              "       14.46140658,  2.45647379, 13.12032843,  0.18529962,  6.74347677,\n",
              "       16.30265643,  3.92099123,  1.51916742,  7.80356695, 15.40300821,\n",
              "        5.89371677, 21.00111456,  6.88990275, 11.96956921, 16.18000135,\n",
              "        4.28772178,  4.28537586,  8.41684356,  6.06294893,  7.17994283,\n",
              "        4.51619131,  5.7118493 ,  7.26212694, 15.71448079, 24.07188444,\n",
              "        5.57489418, 10.6187487 ,  6.88721347, 16.14894443, 19.8343515 ,\n",
              "        8.60736162,  4.71910716,  9.36526732,  2.35586378,  7.94541607,\n",
              "       20.36728931,  4.01629972,  5.26735727,  3.94039154,  6.52425641,\n",
              "        7.47397384,  5.08085817, 10.07723023,  8.34436433, 13.13547027,\n",
              "        7.55686863, 15.28604669, 11.74223009,  8.99615792, 12.17542949,\n",
              "       18.82715869, 13.601697  ,  9.24913546,  5.24669768, 12.21383787,\n",
              "       15.54880873,  3.21717579, 14.97723329,  7.59449996, 15.74596253,\n",
              "       10.70369634,  4.73333573, 11.77203227,  1.79661536,  5.69719266,\n",
              "       21.80139834,  5.24070252, 19.02229179,  7.80683789,  8.35303754,\n",
              "        5.10901447,  5.10187553, 11.21521206,  3.247193  ,  7.85326303,\n",
              "       12.88260023, 21.05674989,  9.68523253,  5.61463389,  5.86240764,\n",
              "        2.23976708, 16.7430051 , 11.55552023, 15.60531665,  8.20207913,\n",
              "        6.02858382,  9.59571447, 23.1209871 , 16.95735253,  5.92835186,\n",
              "        8.94984752,  8.78355273, 10.08857358, 12.10411311,  9.4507537 ,\n",
              "        1.71949369,  4.13944327, 17.63604934,  2.29687663,  1.28327159,\n",
              "        5.76238451, 12.69824058,  4.22457044, 22.87289692, 12.59868217,\n",
              "       16.56403842,  8.80902087,  8.57119979,  9.25750969,  6.21977301,\n",
              "       21.34366247, 10.83396128,  4.40559577, 15.1217653 ,  7.34183071,\n",
              "       11.26889835,  9.41259446, 11.53050077,  4.18533576,  8.21232347,\n",
              "        7.58206619,  8.36811955, 11.91301656, 16.2147961 , 16.75257161,\n",
              "        8.58755084, 13.25977536,  5.42211438,  7.7474981 ,  7.88884546,\n",
              "        3.61167546, 11.70941508, 10.70821909,  4.80780765, 12.0163217 ,\n",
              "       19.42790996, 17.42272422,  6.7451995 ,  0.98405627, 13.98517188,\n",
              "        6.56364298, 18.64883936,  9.67495349,  6.8334986 ,  7.65190754,\n",
              "        0.03234887,  4.77549879, 13.37538774, 13.99567369,  5.67830402,\n",
              "       20.25996848,  7.36893609, 16.43604113, 10.8061804 ,  8.69433856,\n",
              "        7.01785327,  7.68688648, 12.50107103,  3.43788063,  8.44706772,\n",
              "       12.80334576, 13.61801454, 16.57794657, 10.34483323, 11.12357203,\n",
              "        4.32064254,  8.35178974,  6.9694888 ,  7.12986958])"
            ]
          },
          "metadata": {},
          "execution_count": 22
        }
      ]
    },
    {
      "cell_type": "code",
      "source": [
        "ashen_model.coef_"
      ],
      "metadata": {
        "colab": {
          "base_uri": "https://localhost:8080/"
        },
        "id": "AEykVR_auCwZ",
        "outputId": "a101d692-aa87-47e7-cd84-5cc22bcd8d16"
      },
      "execution_count": null,
      "outputs": [
        {
          "output_type": "execute_result",
          "data": {
            "text/plain": [
              "array([0.83476156])"
            ]
          },
          "metadata": {},
          "execution_count": 23
        }
      ]
    },
    {
      "cell_type": "code",
      "source": [
        "ashen_model.intercept_"
      ],
      "metadata": {
        "colab": {
          "base_uri": "https://localhost:8080/"
        },
        "id": "qtEnkl-iuFNx",
        "outputId": "442e88e3-3119-43f7-d2e3-060620b4b3a1"
      },
      "execution_count": null,
      "outputs": [
        {
          "output_type": "execute_result",
          "data": {
            "text/plain": [
              "-5.811468492551885"
            ]
          },
          "metadata": {},
          "execution_count": 24
        }
      ]
    },
    {
      "cell_type": "code",
      "source": [
        "X_new = pd.DataFrame()\n",
        "# create a sequence of 200 evenly spaced numbers from 10 to 41\n",
        "X_new[\"usage\"] = np.linspace(0, 40, num=200)\n",
        "\n",
        "# create a Series out of the predicted values\n",
        "# (trailing underscore indicates fitted values)\n",
        "y_new_ = pd.Series(\n",
        "    ashen_model.predict(X_new), # y values in Series.plot.line()\n",
        "    index=X_new[\"usage\"]    # x values in Series.plot.line()\n",
        ")\n",
        "\n",
        "# plot the data, then the model\n",
        "nba_train.plot.scatter(x=\"usage\", y=\"pts\")\n",
        "y_new_.plot.line()"
      ],
      "metadata": {
        "colab": {
          "base_uri": "https://localhost:8080/",
          "height": 296
        },
        "id": "RVLpkgRKuHBn",
        "outputId": "21e0bbe8-3b6b-4943-d01b-4e13544e1829"
      },
      "execution_count": null,
      "outputs": [
        {
          "output_type": "execute_result",
          "data": {
            "text/plain": [
              "<matplotlib.axes._subplots.AxesSubplot at 0x7ff87c9c9070>"
            ]
          },
          "metadata": {},
          "execution_count": 25
        },
        {
          "output_type": "display_data",
          "data": {
            "text/plain": [
              "<Figure size 432x288 with 1 Axes>"
            ],
            "image/png": "[encoded data removed]"
          },
          "metadata": {
            "needs_background": "light"
          }
        }
      ]
    },
    {
      "cell_type": "code",
      "source": [
        "result = ashen_model.intercept_ + (ashen_model.coef_ * 39.965433067522376)"
      ],
      "metadata": {
        "id": "Ifn2qEmLuRHw"
      },
      "execution_count": null,
      "outputs": []
    },
    {
      "cell_type": "code",
      "source": [
        "result"
      ],
      "metadata": {
        "colab": {
          "base_uri": "https://localhost:8080/"
        },
        "id": "RBPVGgqJuSws",
        "outputId": "8ad4ba9f-6d92-49ad-aa1c-41abf8177ecd"
      },
      "execution_count": null,
      "outputs": [
        {
          "output_type": "execute_result",
          "data": {
            "text/plain": [
              "array([27.55013859])"
            ]
          },
          "metadata": {},
          "execution_count": 27
        }
      ]
    },
    {
      "cell_type": "markdown",
      "source": [
        "The simple linear model predicts a high usage rate player like Luka Doncic to average around 27.5 points a season. Given that Luka Doncic has averaged around 26.8 points per game in his career, this is a very accurate prediction.\n",
        "\n",
        "The equation generated from the simple linear regression to predict a player's points is:\n",
        "\n",
        "Points = 0.83476156(Usage Rate) - 5.811468492551885"
      ],
      "metadata": {
        "id": "TUhVtIZ9ucS0"
      }
    },
    {
      "cell_type": "markdown",
      "source": [
        "**Complex Linear Regression Model:**\n",
        "\n",
        "Next, we will test the complex linear model with a single categorical variable (position) and multiple quantitative variables (usage, actual height, weight). We will need to create pipelines and utilize the OneHotEncoder library in order to achieve this. The process for creating this regression is shown below:"
      ],
      "metadata": {
        "id": "PVO8rEX9u024"
      }
    },
    {
      "cell_type": "code",
      "source": [
        "ct = make_column_transformer(\n",
        "    (StandardScaler(), [\"usage\", \"actual_height_ft\", \"weight_pounds\"]),\n",
        "    (OneHotEncoder(), [\"position\"]),\n",
        "    remainder=\"drop\"  # all other columns in X will be dropped.\n",
        ")\n",
        "ct\n",
        "\n",
        "pipeline = make_pipeline(\n",
        "    ct,\n",
        "    LinearRegression()\n",
        ")\n",
        "\n",
        "\n",
        "pipeline.fit(X=df[[\"usage\", \"actual_height_ft\", \"weight_pounds\", \"position\"]], \n",
        "             y=df[\"pts\"])"
      ],
      "metadata": {
        "colab": {
          "base_uri": "https://localhost:8080/"
        },
        "id": "iHyE7AFMuxd6",
        "outputId": "46d3cf94-1fa9-4d21-fb6e-28e1facd3591"
      },
      "execution_count": null,
      "outputs": [
        {
          "output_type": "execute_result",
          "data": {
            "text/plain": [
              "Pipeline(steps=[('columntransformer',\n",
              "                 ColumnTransformer(transformers=[('standardscaler',\n",
              "                                                  StandardScaler(),\n",
              "                                                  ['usage', 'actual_height_ft',\n",
              "                                                   'weight_pounds']),\n",
              "                                                 ('onehotencoder',\n",
              "                                                  OneHotEncoder(),\n",
              "                                                  ['position'])])),\n",
              "                ('linearregression', LinearRegression())])"
            ]
          },
          "metadata": {},
          "execution_count": 28
        }
      ]
    },
    {
      "cell_type": "code",
      "source": [
        "x_test = pd.Series()\n",
        "x_test[\"usage\"] = 20\n",
        "x_test[\"actual_height_ft\"] = 6.25\n",
        "x_test[\"weight_pounds\"] = 190\n",
        "x_test[\"position\"] = \"G\"\n",
        "pipeline.predict(X=pd.DataFrame([x_test]))"
      ],
      "metadata": {
        "colab": {
          "base_uri": "https://localhost:8080/"
        },
        "id": "ut-OM3LHvg4t",
        "outputId": "f00f04bc-4d13-4e1a-a8f8-e42dc2c6503a"
      },
      "execution_count": null,
      "outputs": [
        {
          "output_type": "stream",
          "name": "stderr",
          "text": [
            "<ipython-input-29-cda8e106cb3a>:1: DeprecationWarning: The default dtype for empty Series will be 'object' instead of 'float64' in a future version. Specify a dtype explicitly to silence this warning.\n",
            "  x_test = pd.Series()\n"
          ]
        },
        {
          "output_type": "execute_result",
          "data": {
            "text/plain": [
              "array([10.64185141])"
            ]
          },
          "metadata": {},
          "execution_count": 29
        }
      ]
    },
    {
      "cell_type": "markdown",
      "source": [
        "The model predicts that a Guard that is 6 foot 4 inches, weighs 190 pounds, and has a usage rate of 30% will average around 10.82 points in a given season. This seems to be a lot lower than what we would expect, since players will 32% usage rates will typically average around 15-20 points per game."
      ],
      "metadata": {
        "id": "S57TLkCwvviL"
      }
    },
    {
      "cell_type": "code",
      "source": [
        "x_test = pd.Series()\n",
        "x_test[\"usage\"] = 39.96543307\n",
        "x_test[\"actual_height_ft\"] = 6.583333333\n",
        "x_test[\"weight_pounds\"] = 218\n",
        "x_test[\"position\"] = \"F-G\"\n",
        "pipeline.predict(X=pd.DataFrame([x_test]))"
      ],
      "metadata": {
        "colab": {
          "base_uri": "https://localhost:8080/"
        },
        "id": "aT2Nb3cSwDkV",
        "outputId": "8e6c2739-0283-43cc-e046-754cbd48e987"
      },
      "execution_count": null,
      "outputs": [
        {
          "output_type": "stream",
          "name": "stderr",
          "text": [
            "<ipython-input-30-9a58381daa9c>:1: DeprecationWarning: The default dtype for empty Series will be 'object' instead of 'float64' in a future version. Specify a dtype explicitly to silence this warning.\n",
            "  x_test = pd.Series()\n"
          ]
        },
        {
          "output_type": "execute_result",
          "data": {
            "text/plain": [
              "array([28.00432534])"
            ]
          },
          "metadata": {},
          "execution_count": 30
        }
      ]
    },
    {
      "cell_type": "markdown",
      "source": [
        "The model predicts that a player such as Luka Doncic would average around 28 points per game in a given season. This seems a lot more accurate than the previous prediction and indicates that the model would probably favor players with super high usage rates."
      ],
      "metadata": {
        "id": "82UdCrxUwUG6"
      }
    },
    {
      "cell_type": "markdown",
      "source": [
        "Additionally, we also tried a complex linear regression without actual height and weight as variables of interest."
      ],
      "metadata": {
        "id": "nei981qPwzmx"
      }
    },
    {
      "cell_type": "code",
      "source": [
        "ct = make_column_transformer(\n",
        "    (StandardScaler(), [\"usage\"]),\n",
        "    (OneHotEncoder(), [\"position\"]),\n",
        "    remainder=\"drop\"  # all other columns in X will be dropped.\n",
        ")\n",
        "ct\n",
        "\n",
        "pipeline = make_pipeline(\n",
        "    ct,\n",
        "    LinearRegression()\n",
        ")\n",
        "\n",
        "\n",
        "pipeline.fit(X=df[[\"usage\", \"position\"]], \n",
        "             y=df[\"pts\"])"
      ],
      "metadata": {
        "colab": {
          "base_uri": "https://localhost:8080/"
        },
        "id": "M68BEPn-w5Uv",
        "outputId": "f322bb8f-2106-4b0b-bc23-1f586c0fdfd5"
      },
      "execution_count": null,
      "outputs": [
        {
          "output_type": "execute_result",
          "data": {
            "text/plain": [
              "Pipeline(steps=[('columntransformer',\n",
              "                 ColumnTransformer(transformers=[('standardscaler',\n",
              "                                                  StandardScaler(), ['usage']),\n",
              "                                                 ('onehotencoder',\n",
              "                                                  OneHotEncoder(),\n",
              "                                                  ['position'])])),\n",
              "                ('linearregression', LinearRegression())])"
            ]
          },
          "metadata": {},
          "execution_count": 31
        }
      ]
    },
    {
      "cell_type": "code",
      "source": [
        "x_test = pd.Series()\n",
        "x_test[\"usage\"] = 20\n",
        "x_test[\"position\"] = \"G\"\n",
        "pipeline.predict(X=pd.DataFrame([x_test]))"
      ],
      "metadata": {
        "colab": {
          "base_uri": "https://localhost:8080/"
        },
        "id": "Tfls1wUWw8rA",
        "outputId": "fd805c42-5908-4e7a-8306-9cf24dbe9a69"
      },
      "execution_count": null,
      "outputs": [
        {
          "output_type": "stream",
          "name": "stderr",
          "text": [
            "<ipython-input-32-900f3511fa5d>:1: DeprecationWarning: The default dtype for empty Series will be 'object' instead of 'float64' in a future version. Specify a dtype explicitly to silence this warning.\n",
            "  x_test = pd.Series()\n"
          ]
        },
        {
          "output_type": "execute_result",
          "data": {
            "text/plain": [
              "array([10.82137057])"
            ]
          },
          "metadata": {},
          "execution_count": 32
        }
      ]
    },
    {
      "cell_type": "code",
      "source": [
        "x_test = pd.Series()\n",
        "x_test[\"usage\"] = 39.96543307\n",
        "x_test[\"position\"] = \"F-G\"\n",
        "pipeline.predict(X=pd.DataFrame([x_test]))"
      ],
      "metadata": {
        "colab": {
          "base_uri": "https://localhost:8080/"
        },
        "id": "rHmQIzO0xUi8",
        "outputId": "9868053f-c918-4aad-9551-086e8783d5a5"
      },
      "execution_count": null,
      "outputs": [
        {
          "output_type": "stream",
          "name": "stderr",
          "text": [
            "<ipython-input-33-2cf4fde45bf6>:1: DeprecationWarning: The default dtype for empty Series will be 'object' instead of 'float64' in a future version. Specify a dtype explicitly to silence this warning.\n",
            "  x_test = pd.Series()\n"
          ]
        },
        {
          "output_type": "execute_result",
          "data": {
            "text/plain": [
              "array([27.99371652])"
            ]
          },
          "metadata": {},
          "execution_count": 33
        }
      ]
    },
    {
      "cell_type": "markdown",
      "source": [
        "The new model predicts similar point averages compared to the linear model with multiple quantitative variables."
      ],
      "metadata": {
        "id": "brbciscsxiJO"
      }
    },
    {
      "cell_type": "markdown",
      "source": [
        "**Simple K-Nearest Neighbors Model:**\n",
        "\n",
        "The third model we will look at is a simple K Nearest Neighbors Model with just usage and points as the variable of interest. Our k-value we will be using is 3. The process for implementing this regression is shown below:"
      ],
      "metadata": {
        "id": "mxJ1SCjLx46s"
      }
    },
    {
      "cell_type": "code",
      "source": [
        "X_train = df[[\"usage\"]]\n",
        "y_train = df[\"pts\"]\n",
        "x_new = pd.DataFrame()\n",
        "x_new[\"usage\"] = [39.96543307]\n",
        "k = 4\n",
        "pipeline = make_pipeline(\n",
        "    StandardScaler(),\n",
        "    KNeighborsRegressor(n_neighbors=k)\n",
        ")\n",
        "pipeline.fit(X = X_train, y = y_train)\n",
        "pipeline.predict(X = x_new)"
      ],
      "metadata": {
        "colab": {
          "base_uri": "https://localhost:8080/"
        },
        "id": "hqu1VYiux3Ld",
        "outputId": "1cd24e44-d580-401d-95e5-963eb1f3fc86"
      },
      "execution_count": null,
      "outputs": [
        {
          "output_type": "execute_result",
          "data": {
            "text/plain": [
              "array([30.63])"
            ]
          },
          "metadata": {},
          "execution_count": 34
        }
      ]
    },
    {
      "cell_type": "markdown",
      "source": [
        "The model predicts someone of Luka Doncic's caliber to average around 30.63 points per game, which is pretty close to his season statistics."
      ],
      "metadata": {
        "id": "pTZ3NXAryWeL"
      }
    },
    {
      "cell_type": "code",
      "source": [
        "predictions = pd.DataFrame()\n",
        "predictions[\"k\"] = list(range(1,101))\n",
        "\n",
        "for i in range(len(predictions)):\n",
        "  pipeline = make_pipeline(StandardScaler(), KNeighborsRegressor(n_neighbors = predictions.loc[i, \"k\"])\n",
        "  )\n",
        "\n",
        "  pipeline.fit(X = X_train, y = y_train)\n",
        "  predictions.loc[i, \"prediction\"] = pipeline.predict(X = x_new)"
      ],
      "metadata": {
        "id": "SWyC830cyvy5"
      },
      "execution_count": null,
      "outputs": []
    },
    {
      "cell_type": "code",
      "source": [
        "predictions.plot.scatter(x = \"k\", y = \"prediction\")"
      ],
      "metadata": {
        "colab": {
          "base_uri": "https://localhost:8080/",
          "height": 296
        },
        "id": "qvMOwMP_y4RX",
        "outputId": "9e301b26-d4b2-4236-b996-b5edfd75d084"
      },
      "execution_count": null,
      "outputs": [
        {
          "output_type": "execute_result",
          "data": {
            "text/plain": [
              "<matplotlib.axes._subplots.AxesSubplot at 0x7ff87c4b1bb0>"
            ]
          },
          "metadata": {},
          "execution_count": 36
        },
        {
          "output_type": "display_data",
          "data": {
            "text/plain": [
              "<Figure size 432x288 with 1 Axes>"
            ],
            "image/png": "[encoded data removed]"
          },
          "metadata": {
            "needs_background": "light"
          }
        }
      ]
    },
    {
      "cell_type": "markdown",
      "source": [
        "We can see from the visualization how the predictions for point values decreases as the value of k decreases for this particular model."
      ],
      "metadata": {
        "id": "HSk54CRly6Qs"
      }
    },
    {
      "cell_type": "markdown",
      "source": [
        "**Complex K-Nearest Neighbors Model:**\n",
        "\n",
        "The final model we will look at is the Complex K-Nearest Neighbors Model, which uses one categorical variable and multiple quantitative variables, similar to the complex linear model. The process to implement this regression is shown below:"
      ],
      "metadata": {
        "id": "whqwh77fzHn6"
      }
    },
    {
      "cell_type": "code",
      "source": [
        "ct = make_column_transformer(\n",
        "    (StandardScaler(), [\"usage\", \"actual_height_ft\", \"weight_pounds\"]),\n",
        "    (OneHotEncoder(), [\"position\"]),\n",
        "    remainder=\"drop\"  # all other columns in X will be dropped.\n",
        ")\n",
        "ct"
      ],
      "metadata": {
        "colab": {
          "base_uri": "https://localhost:8080/"
        },
        "id": "iIF7yVawy5ab",
        "outputId": "d52f5afb-d139-4720-fbdc-9af7e1445172"
      },
      "execution_count": null,
      "outputs": [
        {
          "output_type": "execute_result",
          "data": {
            "text/plain": [
              "ColumnTransformer(transformers=[('standardscaler', StandardScaler(),\n",
              "                                 ['usage', 'actual_height_ft',\n",
              "                                  'weight_pounds']),\n",
              "                                ('onehotencoder', OneHotEncoder(),\n",
              "                                 ['position'])])"
            ]
          },
          "metadata": {},
          "execution_count": 37
        }
      ]
    },
    {
      "cell_type": "code",
      "source": [
        "pipeline = make_pipeline(\n",
        "    ct,\n",
        "    KNeighborsRegressor(n_neighbors=3)\n",
        ")\n",
        "\n",
        "pipeline.fit(X=df[[\"usage\", \"actual_height_ft\", \"weight_pounds\", \"position\"]], \n",
        "             y=df[\"pts\"])"
      ],
      "metadata": {
        "colab": {
          "base_uri": "https://localhost:8080/"
        },
        "id": "KKVtGd24zn6t",
        "outputId": "a5501569-8836-4df4-aa44-99715c26dcb4"
      },
      "execution_count": null,
      "outputs": [
        {
          "output_type": "execute_result",
          "data": {
            "text/plain": [
              "Pipeline(steps=[('columntransformer',\n",
              "                 ColumnTransformer(transformers=[('standardscaler',\n",
              "                                                  StandardScaler(),\n",
              "                                                  ['usage', 'actual_height_ft',\n",
              "                                                   'weight_pounds']),\n",
              "                                                 ('onehotencoder',\n",
              "                                                  OneHotEncoder(),\n",
              "                                                  ['position'])])),\n",
              "                ('kneighborsregressor', KNeighborsRegressor(n_neighbors=3))])"
            ]
          },
          "metadata": {},
          "execution_count": 38
        }
      ]
    },
    {
      "cell_type": "code",
      "source": [
        "x_test = pd.Series()\n",
        "x_test[\"usage\"] = 39.96543307\n",
        "x_test[\"actual_height_ft\"] = 6.583333333\n",
        "x_test[\"weight_pounds\"] = 218\n",
        "x_test[\"position\"] = \"F-G\"\n",
        "pipeline.predict(X=pd.DataFrame([x_test]))"
      ],
      "metadata": {
        "colab": {
          "base_uri": "https://localhost:8080/"
        },
        "id": "rW72Z3JczqCA",
        "outputId": "f57ac27b-d203-4576-ad64-de69589c4daa"
      },
      "execution_count": null,
      "outputs": [
        {
          "output_type": "stream",
          "name": "stderr",
          "text": [
            "<ipython-input-39-9a58381daa9c>:1: DeprecationWarning: The default dtype for empty Series will be 'object' instead of 'float64' in a future version. Specify a dtype explicitly to silence this warning.\n",
            "  x_test = pd.Series()\n"
          ]
        },
        {
          "output_type": "execute_result",
          "data": {
            "text/plain": [
              "array([31.11])"
            ]
          },
          "metadata": {},
          "execution_count": 39
        }
      ]
    },
    {
      "cell_type": "markdown",
      "source": [
        "This model predicts a player like Luka Doncic will average around 31.11 points per game in a season, which is also pretty close to Luka Doncic's season average."
      ],
      "metadata": {
        "id": "keMjSg2BzsQb"
      }
    },
    {
      "cell_type": "markdown",
      "source": [
        "**Simple K-Nearest Validation:**\n",
        "\n",
        "We want to be able to see how far off the point predictions are for the simple k-nearest model on average. This process is shown below:"
      ],
      "metadata": {
        "id": "4rFYPc6Wz_sp"
      }
    },
    {
      "cell_type": "code",
      "source": [
        "X_train = nba_train[[\"usage\"]]\n",
        "y_train = nba_train[\"pts\"]\n",
        "\n",
        "pipeline = make_pipeline(\n",
        "          StandardScaler(),\n",
        "          KNeighborsRegressor(n_neighbors=3)\n",
        ")\n",
        "\n",
        "pipeline.fit(X=X_train, y=y_train)"
      ],
      "metadata": {
        "colab": {
          "base_uri": "https://localhost:8080/"
        },
        "id": "sQkUDKh_0ssY",
        "outputId": "042e41c9-dd77-49c3-bb3a-ad3b9517361e"
      },
      "execution_count": null,
      "outputs": [
        {
          "output_type": "execute_result",
          "data": {
            "text/plain": [
              "Pipeline(steps=[('standardscaler', StandardScaler()),\n",
              "                ('kneighborsregressor', KNeighborsRegressor(n_neighbors=3))])"
            ]
          },
          "metadata": {},
          "execution_count": 40
        }
      ]
    },
    {
      "cell_type": "code",
      "source": [
        "# Calculate the model predictions on the training data.\n",
        "y_train_ = pipeline.predict(X=X_train)\n",
        "y_train_"
      ],
      "metadata": {
        "colab": {
          "base_uri": "https://localhost:8080/"
        },
        "id": "vnmCPLOp0viK",
        "outputId": "235b40f3-01bb-44a2-9954-e117749e8b69"
      },
      "execution_count": null,
      "outputs": [
        {
          "output_type": "execute_result",
          "data": {
            "text/plain": [
              "array([ 6.93333333, 10.55666667, 12.79666667, 27.1       , 18.76666667,\n",
              "        4.77666667,  5.83333333, 14.21      ,  8.2       ,  8.2       ,\n",
              "        7.13      , 10.55666667, 19.93333333,  8.27666667,  8.5       ,\n",
              "        6.7       ,  6.66666667,  3.15333333, 18.76666667,  5.92666667,\n",
              "       11.54666667, 11.98666667,  4.46666667, 27.1       ,  3.95666667,\n",
              "        2.68333333, 18.8       ,  5.39      ,  8.16666667,  4.37      ,\n",
              "       10.84333333,  8.16666667,  0.        ,  9.44333333,  8.89333333,\n",
              "        6.11666667, 10.03666667, 25.23      ,  2.81      ,  9.5       ,\n",
              "       16.32      ,  8.2       ,  4.77666667,  2.68333333,  3.53333333,\n",
              "        4.42      ,  9.73      , 10.05333333,  0.        , 10.1       ,\n",
              "       18.83333333, 18.8       , 11.33      ,  3.46666667, 11.86      ,\n",
              "        9.36666667,  0.40666667,  4.        , 18.5       ,  9.36666667,\n",
              "       15.72666667,  4.55333333, 18.8       , 13.23333333,  7.14333333,\n",
              "        5.71      ,  6.10666667, 10.2       , 11.98666667,  1.64      ,\n",
              "       11.54666667,  0.        ,  0.74      , 17.69      ,  9.73      ,\n",
              "        3.15333333, 12.79666667,  9.5       ,  6.98666667, 12.33333333,\n",
              "       11.80333333, 18.76666667,  4.47333333, 25.23      , 10.83      ,\n",
              "        3.58666667,  6.10666667,  7.14333333, 10.05333333, 18.39      ,\n",
              "        6.98666667,  8.77333333, 10.53333333,  9.84666667,  9.5       ,\n",
              "        4.        ,  8.89333333,  4.46666667,  3.46666667, 16.03333333,\n",
              "       12.56333333,  8.1       , 11.98666667, 14.43666667,  6.93333333,\n",
              "        5.83333333,  7.1       , 11.54666667,  7.66666667, 10.46666667,\n",
              "       13.03333333, 18.39      , 13.23333333,  7.93333333,  3.46666667,\n",
              "       10.84333333, 10.05333333,  2.84      , 25.75      ,  3.95666667,\n",
              "       14.21      ,  2.68333333,  6.61666667,  5.83333333, 12.56333333,\n",
              "       12.36666667,  8.1       ,  5.71      , 10.53333333, 13.25666667,\n",
              "       15.72666667,  9.84666667, 10.40333333,  4.42      , 15.72666667,\n",
              "        3.92      ,  8.27666667,  7.66666667,  9.36666667,  6.11666667,\n",
              "       13.23333333, 12.79666667,  6.66666667,  9.5       ,  6.66666667,\n",
              "        8.77333333,  8.37333333, 19.93333333, 17.46666667,  3.15333333,\n",
              "        2.84      ,  4.20666667,  5.55333333, 25.23      ,  9.91666667,\n",
              "        8.2       , 11.42666667,  8.89333333, 12.56333333, 18.5       ,\n",
              "        6.11666667, 10.55666667, 10.83      , 14.64666667,  3.95666667,\n",
              "       10.2       , 17.52      ,  9.44333333,  7.81      , 19.93333333,\n",
              "        9.5       , 17.73333333,  9.73      ,  9.84666667])"
            ]
          },
          "metadata": {},
          "execution_count": 41
        }
      ]
    },
    {
      "cell_type": "code",
      "source": [
        "# Calculate the mean-squared error.\n",
        "mse = ((y_train - y_train_) ** 2).mean()\n",
        "mse"
      ],
      "metadata": {
        "colab": {
          "base_uri": "https://localhost:8080/"
        },
        "id": "JXHYrFngzywh",
        "outputId": "a141f2be-32c0-4108-a76f-738a12d12d47"
      },
      "execution_count": null,
      "outputs": [
        {
          "output_type": "execute_result",
          "data": {
            "text/plain": [
              "15.61737196679438"
            ]
          },
          "metadata": {},
          "execution_count": 42
        }
      ]
    },
    {
      "cell_type": "code",
      "source": [
        "mean_squared_error(y_train, y_train_)"
      ],
      "metadata": {
        "colab": {
          "base_uri": "https://localhost:8080/"
        },
        "id": "xoEKuz2I0x3D",
        "outputId": "822711be-95e8-46b7-96b0-24a9b3082a80"
      },
      "execution_count": null,
      "outputs": [
        {
          "output_type": "execute_result",
          "data": {
            "text/plain": [
              "15.61737196679438"
            ]
          },
          "metadata": {},
          "execution_count": 43
        }
      ]
    },
    {
      "cell_type": "code",
      "source": [
        "rmse = np.sqrt(mse)\n",
        "rmse"
      ],
      "metadata": {
        "colab": {
          "base_uri": "https://localhost:8080/"
        },
        "id": "Uvt8U34b00Z4",
        "outputId": "14432ba5-c916-41f1-9e4c-45a530141970"
      },
      "execution_count": null,
      "outputs": [
        {
          "output_type": "execute_result",
          "data": {
            "text/plain": [
              "3.951882079059847"
            ]
          },
          "metadata": {},
          "execution_count": 44
        }
      ]
    },
    {
      "cell_type": "markdown",
      "source": [
        "This shows us that the model is, on average, 3.95 points off on their prediction for an individual player's points, which is pretty good."
      ],
      "metadata": {
        "id": "al9G47L2018z"
      }
    },
    {
      "cell_type": "markdown",
      "source": [
        "**Complex K-Nearest Validation/Compatability:**\n",
        "\n",
        "Next, we want to look at the validation/compatability score for the Complex K-Nearst Model. This process will be shown below:"
      ],
      "metadata": {
        "id": "1CGhIzbj09qe"
      }
    },
    {
      "cell_type": "code",
      "source": [
        "ct = make_column_transformer(\n",
        "    (OneHotEncoder(), [\"position\"]),\n",
        "    remainder=\"passthrough\"  # all other columns in X will be dropped.\n",
        ")\n",
        "\n",
        "ct2 = StandardScaler(with_mean = 0)\n",
        "\n",
        "pipeline = make_pipeline(\n",
        "    ct,\n",
        "    ct2,\n",
        "    KNeighborsRegressor(n_neighbors = 3)\n",
        ")\n",
        "\n",
        "pipeline.fit(X=df[[\"usage\", \"actual_height_ft\", \"weight_pounds\", \"position\"]], \n",
        "             y=df[\"pts\"])"
      ],
      "metadata": {
        "colab": {
          "base_uri": "https://localhost:8080/"
        },
        "id": "mUZLGAnW1Nzb",
        "outputId": "6e274d79-6444-4d83-b0fc-9d0b695fe169"
      },
      "execution_count": null,
      "outputs": [
        {
          "output_type": "execute_result",
          "data": {
            "text/plain": [
              "Pipeline(steps=[('columntransformer',\n",
              "                 ColumnTransformer(remainder='passthrough',\n",
              "                                   transformers=[('onehotencoder',\n",
              "                                                  OneHotEncoder(),\n",
              "                                                  ['position'])])),\n",
              "                ('standardscaler', StandardScaler(with_mean=0)),\n",
              "                ('kneighborsregressor', KNeighborsRegressor(n_neighbors=3))])"
            ]
          },
          "metadata": {},
          "execution_count": 45
        }
      ]
    },
    {
      "cell_type": "code",
      "source": [
        "pipeline = make_pipeline(\n",
        "    ct,\n",
        "    KNeighborsRegressor(n_neighbors=10)\n",
        ")\n",
        "\n",
        "pipeline.fit(X=df[[\"usage\", \"actual_height_ft\", \"weight_pounds\", \"position\"]], \n",
        "             y=df[\"pts\"])"
      ],
      "metadata": {
        "colab": {
          "base_uri": "https://localhost:8080/"
        },
        "id": "CA5DOOQ31RVN",
        "outputId": "788d6b24-cc55-48a7-9377-5fca3d050d39"
      },
      "execution_count": null,
      "outputs": [
        {
          "output_type": "execute_result",
          "data": {
            "text/plain": [
              "Pipeline(steps=[('columntransformer',\n",
              "                 ColumnTransformer(remainder='passthrough',\n",
              "                                   transformers=[('onehotencoder',\n",
              "                                                  OneHotEncoder(),\n",
              "                                                  ['position'])])),\n",
              "                ('kneighborsregressor', KNeighborsRegressor(n_neighbors=10))])"
            ]
          },
          "metadata": {},
          "execution_count": 46
        }
      ]
    },
    {
      "cell_type": "code",
      "source": [
        "y = df[\"pts\"]\n",
        "y_train = pipeline.predict(df[[\"usage\", \"actual_height_ft\", \"weight_pounds\", \"position\"]])\n",
        "r2_score(y, y_train)"
      ],
      "metadata": {
        "colab": {
          "base_uri": "https://localhost:8080/"
        },
        "id": "bBoMRZsj1T9Z",
        "outputId": "c337bd08-6e5d-4ac8-820f-6040c376c2d6"
      },
      "execution_count": null,
      "outputs": [
        {
          "output_type": "execute_result",
          "data": {
            "text/plain": [
              "0.5643135546777549"
            ]
          },
          "metadata": {},
          "execution_count": 47
        }
      ]
    },
    {
      "cell_type": "markdown",
      "source": [
        "This shows us that the Complex K-Nearest Model has a compatability rate (or the proportion of variance for a dependent variable explained by an independent variable) of around 56.4%, which isn't the best."
      ],
      "metadata": {
        "id": "Kp5kYUXF1Voc"
      }
    },
    {
      "cell_type": "markdown",
      "source": [
        "Now, we will compare the validation scores for the Simple and Complex Regression Models using negative mean squared error values.\n",
        "\n",
        "**Simple Linear Regression vs. Simple K-Nearest Neighbors Regression Validation:**\n",
        "\n",
        "The process of comparing Simple Linear Regression vs. Simple K-Nearest Neighbors Regression Validation is as follows:"
      ],
      "metadata": {
        "id": "4f9T33Tz1tTr"
      }
    },
    {
      "cell_type": "code",
      "source": [
        "# Train linear regression model\n",
        "linear_model = LinearRegression()\n",
        "linear_model.fit(X=df[[\"usage\"]], y=df[\"pts\"])\n",
        "\n",
        "# Train 10-nearest neighbors model\n",
        "knn_model = make_pipeline(\n",
        "    StandardScaler(),\n",
        "    KNeighborsRegressor(n_neighbors=3)\n",
        ")\n",
        "knn_model.fit(X=df[[\"usage\"]], y=df[\"pts\"])\n",
        "\n",
        "new_player = [[39.96543307]]\n",
        "linear_model.predict(new_player), knn_model.predict(new_player)"
      ],
      "metadata": {
        "colab": {
          "base_uri": "https://localhost:8080/"
        },
        "id": "uNvLGBpI2Tk-",
        "outputId": "a52eab0e-93e8-4b60-b1ce-6cf1f70894e1"
      },
      "execution_count": null,
      "outputs": [
        {
          "output_type": "stream",
          "name": "stderr",
          "text": [
            "/usr/local/lib/python3.8/dist-packages/sklearn/base.py:450: UserWarning: X does not have valid feature names, but LinearRegression was fitted with feature names\n",
            "  warnings.warn(\n",
            "/usr/local/lib/python3.8/dist-packages/sklearn/base.py:450: UserWarning: X does not have valid feature names, but StandardScaler was fitted with feature names\n",
            "  warnings.warn(\n"
          ]
        },
        {
          "output_type": "execute_result",
          "data": {
            "text/plain": [
              "(array([27.83531863]), array([31.07333333]))"
            ]
          },
          "metadata": {},
          "execution_count": 48
        }
      ]
    },
    {
      "cell_type": "code",
      "source": [
        "np.mean([\n",
        "    linear_model.predict(new_player),\n",
        "    knn_model.predict(new_player)\n",
        "])"
      ],
      "metadata": {
        "colab": {
          "base_uri": "https://localhost:8080/"
        },
        "id": "LPdO4WLg2UeM",
        "outputId": "690732c1-2097-4770-9b94-9d180dfda169"
      },
      "execution_count": null,
      "outputs": [
        {
          "output_type": "stream",
          "name": "stderr",
          "text": [
            "/usr/local/lib/python3.8/dist-packages/sklearn/base.py:450: UserWarning: X does not have valid feature names, but LinearRegression was fitted with feature names\n",
            "  warnings.warn(\n",
            "/usr/local/lib/python3.8/dist-packages/sklearn/base.py:450: UserWarning: X does not have valid feature names, but StandardScaler was fitted with feature names\n",
            "  warnings.warn(\n"
          ]
        },
        {
          "output_type": "execute_result",
          "data": {
            "text/plain": [
              "29.454325982565003"
            ]
          },
          "metadata": {},
          "execution_count": 49
        }
      ]
    },
    {
      "cell_type": "code",
      "source": [
        "for model in [linear_model, knn_model]:\n",
        "    print(-cross_val_score(model, X=df[[\"usage\"]], y=df[\"pts\"], cv=5,\n",
        "                           scoring=\"neg_mean_squared_error\").mean())"
      ],
      "metadata": {
        "colab": {
          "base_uri": "https://localhost:8080/"
        },
        "id": "_HDNufEA2XL4",
        "outputId": "d46ec38b-aba9-41d7-c50c-5a264e1fb6fa"
      },
      "execution_count": null,
      "outputs": [
        {
          "output_type": "stream",
          "name": "stdout",
          "text": [
            "21.23598640164944\n",
            "28.80140806303197\n"
          ]
        }
      ]
    },
    {
      "cell_type": "markdown",
      "source": [
        "From this, we can clearly see that the simple linear regression model has a lower negative mean squared error value than the simple k-nearest neighbors model, making it the better choice of the 2 models."
      ],
      "metadata": {
        "id": "6ZV-JIV92dHw"
      }
    },
    {
      "cell_type": "markdown",
      "source": [
        "Additionally, we can also analyze the ensemble model to see if it is better than both models individually. "
      ],
      "metadata": {
        "id": "WHUlOlBJ2m24"
      }
    },
    {
      "cell_type": "code",
      "source": [
        "ensemble_model = VotingRegressor([\n",
        "    (\"linear\", linear_model), \n",
        "    (\"knn\", knn_model)\n",
        "])\n",
        "ensemble_model.fit(X=df[[\"usage\"]], y=df[\"pts\"])\n",
        "ensemble_model.predict(new_player)"
      ],
      "metadata": {
        "colab": {
          "base_uri": "https://localhost:8080/"
        },
        "id": "MbhIXqmZ2u_3",
        "outputId": "7ea87755-4f0d-4597-eb87-ade404fe3318"
      },
      "execution_count": null,
      "outputs": [
        {
          "output_type": "stream",
          "name": "stderr",
          "text": [
            "/usr/local/lib/python3.8/dist-packages/sklearn/base.py:450: UserWarning: X does not have valid feature names, but LinearRegression was fitted with feature names\n",
            "  warnings.warn(\n",
            "/usr/local/lib/python3.8/dist-packages/sklearn/base.py:450: UserWarning: X does not have valid feature names, but StandardScaler was fitted with feature names\n",
            "  warnings.warn(\n"
          ]
        },
        {
          "output_type": "execute_result",
          "data": {
            "text/plain": [
              "array([29.45432598])"
            ]
          },
          "metadata": {},
          "execution_count": 51
        }
      ]
    },
    {
      "cell_type": "code",
      "source": [
        "for model in [linear_model, knn_model, ensemble_model]:\n",
        "    print(-cross_val_score(model, X=df[[\"usage\"]], y=df[\"pts\"], cv=5,\n",
        "                           scoring=\"neg_mean_squared_error\").mean())"
      ],
      "metadata": {
        "colab": {
          "base_uri": "https://localhost:8080/"
        },
        "id": "B8Y38rF93NCs",
        "outputId": "ca259900-a776-4d26-a249-0fe2585a8410"
      },
      "execution_count": null,
      "outputs": [
        {
          "output_type": "stream",
          "name": "stdout",
          "text": [
            "21.23598640164944\n",
            "28.80140806303197\n",
            "23.376419713514487\n"
          ]
        }
      ]
    },
    {
      "cell_type": "markdown",
      "source": [
        "We notice that the ensemble model is better than the simple k-nearest neighbors model, but the simple linear regression model still has the lowest negative mean squared error value of the 3 models."
      ],
      "metadata": {
        "id": "LZ6ueAEo3Rl_"
      }
    },
    {
      "cell_type": "markdown",
      "source": [
        "**Complex Linear Regression vs. Complex K-Nearest Neighbors Validation:**"
      ],
      "metadata": {
        "id": "NQQgcJSp3e7w"
      }
    },
    {
      "cell_type": "code",
      "source": [
        "ct = make_column_transformer(\n",
        "    (OneHotEncoder(), [\"position\"]),\n",
        "    remainder=\"passthrough\"  # all other columns in X will be dropped.\n",
        ")\n",
        "ct"
      ],
      "metadata": {
        "colab": {
          "base_uri": "https://localhost:8080/"
        },
        "id": "fHkQz0lM3plE",
        "outputId": "9739085f-0033-45a4-d39f-ea7894421c3c"
      },
      "execution_count": null,
      "outputs": [
        {
          "output_type": "execute_result",
          "data": {
            "text/plain": [
              "ColumnTransformer(remainder='passthrough',\n",
              "                  transformers=[('onehotencoder', OneHotEncoder(),\n",
              "                                 ['position'])])"
            ]
          },
          "metadata": {},
          "execution_count": 53
        }
      ]
    },
    {
      "cell_type": "code",
      "source": [
        "X_train = df[[\"usage\", \"actual_height_ft\", \"weight_pounds\", \"position\"]]\n",
        "y_train = df[\"pts\"]\n",
        "\n",
        "lin_model = make_pipeline(\n",
        "    ct, \n",
        "    LinearRegression()\n",
        ")\n",
        "\n",
        "# Train linear regression model\n",
        "lin_model.fit(X=X_train, y=y_train)\n",
        "\n",
        "ct = make_column_transformer(\n",
        "    (StandardScaler(), [\"usage\", \"actual_height_ft\", \"weight_pounds\"]),\n",
        "    (OneHotEncoder(), [\"position\"]),\n",
        "    remainder=\"drop\"  # all other columns in X will be dropped.\n",
        ")\n",
        "ct\n",
        "\n",
        "pipeline = make_pipeline(\n",
        "    ct,\n",
        "    KNeighborsRegressor(n_neighbors=3)\n",
        ")\n",
        "\n",
        "pipeline.fit(X=df[[\"usage\", \"actual_height_ft\", \"weight_pounds\", \"position\"]], \n",
        "             y=df[\"pts\"])"
      ],
      "metadata": {
        "colab": {
          "base_uri": "https://localhost:8080/"
        },
        "id": "tJYD_kPi38Pu",
        "outputId": "133e8d0f-3586-416b-c6ec-09f53c94d63d"
      },
      "execution_count": null,
      "outputs": [
        {
          "output_type": "execute_result",
          "data": {
            "text/plain": [
              "Pipeline(steps=[('columntransformer',\n",
              "                 ColumnTransformer(transformers=[('standardscaler',\n",
              "                                                  StandardScaler(),\n",
              "                                                  ['usage', 'actual_height_ft',\n",
              "                                                   'weight_pounds']),\n",
              "                                                 ('onehotencoder',\n",
              "                                                  OneHotEncoder(),\n",
              "                                                  ['position'])])),\n",
              "                ('kneighborsregressor', KNeighborsRegressor(n_neighbors=3))])"
            ]
          },
          "metadata": {},
          "execution_count": 54
        }
      ]
    },
    {
      "cell_type": "code",
      "source": [
        "x_test = pd.Series()\n",
        "x_test[\"usage\"] = 39.96543307\n",
        "x_test[\"actual_height_ft\"] = 6.583333333\n",
        "x_test[\"weight_pounds\"] = 218\n",
        "x_test[\"position\"] = \"F-G\"\n",
        "x_test = pd.DataFrame([x_test])\n",
        "x_test\n",
        "lin_model.predict(x_test)"
      ],
      "metadata": {
        "colab": {
          "base_uri": "https://localhost:8080/"
        },
        "id": "UvJlWXpm3-zr",
        "outputId": "0c2249c0-0a40-4f95-f896-2be0923a0885"
      },
      "execution_count": null,
      "outputs": [
        {
          "output_type": "stream",
          "name": "stderr",
          "text": [
            "<ipython-input-55-a556cd37abbc>:1: DeprecationWarning: The default dtype for empty Series will be 'object' instead of 'float64' in a future version. Specify a dtype explicitly to silence this warning.\n",
            "  x_test = pd.Series()\n"
          ]
        },
        {
          "output_type": "execute_result",
          "data": {
            "text/plain": [
              "array([28.00432534])"
            ]
          },
          "metadata": {},
          "execution_count": 55
        }
      ]
    },
    {
      "cell_type": "code",
      "source": [
        "pipeline.predict(x_test)"
      ],
      "metadata": {
        "colab": {
          "base_uri": "https://localhost:8080/"
        },
        "id": "uhaJQ0514CHD",
        "outputId": "cd1039b5-20e5-4194-abac-2512498ce8c1"
      },
      "execution_count": null,
      "outputs": [
        {
          "output_type": "execute_result",
          "data": {
            "text/plain": [
              "array([31.11])"
            ]
          },
          "metadata": {},
          "execution_count": 56
        }
      ]
    },
    {
      "cell_type": "code",
      "source": [
        "np.mean([\n",
        "    lin_model.predict(x_test),\n",
        "    pipeline.predict(x_test)\n",
        "])"
      ],
      "metadata": {
        "colab": {
          "base_uri": "https://localhost:8080/"
        },
        "id": "lkZLTHvu4EGX",
        "outputId": "701ed138-edca-4dfc-933d-e54af92afe86"
      },
      "execution_count": null,
      "outputs": [
        {
          "output_type": "execute_result",
          "data": {
            "text/plain": [
              "29.55716267106812"
            ]
          },
          "metadata": {},
          "execution_count": 57
        }
      ]
    },
    {
      "cell_type": "code",
      "source": [
        "for model in [lin_model, pipeline]:\n",
        "    print(-cross_val_score(model, X=X_train, y=y_train, cv=5,\n",
        "                           scoring=\"neg_mean_squared_error\").mean())"
      ],
      "metadata": {
        "colab": {
          "base_uri": "https://localhost:8080/"
        },
        "id": "rtc2R_di4Gr5",
        "outputId": "54e0dcbc-df74-4ded-8fa9-d3c4fb097bac"
      },
      "execution_count": null,
      "outputs": [
        {
          "output_type": "stream",
          "name": "stdout",
          "text": [
            "21.970983297385267\n",
            "26.3512195794801\n"
          ]
        }
      ]
    },
    {
      "cell_type": "markdown",
      "source": [
        "From this, we can clearly see that the complex linear regression model has a lower negative mean squared error value than the complex k-nearest neighbors model, making it the better choice of the 2 models."
      ],
      "metadata": {
        "id": "9r4nF-8k4Ncm"
      }
    },
    {
      "cell_type": "markdown",
      "source": [
        "Looking at the ensemble model as well:"
      ],
      "metadata": {
        "id": "0YFK-Vii4XI3"
      }
    },
    {
      "cell_type": "code",
      "source": [
        "ensemble_model = VotingRegressor([\n",
        "    (\"linear\", lin_model), \n",
        "    (\"knn\", pipeline)\n",
        "])\n",
        "ensemble_model.fit(X=X_train, y=y_train)\n",
        "ensemble_model.predict(x_test)"
      ],
      "metadata": {
        "colab": {
          "base_uri": "https://localhost:8080/"
        },
        "id": "YnJGiVVl4aoR",
        "outputId": "b2be4125-8117-495d-ed09-7a1783fb4b52"
      },
      "execution_count": null,
      "outputs": [
        {
          "output_type": "execute_result",
          "data": {
            "text/plain": [
              "array([29.55716267])"
            ]
          },
          "metadata": {},
          "execution_count": 59
        }
      ]
    },
    {
      "cell_type": "code",
      "source": [
        "for model in [lin_model, pipeline, ensemble_model]:\n",
        "    print(-cross_val_score(model, X=X_train, y=y_train, cv=5,\n",
        "                           scoring=\"neg_mean_squared_error\").mean())"
      ],
      "metadata": {
        "colab": {
          "base_uri": "https://localhost:8080/"
        },
        "id": "YboG_s9f4c-d",
        "outputId": "fdd53312-10ad-4512-a32d-ec5f0ae0247a"
      },
      "execution_count": null,
      "outputs": [
        {
          "output_type": "stream",
          "name": "stdout",
          "text": [
            "21.970983297385267\n",
            "26.3512195794801\n",
            "22.26189055358858\n"
          ]
        }
      ]
    },
    {
      "cell_type": "markdown",
      "source": [
        "The ensemble model is better than the complex k-nearest neighbors model, but worse than the complex linear regression model."
      ],
      "metadata": {
        "id": "qwZA-Iii4fEI"
      }
    },
    {
      "cell_type": "markdown",
      "source": [
        "Overall, when we put the 4 models together with their cross-validation scores, we see that the simple linear regression just slightly edges out the complex linear regression in terms of having the lowest negative mean squared error, making it the model we use to make our predictions for any 5 players playing together in a starting lineup."
      ],
      "metadata": {
        "id": "72ljgJ4Y4qhw"
      }
    },
    {
      "cell_type": "markdown",
      "source": [
        "# RUN THESE FUNCTIONS"
      ],
      "metadata": {
        "id": "cRJyNy5rHfKH"
      }
    },
    {
      "cell_type": "markdown",
      "source": [
        "**Updated Function:**\n",
        "\n",
        "The updated function initialized from the beginning is shown below:"
      ],
      "metadata": {
        "id": "9pYDpkJU5A3h"
      }
    },
    {
      "cell_type": "markdown",
      "source": [
        "Load in DataFrame:"
      ],
      "metadata": {
        "id": "Ou9tpP54N9Q4"
      }
    },
    {
      "cell_type": "code",
      "source": [
        "import pandas as pd\n",
        "pd.set_option('display.max_columns', None)\n",
        "\n",
        "df = pd.read_csv('nba_analysis.csv')"
      ],
      "metadata": {
        "id": "O_Gk7n7T5LfQ"
      },
      "execution_count": null,
      "outputs": []
    },
    {
      "cell_type": "markdown",
      "source": [
        "Function set below reads in player from our database:"
      ],
      "metadata": {
        "id": "4LftdzEqOAxg"
      }
    },
    {
      "cell_type": "code",
      "source": [
        "def locate_1():\n",
        "    print('Please enter your team of Five!: \\n')\n",
        "    \n",
        "    t = True\n",
        "    while t:\n",
        "        a = input('Name of Point Guard: ')\n",
        "        if a in list(df['full_name']):\n",
        "            t = False\n",
        "            return a\n",
        "        else:\n",
        "            print('\\n')\n",
        "            print('Name not recognized, please try again.')\n",
        "\n",
        "\n",
        "def locate_2():\n",
        "    \n",
        "    t = True\n",
        "    while t:\n",
        "        b = input('Name of Shooting Guard: ')\n",
        "        if b in list(df['full_name']):\n",
        "            t = False\n",
        "            return b\n",
        "        else:\n",
        "            print('\\n')\n",
        "            print('Name not recognized, please try again.')\n",
        "\n",
        "\n",
        "\n",
        "def locate_3():\n",
        "    \n",
        "    t = True\n",
        "    while t:\n",
        "        a = input('Name of Small Forward: ')\n",
        "        if a in list(df['full_name']):\n",
        "            t = False\n",
        "            return a\n",
        "        else:\n",
        "            print('\\n')\n",
        "            print('Name not recognized, please try again.')\n",
        "            \n",
        "def locate_4():\n",
        "    \n",
        "    t = True\n",
        "    while t:\n",
        "        a = input('Name of Power Forward: ')\n",
        "        if a in list(df['full_name']):\n",
        "            t = False\n",
        "            return a\n",
        "        else:\n",
        "            print('\\n')\n",
        "            print('Name not recognized, please try again.')\n",
        "\n",
        "def locate_5():\n",
        "   \n",
        "    t = True\n",
        "    while t:\n",
        "        a = input('Name of Center: ')\n",
        "        if a in list(df['full_name']):\n",
        "            t = False\n",
        "            return a\n",
        "        else:\n",
        "            print('\\n')\n",
        "            print('Name not recognized, please try again.')\n",
        "\n",
        "def team_builder():\n",
        "    a = locate_1()\n",
        "    b = locate_2()\n",
        "    c = locate_3()\n",
        "    d = locate_4()\n",
        "    e = locate_5()\n",
        "    return [a,b,c,d,e]\n",
        "\n",
        "def locater(a):\n",
        "    appended_data = []\n",
        "    for i in a:\n",
        "        new_loc = df.loc[df['full_name'] == i]\n",
        "        #print(i)\n",
        "        appended_data.append(new_loc)\n",
        "    appended_data = pd.concat(appended_data)\n",
        "    return appended_data\n"
      ],
      "metadata": {
        "id": "HTo8WcruNtOm"
      },
      "execution_count": null,
      "outputs": []
    },
    {
      "cell_type": "markdown",
      "source": [
        "Function below updates usage rate with new user created team and runs prediction:"
      ],
      "metadata": {
        "id": "P8ZiwsdlOF9-"
      }
    },
    {
      "cell_type": "code",
      "source": [
        "def forcasted(old_team):\n",
        "\n",
        "    new = []\n",
        "    #name each team temp \n",
        "    temp = old_team.copy()\n",
        "    #calculate ind_team total minutes played\n",
        "    temp['new_TmMP'] = temp['mpg'].sum()\n",
        "    #calculate ind_team total fga\n",
        "    temp['new_TmFGA'] = temp['fga'].sum()\n",
        "    #calculate ind_team total fta\n",
        "    temp['new_TmFTA'] = temp['fta'].sum()\n",
        "    #calculate ind_team total turnover rate\n",
        "    temp['new_TmTOV'] = temp['turnover'].sum()\n",
        "    #calculate indiv player usage metric within ind_team... usage formula online\n",
        "    temp['new_usage'] = 100 * ((temp['fga'] + 0.44 * temp['fta'] + temp['turnover']) * (temp['new_TmMP'] / 5)) / (temp['mpg'] * (temp['new_TmFGA'] + 0.44 * temp['new_TmFTA'] + temp['new_TmTOV']))\n",
        "\n",
        "\n",
        "    new.append(temp)\n",
        "\n",
        "\n",
        "    new = pd.concat(new)\n",
        "\n",
        "    new['pts'] = 0.83476156 * new['new_usage'] - 5.556495932455569\n",
        "\n",
        "    new['reb'] = 0.15413808 * new['new_usage'] + 0.9763377142292433\n",
        "\n",
        "    new['ast'] = 0.17393668 * new['new_usage'] - 0.3528002733591336\n",
        "\n",
        "    new['stl'] = 0.02194919 * new['new_usage'] + 0.22063825643570223\n",
        "    \n",
        "    mer = pd.DataFrame()\n",
        "\n",
        "    mer['full_name'] = old_team['full_name']\n",
        "    \n",
        "    mer['old_usage'] = old_team['usage']\n",
        "    \n",
        "    mer['new_usage'] = new['new_usage']\n",
        "\n",
        "    mer['old_points'] = old_team['pts']\n",
        "\n",
        "    mer['new_points'] = new['pts']\n",
        "\n",
        "    mer['old_rebound'] = old_team['reb']\n",
        "\n",
        "    mer['new_rebound'] = new['reb']\n",
        "\n",
        "    mer['old_assist'] = old_team['ast']\n",
        "\n",
        "    mer['new_assist'] = new['ast']\n",
        "\n",
        "    mer['old_steal'] = old_team['stl']\n",
        "\n",
        "    mer['new_steal'] = new['stl']\n",
        "\n",
        "    return mer\n"
      ],
      "metadata": {
        "id": "rVLEl6u0NxOf"
      },
      "execution_count": null,
      "outputs": []
    },
    {
      "cell_type": "markdown",
      "source": [
        "These commands bring all the functions togther and builds comparison:"
      ],
      "metadata": {
        "id": "6NS1c2_-OORx"
      }
    },
    {
      "cell_type": "code",
      "source": [
        "builder = team_builder()\n",
        "#old team is the orginal statistics\n",
        "old_team = locater(builder)\n",
        "nba_prediction = forcasted(old_team)"
      ],
      "metadata": {
        "colab": {
          "base_uri": "https://localhost:8080/"
        },
        "id": "q5tsH0bMN4qs",
        "outputId": "cfd0ada6-e5ca-46bd-efe4-10c429ebd6ee"
      },
      "execution_count": null,
      "outputs": [
        {
          "name": "stdout",
          "output_type": "stream",
          "text": [
            "Please enter your team of Five!: \n",
            "\n",
            "Name of Point Guard: Ja Morant\n",
            "Name of Shooting Guard: Desmond Bane\n",
            "Name of Small Forward: Kevin Durant\n",
            "Name of Power Forward: Khem Birchg\n",
            "\n",
            "\n",
            "Name not recognized, please try again.\n",
            "Name of Power Forward: Khem Birch\n",
            "Name of Center: Ivica Zubac\n"
          ]
        }
      ]
    },
    {
      "cell_type": "markdown",
      "source": [
        "Check out the comparison!!!"
      ],
      "metadata": {
        "id": "ECUaAbH0OUY7"
      }
    },
    {
      "cell_type": "markdown",
      "source": [
        "#RUN THESE BELOW TO SEE ANALYSIS"
      ],
      "metadata": {
        "id": "-f_VsJpOHhYb"
      }
    },
    {
      "cell_type": "code",
      "source": [
        "nba_prediction"
      ],
      "metadata": {
        "colab": {
          "base_uri": "https://localhost:8080/",
          "height": 374
        },
        "id": "OgBKfnCTN7bt",
        "outputId": "f93d562b-ea25-4f78-8727-5fe741adeeea"
      },
      "execution_count": null,
      "outputs": [
        {
          "output_type": "execute_result",
          "data": {
            "text/plain": [
              "               full_name  old_usage  new_usage  old_points  new_points  \\\n",
              "193    Russell Westbrook  26.344613  36.722932       13.50   25.098396   \n",
              "175       Reggie Bullock  10.184853  13.161959        6.00    5.430602   \n",
              "178  Dorian Finney-Smith  11.583336  14.969229        7.88    6.939241   \n",
              "317       Garrett Temple   8.140678  11.109822        0.67    3.717556   \n",
              "69            Khem Birch   8.500035  12.320884        1.00    4.728504   \n",
              "\n",
              "     old_rebound  new_rebound  old_assist  new_assist  old_steal  new_steal  \n",
              "193         5.75     6.636740        4.88    6.034665       1.13   1.026677  \n",
              "175         3.00     3.005097        1.00    1.936547       1.13   0.509533  \n",
              "178         4.25     3.283666        0.63    2.250898       0.88   0.549201  \n",
              "317         0.11     2.688784        0.11    1.579605       0.11   0.464490  \n",
              "69          0.56     2.875455        0.11    1.790253       0.33   0.491072  "
            ],
            "text/html": [
              "\n",
              "  <div id=\"df-f4b28c3f-4e58-43e8-a610-7d097aa31635\">\n",
              "    <div class=\"colab-df-container\">\n",
              "      <div>\n",
              "<style scoped>\n",
              "    .dataframe tbody tr th:only-of-type {\n",
              "        vertical-align: middle;\n",
              "    }\n",
              "\n",
              "    .dataframe tbody tr th {\n",
              "        vertical-align: top;\n",
              "    }\n",
              "\n",
              "    .dataframe thead th {\n",
              "        text-align: right;\n",
              "    }\n",
              "</style>\n",
              "<table border=\"1\" class=\"dataframe\">\n",
              "  <thead>\n",
              "    <tr style=\"text-align: right;\">\n",
              "      <th></th>\n",
              "      <th>full_name</th>\n",
              "      <th>old_usage</th>\n",
              "      <th>new_usage</th>\n",
              "      <th>old_points</th>\n",
              "      <th>new_points</th>\n",
              "      <th>old_rebound</th>\n",
              "      <th>new_rebound</th>\n",
              "      <th>old_assist</th>\n",
              "      <th>new_assist</th>\n",
              "      <th>old_steal</th>\n",
              "      <th>new_steal</th>\n",
              "    </tr>\n",
              "  </thead>\n",
              "  <tbody>\n",
              "    <tr>\n",
              "      <th>193</th>\n",
              "      <td>Russell Westbrook</td>\n",
              "      <td>26.344613</td>\n",
              "      <td>36.722932</td>\n",
              "      <td>13.50</td>\n",
              "      <td>25.098396</td>\n",
              "      <td>5.75</td>\n",
              "      <td>6.636740</td>\n",
              "      <td>4.88</td>\n",
              "      <td>6.034665</td>\n",
              "      <td>1.13</td>\n",
              "      <td>1.026677</td>\n",
              "    </tr>\n",
              "    <tr>\n",
              "      <th>175</th>\n",
              "      <td>Reggie Bullock</td>\n",
              "      <td>10.184853</td>\n",
              "      <td>13.161959</td>\n",
              "      <td>6.00</td>\n",
              "      <td>5.430602</td>\n",
              "      <td>3.00</td>\n",
              "      <td>3.005097</td>\n",
              "      <td>1.00</td>\n",
              "      <td>1.936547</td>\n",
              "      <td>1.13</td>\n",
              "      <td>0.509533</td>\n",
              "    </tr>\n",
              "    <tr>\n",
              "      <th>178</th>\n",
              "      <td>Dorian Finney-Smith</td>\n",
              "      <td>11.583336</td>\n",
              "      <td>14.969229</td>\n",
              "      <td>7.88</td>\n",
              "      <td>6.939241</td>\n",
              "      <td>4.25</td>\n",
              "      <td>3.283666</td>\n",
              "      <td>0.63</td>\n",
              "      <td>2.250898</td>\n",
              "      <td>0.88</td>\n",
              "      <td>0.549201</td>\n",
              "    </tr>\n",
              "    <tr>\n",
              "      <th>317</th>\n",
              "      <td>Garrett Temple</td>\n",
              "      <td>8.140678</td>\n",
              "      <td>11.109822</td>\n",
              "      <td>0.67</td>\n",
              "      <td>3.717556</td>\n",
              "      <td>0.11</td>\n",
              "      <td>2.688784</td>\n",
              "      <td>0.11</td>\n",
              "      <td>1.579605</td>\n",
              "      <td>0.11</td>\n",
              "      <td>0.464490</td>\n",
              "    </tr>\n",
              "    <tr>\n",
              "      <th>69</th>\n",
              "      <td>Khem Birch</td>\n",
              "      <td>8.500035</td>\n",
              "      <td>12.320884</td>\n",
              "      <td>1.00</td>\n",
              "      <td>4.728504</td>\n",
              "      <td>0.56</td>\n",
              "      <td>2.875455</td>\n",
              "      <td>0.11</td>\n",
              "      <td>1.790253</td>\n",
              "      <td>0.33</td>\n",
              "      <td>0.491072</td>\n",
              "    </tr>\n",
              "  </tbody>\n",
              "</table>\n",
              "</div>\n",
              "      <button class=\"colab-df-convert\" onclick=\"convertToInteractive('df-f4b28c3f-4e58-43e8-a610-7d097aa31635')\"\n",
              "              title=\"Convert this dataframe to an interactive table.\"\n",
              "              style=\"display:none;\">\n",
              "        \n",
              "  <svg xmlns=\"http://www.w3.org/2000/svg\" height=\"24px\"viewBox=\"0 0 24 24\"\n",
              "       width=\"24px\">\n",
              "    <path d=\"M0 0h24v24H0V0z\" fill=\"none\"/>\n",
              "    <path d=\"M18.56 5.44l.94 2.06.94-2.06 2.06-.94-2.06-.94-.94-2.06-.94 2.06-2.06.94zm-11 1L8.5 8.5l.94-2.06 2.06-.94-2.06-.94L8.5 2.5l-.94 2.06-2.06.94zm10 10l.94 2.06.94-2.06 2.06-.94-2.06-.94-.94-2.06-.94 2.06-2.06.94z\"/><path d=\"M17.41 7.96l-1.37-1.37c-.4-.4-.92-.59-1.43-.59-.52 0-1.04.2-1.43.59L10.3 9.45l-7.72 7.72c-.78.78-.78 2.05 0 2.83L4 21.41c.39.39.9.59 1.41.59.51 0 1.02-.2 1.41-.59l7.78-7.78 2.81-2.81c.8-.78.8-2.07 0-2.86zM5.41 20L4 18.59l7.72-7.72 1.47 1.35L5.41 20z\"/>\n",
              "  </svg>\n",
              "      </button>\n",
              "      \n",
              "  <style>\n",
              "    .colab-df-container {\n",
              "      display:flex;\n",
              "      flex-wrap:wrap;\n",
              "      gap: 12px;\n",
              "    }\n",
              "\n",
              "    .colab-df-convert {\n",
              "      background-color: #E8F0FE;\n",
              "      border: none;\n",
              "      border-radius: 50%;\n",
              "      cursor: pointer;\n",
              "      display: none;\n",
              "      fill: #1967D2;\n",
              "      height: 32px;\n",
              "      padding: 0 0 0 0;\n",
              "      width: 32px;\n",
              "    }\n",
              "\n",
              "    .colab-df-convert:hover {\n",
              "      background-color: #E2EBFA;\n",
              "      box-shadow: 0px 1px 2px rgba(60, 64, 67, 0.3), 0px 1px 3px 1px rgba(60, 64, 67, 0.15);\n",
              "      fill: #174EA6;\n",
              "    }\n",
              "\n",
              "    [theme=dark] .colab-df-convert {\n",
              "      background-color: #3B4455;\n",
              "      fill: #D2E3FC;\n",
              "    }\n",
              "\n",
              "    [theme=dark] .colab-df-convert:hover {\n",
              "      background-color: #434B5C;\n",
              "      box-shadow: 0px 1px 3px 1px rgba(0, 0, 0, 0.15);\n",
              "      filter: drop-shadow(0px 1px 2px rgba(0, 0, 0, 0.3));\n",
              "      fill: #FFFFFF;\n",
              "    }\n",
              "  </style>\n",
              "\n",
              "      <script>\n",
              "        const buttonEl =\n",
              "          document.querySelector('#df-f4b28c3f-4e58-43e8-a610-7d097aa31635 button.colab-df-convert');\n",
              "        buttonEl.style.display =\n",
              "          google.colab.kernel.accessAllowed ? 'block' : 'none';\n",
              "\n",
              "        async function convertToInteractive(key) {\n",
              "          const element = document.querySelector('#df-f4b28c3f-4e58-43e8-a610-7d097aa31635');\n",
              "          const dataTable =\n",
              "            await google.colab.kernel.invokeFunction('convertToInteractive',\n",
              "                                                     [key], {});\n",
              "          if (!dataTable) return;\n",
              "\n",
              "          const docLinkHtml = 'Like what you see? Visit the ' +\n",
              "            '<a target=\"_blank\" href=https://colab.research.google.com/notebooks/data_table.ipynb>data table notebook</a>'\n",
              "            + ' to learn more about interactive tables.';\n",
              "          element.innerHTML = '';\n",
              "          dataTable['output_type'] = 'display_data';\n",
              "          await google.colab.output.renderOutput(dataTable, element);\n",
              "          const docLink = document.createElement('div');\n",
              "          docLink.innerHTML = docLinkHtml;\n",
              "          element.appendChild(docLink);\n",
              "        }\n",
              "      </script>\n",
              "    </div>\n",
              "  </div>\n",
              "  "
            ]
          },
          "metadata": {},
          "execution_count": 78
        }
      ]
    },
    {
      "cell_type": "markdown",
      "source": [
        "**Points**"
      ],
      "metadata": {
        "id": "EEL2t5_DNgCH"
      }
    },
    {
      "cell_type": "code",
      "source": [
        "points = nba_prediction.plot(x=\"full_name\", y=[\"old_points\", \"new_points\"], kind=\"bar\")\n",
        "rebounds = nba_prediction.plot(x=\"full_name\", y=[\"old_rebound\", \"new_rebound\"], kind=\"bar\")\n",
        "assists = nba_prediction.plot(x=\"full_name\", y=[\"old_assist\", \"new_assist\"], kind=\"bar\")\n",
        "steals = nba_prediction.plot(x=\"full_name\", y=[\"old_steal\", \"new_steal\"], kind=\"bar\")\n",
        "usage = nba_prediction.plot(x=\"full_name\", y=[\"old_usage\", \"new_usage\"], kind=\"bar\")\n",
        "\n"
      ],
      "metadata": {
        "colab": {
          "base_uri": "https://localhost:8080/",
          "height": 1000
        },
        "id": "9_l1gjA4PZ8K",
        "outputId": "4fca6e7c-11b7-4afb-8fe0-e34ddd633d53"
      },
      "execution_count": null,
      "outputs": [
        {
          "output_type": "display_data",
          "data": {
            "text/plain": [
              "<Figure size 432x288 with 1 Axes>"
            ],
            "image/png": "[encoded data removed]"
          },
          "metadata": {
            "needs_background": "light"
          }
        },
        {
          "output_type": "display_data",
          "data": {
            "text/plain": [
              "<Figure size 432x288 with 1 Axes>"
            ],
            "image/png": "[encoded data removed]"
          },
          "metadata": {
            "needs_background": "light"
          }
        },
        {
          "output_type": "display_data",
          "data": {
            "text/plain": [
              "<Figure size 432x288 with 1 Axes>"
            ],
            "image/png": "[encoded data removed]"
          },
          "metadata": {
            "needs_background": "light"
          }
        },
        {
          "output_type": "display_data",
          "data": {
            "text/plain": [
              "<Figure size 432x288 with 1 Axes>"
            ],
            "image/png": "[encoded data removed]"
          },
          "metadata": {
            "needs_background": "light"
          }
        },
        {
          "output_type": "display_data",
          "data": {
            "text/plain": [
              "<Figure size 432x288 with 1 Axes>"
            ],
            "image/png": "[encoded data removed]"
          },
          "metadata": {
            "needs_background": "light"
          }
        }
      ]
    },
    {
      "cell_type": "markdown",
      "source": [
        "**Rebounds**"
      ],
      "metadata": {
        "id": "tyEgZw2dNjiB"
      }
    },
    {
      "cell_type": "code",
      "source": [
        "rebounds = nba_prediction.plot(x=\"full_name\", y=[\"old_rebound\", \"new_rebound\"], kind=\"bar\")"
      ],
      "metadata": {
        "colab": {
          "base_uri": "https://localhost:8080/",
          "height": 348
        },
        "id": "9P0vu0IaNGKs",
        "outputId": "ab4c5ae2-3885-4fdb-98e6-173b6174aa81"
      },
      "execution_count": null,
      "outputs": [
        {
          "output_type": "display_data",
          "data": {
            "text/plain": [
              "<Figure size 432x288 with 1 Axes>"
            ],
            "image/png": "[encoded data removed]"
          },
          "metadata": {
            "needs_background": "light"
          }
        }
      ]
    },
    {
      "cell_type": "markdown",
      "source": [
        "**Assists**"
      ],
      "metadata": {
        "id": "Sab_INkhNo-V"
      }
    },
    {
      "cell_type": "code",
      "source": [
        "assists = nba_prediction.plot(x=\"full_name\", y=[\"old_assist\", \"new_assist\"], kind=\"bar\")"
      ],
      "metadata": {
        "colab": {
          "base_uri": "https://localhost:8080/",
          "height": 346
        },
        "id": "3T57Or_MNJwd",
        "outputId": "b8cd7615-6fb0-4db6-a78a-b3fe3538ab1c"
      },
      "execution_count": null,
      "outputs": [
        {
          "output_type": "display_data",
          "data": {
            "text/plain": [
              "<Figure size 432x288 with 1 Axes>"
            ],
            "image/png": "[encoded data removed]"
          },
          "metadata": {
            "needs_background": "light"
          }
        }
      ]
    },
    {
      "cell_type": "markdown",
      "source": [
        "**Steals**"
      ],
      "metadata": {
        "id": "1fvRoJ3GNssM"
      }
    },
    {
      "cell_type": "code",
      "source": [
        "steals = nba_prediction.plot(x=\"full_name\", y=[\"old_steal\", \"new_steal\"], kind=\"bar\")"
      ],
      "metadata": {
        "colab": {
          "base_uri": "https://localhost:8080/",
          "height": 346
        },
        "id": "x6TkkHVbNxaa",
        "outputId": "d4217311-08f3-4257-9cad-ab247e072cdc"
      },
      "execution_count": null,
      "outputs": [
        {
          "output_type": "display_data",
          "data": {
            "text/plain": [
              "<Figure size 432x288 with 1 Axes>"
            ],
            "image/png": "[encoded data removed]"
          },
          "metadata": {
            "needs_background": "light"
          }
        }
      ]
    },
    {
      "cell_type": "markdown",
      "source": [
        "# Conclusion:\n",
        "\n",
        "Overall, I believe that the model did a pretty good job with assessing the individual statistics for any given starting lineup in the NBA. However, there were a few limitations that served as obstacles during this project. \n",
        "\n",
        "This includes:\n",
        "\n",
        "1) Not having access to advanced statistics, such as plus/minus or per 48 statistics for each player\n",
        "\n",
        "2) Having limited definition for positions (complex models will tend to take into account average of positions for point predictions)\n",
        "\n",
        "3) Encontering players with abnormally high usage rates due to a lack of games played\n",
        "\n",
        "The models will definitely favor players with higher usage rates due to the positive relationship between usage rate and points. This makes it ideal to experiment with high usage rate players and mix and match starting fives with varying usage rates. For example, Russell Westbrook seemed to record better individual statistics when he played with more players with low usage rates as opposed to when he played with more players with medium to high usage rate players. This makes sense because we would expect that if Russell Westbrook was the highest usage rate player in the starting lineup, he would be having the ball for a lot of the possessions, meaning his productivity will increase. On the contrary, Westbrook playing with other players who demand the ball more frequently will affect his individual player statistics as he will have less time with the ball, decreasing his overall productivity. We would be able to apply this same logic for other players with similar usage rates. As for players with small or medium usage rates, they will typically see a decrease in productivity when playing with high usage rate players but see an increase when playing with other small or medium usage rate players. This is because eliminating the presence of a high usage rate player in any given lineup will allow the machine learning to give priority in predictions to those same players, which means they will get a boost in their predicted overall season statistics."
      ],
      "metadata": {
        "id": "OejdQTOG5VIW"
      }
    }
  ]
}